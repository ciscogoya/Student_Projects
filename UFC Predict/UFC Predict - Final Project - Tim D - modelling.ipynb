{
 "cells": [
  {
   "cell_type": "code",
   "execution_count": null,
   "metadata": {},
   "outputs": [],
   "source": []
  },
  {
   "cell_type": "code",
   "execution_count": 2,
   "metadata": {},
   "outputs": [],
   "source": [
    "import matplotlib.pyplot as plt\n",
    "import numpy as np\n",
    "import scipy.stats as stats\n",
    "import seaborn as sns\n",
    "import pandas as pd"
   ]
  },
  {
   "cell_type": "code",
   "execution_count": 210,
   "metadata": {},
   "outputs": [
    {
     "data": {
      "text/plain": [
       "(4178, 57)"
      ]
     },
     "execution_count": 210,
     "metadata": {},
     "output_type": "execute_result"
    }
   ],
   "source": [
    "df_dummies=pd.read_csv('UFC_dummies.csv')\n",
    "df_dummies.shape"
   ]
  },
  {
   "cell_type": "code",
   "execution_count": 211,
   "metadata": {},
   "outputs": [],
   "source": [
    "df_dummies.Winner = df_dummies.Winner.str.replace('Red','0')\n",
    "df_dummies.Winner = df_dummies.Winner.str.replace('Blue','1')\n",
    "df_dummies.Winner = df_dummies.Winner.str.replace('Draw','2')"
   ]
  },
  {
   "cell_type": "code",
   "execution_count": 212,
   "metadata": {},
   "outputs": [
    {
     "data": {
      "text/plain": [
       "0    2649\n",
       "1    1461\n",
       "2      68\n",
       "Name: Winner, dtype: int64"
      ]
     },
     "execution_count": 212,
     "metadata": {},
     "output_type": "execute_result"
    }
   ],
   "source": [
    "df_dummies.Winner = pd.to_numeric(df_dummies.Winner)\n",
    "df_dummies.Winner.value_counts()"
   ]
  },
  {
   "cell_type": "code",
   "execution_count": 213,
   "metadata": {},
   "outputs": [
    {
     "data": {
      "text/plain": [
       "(4110, 57)"
      ]
     },
     "execution_count": 213,
     "metadata": {},
     "output_type": "execute_result"
    }
   ],
   "source": [
    "df_dummies_draw = df_dummies[df_dummies.Winner != 2]\n",
    "df_dummies_draw.shape"
   ]
  },
  {
   "cell_type": "code",
   "execution_count": 215,
   "metadata": {},
   "outputs": [
    {
     "name": "stderr",
     "output_type": "stream",
     "text": [
      "/anaconda3/lib/python3.7/site-packages/ipykernel_launcher.py:1: SettingWithCopyWarning: \n",
      "A value is trying to be set on a copy of a slice from a DataFrame.\n",
      "Try using .loc[row_indexer,col_indexer] = value instead\n",
      "\n",
      "See the caveats in the documentation: http://pandas.pydata.org/pandas-docs/stable/indexing.html#indexing-view-versus-copy\n",
      "  \"\"\"Entry point for launching an IPython kernel.\n",
      "/anaconda3/lib/python3.7/site-packages/ipykernel_launcher.py:2: SettingWithCopyWarning: \n",
      "A value is trying to be set on a copy of a slice from a DataFrame.\n",
      "Try using .loc[row_indexer,col_indexer] = value instead\n",
      "\n",
      "See the caveats in the documentation: http://pandas.pydata.org/pandas-docs/stable/indexing.html#indexing-view-versus-copy\n",
      "  \n",
      "/anaconda3/lib/python3.7/site-packages/ipykernel_launcher.py:3: SettingWithCopyWarning: \n",
      "A value is trying to be set on a copy of a slice from a DataFrame.\n",
      "Try using .loc[row_indexer,col_indexer] = value instead\n",
      "\n",
      "See the caveats in the documentation: http://pandas.pydata.org/pandas-docs/stable/indexing.html#indexing-view-versus-copy\n",
      "  This is separate from the ipykernel package so we can avoid doing imports until\n",
      "/anaconda3/lib/python3.7/site-packages/ipykernel_launcher.py:4: SettingWithCopyWarning: \n",
      "A value is trying to be set on a copy of a slice from a DataFrame.\n",
      "Try using .loc[row_indexer,col_indexer] = value instead\n",
      "\n",
      "See the caveats in the documentation: http://pandas.pydata.org/pandas-docs/stable/indexing.html#indexing-view-versus-copy\n",
      "  after removing the cwd from sys.path.\n",
      "/anaconda3/lib/python3.7/site-packages/pandas/core/frame.py:3940: SettingWithCopyWarning: \n",
      "A value is trying to be set on a copy of a slice from a DataFrame\n",
      "\n",
      "See the caveats in the documentation: http://pandas.pydata.org/pandas-docs/stable/indexing.html#indexing-view-versus-copy\n",
      "  errors=errors)\n"
     ]
    },
    {
     "data": {
      "text/plain": [
       "(4110, 53)"
      ]
     },
     "execution_count": 215,
     "metadata": {},
     "output_type": "execute_result"
    }
   ],
   "source": [
    "df_dummies_draw[\"B_Height_ratio\"] = df_dummies_draw.B_Height_cms / df_dummies_draw.R_Height_cms\n",
    "df_dummies_draw[\"B_Reach_ratio\"] = df_dummies_draw.B_Reach_cms / df_dummies_draw.R_Reach_cms\n",
    "df_dummies_draw[\"B_Weight_ratio\"] = df_dummies_draw.B_Weight_lbs / df_dummies_draw.R_Weight_lbs\n",
    "df_dummies_draw[\"B_age_ratio\"] = df_dummies_draw.B_age / df_dummies_draw.R_age\n",
    "df_dummies_draw.drop(columns=[\"B_age\",\"R_age\",\"B_Height_cms\",\"R_Height_cms\",\"B_Reach_cms\",\"R_Reach_cms\",\"B_Weight_lbs\",\"R_Weight_lbs\"], axis=1, inplace=True)\n",
    "df_dummies_draw.shape"
   ]
  },
  {
   "cell_type": "code",
   "execution_count": 216,
   "metadata": {},
   "outputs": [],
   "source": [
    "stdz_columns_list = [df_dummies_draw[\"B_current_lose_streak\"],df_dummies_draw[\"B_age_ratio\"],df_dummies_draw[\"B_current_win_streak\"],df_dummies_draw[\"B_longest_win_streak\"],df_dummies_draw[\"B_losses\"],df_dummies_draw[\"B_total_rounds_fought\"],df_dummies_draw[\"B_total_title_bouts\"],df_dummies_draw[\"B_win_by_Decision_Majority\"],df_dummies_draw[\"B_win_by_Decision_Split\"],df_dummies_draw[\"B_win_by_Decision_Unanimous\"],df_dummies_draw[\"B_win_by_KO/TKO\"],df_dummies_draw[\"B_win_by_Submission\"],df_dummies_draw[\"B_win_by_TKO_Doctor_Stoppage\"],df_dummies_draw[\"B_wins\"],df_dummies_draw[\"B_Height_ratio\"],df_dummies_draw[\"B_Reach_ratio\"],df_dummies_draw[\"B_Weight_ratio\"],df_dummies_draw[\"R_current_lose_streak\"],df_dummies_draw[\"R_current_win_streak\"],df_dummies_draw[\"R_longest_win_streak\"],df_dummies_draw[\"R_losses\"],df_dummies_draw[\"R_total_rounds_fought\"],df_dummies_draw[\"R_total_title_bouts\"],df_dummies_draw[\"R_win_by_Decision_Majority\"],df_dummies_draw[\"R_win_by_Decision_Split\"],df_dummies_draw[\"R_win_by_Decision_Unanimous\"],df_dummies_draw[\"R_win_by_KO/TKO\"],df_dummies_draw[\"R_win_by_Submission\"],df_dummies_draw[\"R_win_by_TKO_Doctor_Stoppage\"],df_dummies_draw[\"R_wins\"]]"
   ]
  },
  {
   "cell_type": "code",
   "execution_count": 217,
   "metadata": {},
   "outputs": [
    {
     "name": "stdout",
     "output_type": "stream",
     "text": [
      "(4110, 30)\n"
     ]
    },
    {
     "data": {
      "text/html": [
       "<div>\n",
       "<style scoped>\n",
       "    .dataframe tbody tr th:only-of-type {\n",
       "        vertical-align: middle;\n",
       "    }\n",
       "\n",
       "    .dataframe tbody tr th {\n",
       "        vertical-align: top;\n",
       "    }\n",
       "\n",
       "    .dataframe thead th {\n",
       "        text-align: right;\n",
       "    }\n",
       "</style>\n",
       "<table border=\"1\" class=\"dataframe\">\n",
       "  <thead>\n",
       "    <tr style=\"text-align: right;\">\n",
       "      <th></th>\n",
       "      <th>B_current_lose_streak</th>\n",
       "      <th>B_age_ratio</th>\n",
       "      <th>B_current_win_streak</th>\n",
       "      <th>B_longest_win_streak</th>\n",
       "      <th>B_losses</th>\n",
       "      <th>B_total_rounds_fought</th>\n",
       "      <th>B_total_title_bouts</th>\n",
       "      <th>B_win_by_Decision_Majority</th>\n",
       "      <th>B_win_by_Decision_Split</th>\n",
       "      <th>B_win_by_Decision_Unanimous</th>\n",
       "      <th>...</th>\n",
       "      <th>R_losses</th>\n",
       "      <th>R_total_rounds_fought</th>\n",
       "      <th>R_total_title_bouts</th>\n",
       "      <th>R_win_by_Decision_Majority</th>\n",
       "      <th>R_win_by_Decision_Split</th>\n",
       "      <th>R_win_by_Decision_Unanimous</th>\n",
       "      <th>R_win_by_KO/TKO</th>\n",
       "      <th>R_win_by_Submission</th>\n",
       "      <th>R_win_by_TKO_Doctor_Stoppage</th>\n",
       "      <th>R_wins</th>\n",
       "    </tr>\n",
       "  </thead>\n",
       "  <tbody>\n",
       "    <tr>\n",
       "      <th>0</th>\n",
       "      <td>0.0</td>\n",
       "      <td>0.334677</td>\n",
       "      <td>0.333333</td>\n",
       "      <td>0.2500</td>\n",
       "      <td>0.076923</td>\n",
       "      <td>0.120000</td>\n",
       "      <td>0.0000</td>\n",
       "      <td>0.0</td>\n",
       "      <td>0.2</td>\n",
       "      <td>0.0</td>\n",
       "      <td>...</td>\n",
       "      <td>0.142857</td>\n",
       "      <td>0.3375</td>\n",
       "      <td>0.1875</td>\n",
       "      <td>0.0</td>\n",
       "      <td>0.4</td>\n",
       "      <td>0.4</td>\n",
       "      <td>0.181818</td>\n",
       "      <td>0.000000</td>\n",
       "      <td>0.0</td>\n",
       "      <td>0.40</td>\n",
       "    </tr>\n",
       "    <tr>\n",
       "      <th>1</th>\n",
       "      <td>0.0</td>\n",
       "      <td>0.388762</td>\n",
       "      <td>0.250000</td>\n",
       "      <td>0.1875</td>\n",
       "      <td>0.461538</td>\n",
       "      <td>0.386667</td>\n",
       "      <td>0.0000</td>\n",
       "      <td>0.0</td>\n",
       "      <td>0.4</td>\n",
       "      <td>0.1</td>\n",
       "      <td>...</td>\n",
       "      <td>0.142857</td>\n",
       "      <td>0.3125</td>\n",
       "      <td>0.1250</td>\n",
       "      <td>0.0</td>\n",
       "      <td>0.2</td>\n",
       "      <td>0.2</td>\n",
       "      <td>0.000000</td>\n",
       "      <td>0.153846</td>\n",
       "      <td>0.0</td>\n",
       "      <td>0.25</td>\n",
       "    </tr>\n",
       "    <tr>\n",
       "      <th>2</th>\n",
       "      <td>0.0</td>\n",
       "      <td>0.385622</td>\n",
       "      <td>0.250000</td>\n",
       "      <td>0.5000</td>\n",
       "      <td>0.615385</td>\n",
       "      <td>0.906667</td>\n",
       "      <td>0.0625</td>\n",
       "      <td>0.0</td>\n",
       "      <td>0.0</td>\n",
       "      <td>0.7</td>\n",
       "      <td>...</td>\n",
       "      <td>0.071429</td>\n",
       "      <td>0.4125</td>\n",
       "      <td>0.1250</td>\n",
       "      <td>0.0</td>\n",
       "      <td>0.2</td>\n",
       "      <td>0.3</td>\n",
       "      <td>0.272727</td>\n",
       "      <td>0.461538</td>\n",
       "      <td>0.5</td>\n",
       "      <td>0.70</td>\n",
       "    </tr>\n",
       "    <tr>\n",
       "      <th>3</th>\n",
       "      <td>0.0</td>\n",
       "      <td>0.273192</td>\n",
       "      <td>0.333333</td>\n",
       "      <td>0.2500</td>\n",
       "      <td>0.000000</td>\n",
       "      <td>0.120000</td>\n",
       "      <td>0.0000</td>\n",
       "      <td>0.0</td>\n",
       "      <td>0.0</td>\n",
       "      <td>0.2</td>\n",
       "      <td>...</td>\n",
       "      <td>0.142857</td>\n",
       "      <td>0.2500</td>\n",
       "      <td>0.0000</td>\n",
       "      <td>0.0</td>\n",
       "      <td>0.2</td>\n",
       "      <td>0.4</td>\n",
       "      <td>0.090909</td>\n",
       "      <td>0.000000</td>\n",
       "      <td>0.0</td>\n",
       "      <td>0.30</td>\n",
       "    </tr>\n",
       "    <tr>\n",
       "      <th>4</th>\n",
       "      <td>0.0</td>\n",
       "      <td>0.557816</td>\n",
       "      <td>0.083333</td>\n",
       "      <td>0.0625</td>\n",
       "      <td>0.076923</td>\n",
       "      <td>0.106667</td>\n",
       "      <td>0.0000</td>\n",
       "      <td>0.0</td>\n",
       "      <td>0.0</td>\n",
       "      <td>0.1</td>\n",
       "      <td>...</td>\n",
       "      <td>0.071429</td>\n",
       "      <td>0.0875</td>\n",
       "      <td>0.0000</td>\n",
       "      <td>0.0</td>\n",
       "      <td>0.0</td>\n",
       "      <td>0.1</td>\n",
       "      <td>0.181818</td>\n",
       "      <td>0.000000</td>\n",
       "      <td>0.0</td>\n",
       "      <td>0.15</td>\n",
       "    </tr>\n",
       "  </tbody>\n",
       "</table>\n",
       "<p>5 rows × 30 columns</p>\n",
       "</div>"
      ],
      "text/plain": [
       "   B_current_lose_streak  B_age_ratio  B_current_win_streak  \\\n",
       "0                    0.0     0.334677              0.333333   \n",
       "1                    0.0     0.388762              0.250000   \n",
       "2                    0.0     0.385622              0.250000   \n",
       "3                    0.0     0.273192              0.333333   \n",
       "4                    0.0     0.557816              0.083333   \n",
       "\n",
       "   B_longest_win_streak  B_losses  B_total_rounds_fought  B_total_title_bouts  \\\n",
       "0                0.2500  0.076923               0.120000               0.0000   \n",
       "1                0.1875  0.461538               0.386667               0.0000   \n",
       "2                0.5000  0.615385               0.906667               0.0625   \n",
       "3                0.2500  0.000000               0.120000               0.0000   \n",
       "4                0.0625  0.076923               0.106667               0.0000   \n",
       "\n",
       "   B_win_by_Decision_Majority  B_win_by_Decision_Split  \\\n",
       "0                         0.0                      0.2   \n",
       "1                         0.0                      0.4   \n",
       "2                         0.0                      0.0   \n",
       "3                         0.0                      0.0   \n",
       "4                         0.0                      0.0   \n",
       "\n",
       "   B_win_by_Decision_Unanimous  ...  R_losses  R_total_rounds_fought  \\\n",
       "0                          0.0  ...  0.142857                 0.3375   \n",
       "1                          0.1  ...  0.142857                 0.3125   \n",
       "2                          0.7  ...  0.071429                 0.4125   \n",
       "3                          0.2  ...  0.142857                 0.2500   \n",
       "4                          0.1  ...  0.071429                 0.0875   \n",
       "\n",
       "   R_total_title_bouts  R_win_by_Decision_Majority  R_win_by_Decision_Split  \\\n",
       "0               0.1875                         0.0                      0.4   \n",
       "1               0.1250                         0.0                      0.2   \n",
       "2               0.1250                         0.0                      0.2   \n",
       "3               0.0000                         0.0                      0.2   \n",
       "4               0.0000                         0.0                      0.0   \n",
       "\n",
       "   R_win_by_Decision_Unanimous  R_win_by_KO/TKO  R_win_by_Submission  \\\n",
       "0                          0.4         0.181818             0.000000   \n",
       "1                          0.2         0.000000             0.153846   \n",
       "2                          0.3         0.272727             0.461538   \n",
       "3                          0.4         0.090909             0.000000   \n",
       "4                          0.1         0.181818             0.000000   \n",
       "\n",
       "   R_win_by_TKO_Doctor_Stoppage  R_wins  \n",
       "0                           0.0    0.40  \n",
       "1                           0.0    0.25  \n",
       "2                           0.5    0.70  \n",
       "3                           0.0    0.30  \n",
       "4                           0.0    0.15  \n",
       "\n",
       "[5 rows x 30 columns]"
      ]
     },
     "execution_count": 217,
     "metadata": {},
     "output_type": "execute_result"
    }
   ],
   "source": [
    "from sklearn.preprocessing import MinMaxScaler\n",
    "\n",
    "min_max_scaler = MinMaxScaler()\n",
    "\n",
    "stdz = pd.DataFrame()\n",
    "for column in stdz_columns_list:\n",
    "    stdz[column.name]=[i[0] for i in min_max_scaler.fit_transform(column.values.reshape(-1,1))]\n",
    "\n",
    "stdz = stdz.reset_index(drop=True)\n",
    "print(stdz.shape)\n",
    "stdz.head()"
   ]
  },
  {
   "cell_type": "code",
   "execution_count": 3,
   "metadata": {
    "scrolled": false
   },
   "outputs": [
    {
     "name": "stdout",
     "output_type": "stream",
     "text": [
      "Winner\n",
      "title_bout\n",
      "B_current_lose_streak\n",
      "B_current_win_streak\n",
      "B_longest_win_streak\n",
      "B_losses\n",
      "B_total_rounds_fought\n",
      "B_total_title_bouts\n",
      "B_win_by_Decision_Majority\n",
      "B_win_by_Decision_Split\n",
      "B_win_by_Decision_Unanimous\n",
      "B_win_by_KO/TKO\n",
      "B_win_by_Submission\n",
      "B_win_by_TKO_Doctor_Stoppage\n",
      "B_wins\n",
      "B_Height_cms\n",
      "B_Reach_cms\n",
      "B_Weight_lbs\n",
      "R_current_lose_streak\n",
      "R_current_win_streak\n",
      "R_longest_win_streak\n",
      "R_losses\n",
      "R_total_rounds_fought\n",
      "R_total_title_bouts\n",
      "R_win_by_Decision_Majority\n",
      "R_win_by_Decision_Split\n",
      "R_win_by_Decision_Unanimous\n",
      "R_win_by_KO/TKO\n",
      "R_win_by_Submission\n",
      "R_win_by_TKO_Doctor_Stoppage\n",
      "R_wins\n",
      "R_Height_cms\n",
      "R_Reach_cms\n",
      "R_Weight_lbs\n",
      "B_age\n",
      "R_age\n",
      "weight_class_Catch Weight\n",
      "weight_class_Featherweight\n",
      "weight_class_Flyweight\n",
      "weight_class_Heavyweight\n",
      "weight_class_Light Heavyweight\n",
      "weight_class_Lightweight\n",
      "weight_class_Middleweight\n",
      "weight_class_Welterweight\n",
      "weight_class_Women's Bantamweight\n",
      "weight_class_Women's Featherweight\n",
      "weight_class_Women's Flyweight\n",
      "weight_class_Women's Strawweight\n",
      "B_Stance_Orthodox\n",
      "B_Stance_Southpaw\n",
      "B_Stance_Switch\n",
      "R_Stance_Orthodox\n",
      "R_Stance_Southpaw\n",
      "R_Stance_Switch\n",
      "no_of_rounds_3\n",
      "no_of_rounds_4\n",
      "no_of_rounds_5\n"
     ]
    },
    {
     "data": {
      "text/plain": [
       "[None,\n",
       " None,\n",
       " None,\n",
       " None,\n",
       " None,\n",
       " None,\n",
       " None,\n",
       " None,\n",
       " None,\n",
       " None,\n",
       " None,\n",
       " None,\n",
       " None,\n",
       " None,\n",
       " None,\n",
       " None,\n",
       " None,\n",
       " None,\n",
       " None,\n",
       " None,\n",
       " None,\n",
       " None,\n",
       " None,\n",
       " None,\n",
       " None,\n",
       " None,\n",
       " None,\n",
       " None,\n",
       " None,\n",
       " None,\n",
       " None,\n",
       " None,\n",
       " None,\n",
       " None,\n",
       " None,\n",
       " None,\n",
       " None,\n",
       " None,\n",
       " None,\n",
       " None,\n",
       " None,\n",
       " None,\n",
       " None,\n",
       " None,\n",
       " None,\n",
       " None,\n",
       " None,\n",
       " None,\n",
       " None,\n",
       " None,\n",
       " None,\n",
       " None,\n",
       " None,\n",
       " None,\n",
       " None,\n",
       " None,\n",
       " None]"
      ]
     },
     "execution_count": 3,
     "metadata": {},
     "output_type": "execute_result"
    }
   ],
   "source": [
    "[print(i) for i in df_dummies.columns]"
   ]
  },
  {
   "cell_type": "code",
   "execution_count": 219,
   "metadata": {},
   "outputs": [],
   "source": [
    "df_dummies_draw = df_dummies_draw.reset_index(drop=True)\n",
    "stdz = stdz.reset_index(drop=True)"
   ]
  },
  {
   "cell_type": "code",
   "execution_count": 220,
   "metadata": {},
   "outputs": [
    {
     "data": {
      "text/plain": [
       "(4110, 53)"
      ]
     },
     "execution_count": 220,
     "metadata": {},
     "output_type": "execute_result"
    }
   ],
   "source": [
    "stdz_mrg = df_dummies_draw[['weight_class_Catch Weight','weight_class_Featherweight','weight_class_Flyweight','weight_class_Heavyweight','weight_class_Light Heavyweight','weight_class_Lightweight','weight_class_Middleweight','weight_class_Welterweight',\"weight_class_Women's Bantamweight\",\"weight_class_Women's Featherweight\",\"weight_class_Women's Flyweight\",\"weight_class_Women's Strawweight\",'B_Stance_Orthodox','B_Stance_Southpaw','B_Stance_Switch','R_Stance_Orthodox','R_Stance_Southpaw','R_Stance_Switch','no_of_rounds_3','no_of_rounds_4','no_of_rounds_5','title_bout','Winner']].merge(stdz, how='inner', left_index=True, right_index=True)\n",
    "stdz_mrg.head()\n",
    "stdz_mrg.shape"
   ]
  },
  {
   "cell_type": "code",
   "execution_count": 229,
   "metadata": {},
   "outputs": [],
   "source": [
    "# Backup\n",
    "\n",
    "stdz_mrg.to_csv('UFC_stdz_mrg.csv', index=False)"
   ]
  },
  {
   "cell_type": "code",
   "execution_count": 150,
   "metadata": {},
   "outputs": [
    {
     "data": {
      "text/plain": [
       "1.1690140845070423"
      ]
     },
     "execution_count": 150,
     "metadata": {},
     "output_type": "execute_result"
    }
   ],
   "source": [
    "max(df_dummies_draw.B_Height_ratio)"
   ]
  },
  {
   "cell_type": "code",
   "execution_count": 165,
   "metadata": {},
   "outputs": [
    {
     "name": "stdout",
     "output_type": "stream",
     "text": [
      "0.0\n",
      "0.9999999999999996\n",
      "0.0\n",
      "1.0\n",
      "0.0\n",
      "1.0\n"
     ]
    }
   ],
   "source": [
    "print(min(stdz_mrg.B_Height_ratio))\n",
    "print(max(stdz_mrg.B_Height_ratio))\n",
    "\n",
    "print(min(stdz_mrg.B_Reach_ratio))\n",
    "print(max(stdz_mrg.B_Reach_ratio))\n",
    "\n",
    "print(min(stdz_mrg.B_Weight_ratio))\n",
    "print(max(stdz_mrg.B_Weight_ratio))"
   ]
  },
  {
   "cell_type": "markdown",
   "metadata": {},
   "source": [
    "# Train / Test split"
   ]
  },
  {
   "cell_type": "code",
   "execution_count": 222,
   "metadata": {},
   "outputs": [
    {
     "name": "stdout",
     "output_type": "stream",
     "text": [
      "(822, 52)\n",
      "(822,)\n",
      "(3288, 52)\n",
      "(3288,)\n"
     ]
    }
   ],
   "source": [
    "from sklearn.model_selection import train_test_split\n",
    "\n",
    "win = stdz_mrg['Winner']\n",
    "other_variables = stdz_mrg.loc[:, ~stdz_mrg.columns.isin(['Winner'])]\n",
    "X_train, X_test, y_train, y_test = train_test_split(other_variables, win, test_size=0.2,random_state=42)\n",
    "print(X_test.shape)\n",
    "print(y_test.shape)\n",
    "print(X_train.shape)\n",
    "print(y_train.shape)"
   ]
  },
  {
   "cell_type": "code",
   "execution_count": 120,
   "metadata": {},
   "outputs": [
    {
     "name": "stdout",
     "output_type": "stream",
     "text": [
      "(822, 51)\n",
      "(822,)\n",
      "(3288, 51)\n",
      "(3288,)\n"
     ]
    }
   ],
   "source": [
    "\"\"\"win_draw = stdz_mrg_draw['Winner']\n",
    "other_variables_draw = stdz_mrg_draw.loc[:, ~stdz_mrg_draw.columns.isin(['Winner'])]\n",
    "X_train_draw, X_test_draw, y_train_draw, y_test_draw = train_test_split(other_variables_draw, win_draw, test_size=0.2,random_state=42)\n",
    "print(X_test_draw.shape)\n",
    "print(y_test_draw.shape)\n",
    "print(X_train_draw.shape)\n",
    "print(y_train_draw.shape)\"\"\""
   ]
  },
  {
   "cell_type": "code",
   "execution_count": null,
   "metadata": {},
   "outputs": [],
   "source": [
    "\n"
   ]
  },
  {
   "cell_type": "code",
   "execution_count": 223,
   "metadata": {},
   "outputs": [
    {
     "name": "stdout",
     "output_type": "stream",
     "text": [
      "[0.         0.01071986 0.         0.         0.00477802 0.\n",
      " 0.00092963 0.         0.00160496 0.         0.00380137 0.\n",
      " 0.00100075 0.00314499 0.         0.0048527  0.00805703 0.00081238\n",
      " 0.         0.         0.00642097 0.02122166 0.00336649 0.23208477\n",
      " 0.01189606 0.00589327 0.003288   0.00820349 0.02693307 0.00119719\n",
      " 0.00361783 0.01351251 0.00146051 0.00609571 0.         0.01438734\n",
      " 0.01906024 0.04541575 0.06849398 0.02303589 0.03114833 0.00455534\n",
      " 0.15825516 0.06851968 0.01960468 0.00606442 0.07481574 0.0216291\n",
      " 0.01000178 0.0099303  0.         0.04018903]\n",
      "[[512   0]\n",
      " [310   0]]\n"
     ]
    }
   ],
   "source": [
    "from sklearn.ensemble import RandomForestClassifier\n",
    "from sklearn.metrics import confusion_matrix\n",
    "from sklearn.metrics import roc_auc_score\n",
    "from sklearn.metrics import roc_curve\n",
    "\n",
    "clf = RandomForestClassifier(n_estimators=100, max_depth=2)\n",
    "clf.fit(X_train, y_train)\n",
    "y_pred_rf = clf.predict(X_test)\n",
    "\n",
    "\n",
    "print(clf.feature_importances_)\n",
    "print(confusion_matrix(y_test, y_pred_rf))"
   ]
  },
  {
   "cell_type": "code",
   "execution_count": 224,
   "metadata": {},
   "outputs": [
    {
     "name": "stdout",
     "output_type": "stream",
     "text": [
      "[[512   0]\n",
      " [310   0]]\n",
      "              precision    recall  f1-score   support\n",
      "\n",
      "           0       0.62      1.00      0.77       512\n",
      "           1       0.00      0.00      0.00       310\n",
      "\n",
      "   micro avg       0.62      0.62      0.62       822\n",
      "   macro avg       0.31      0.50      0.38       822\n",
      "weighted avg       0.39      0.62      0.48       822\n",
      "\n",
      "0.6228710462287105\n",
      "[7.61773811e-05 6.59567290e-03 2.48792293e-03 3.95519757e-04\n",
      " 3.14799130e-03 5.46152552e-04 1.80852705e-03 3.09019455e-03\n",
      " 9.32904222e-04 0.00000000e+00 3.14229270e-03 7.19280471e-05\n",
      " 1.93746214e-03 5.97504270e-04 6.55897069e-04 3.78202124e-03\n",
      " 6.73892176e-03 7.66198568e-04 2.82845879e-03 7.41326634e-05\n",
      " 2.04843436e-03 2.11700203e-02 5.46702419e-03 2.15368762e-01\n",
      " 5.88045806e-03 2.80929004e-03 6.62436589e-03 7.67703422e-03\n",
      " 3.07621890e-02 1.64111708e-03 2.12202390e-03 1.46063343e-02\n",
      " 6.03666832e-03 5.11928675e-03 1.23567968e-02 9.24628304e-03\n",
      " 1.38097805e-02 4.66193211e-02 5.78207948e-02 5.23337262e-02\n",
      " 2.80951031e-02 7.93203445e-03 1.35684613e-01 8.08301335e-02\n",
      " 1.78463670e-02 8.76736037e-04 8.67734660e-02 2.13718755e-02\n",
      " 1.39384248e-02 1.64772590e-02 8.51522739e-04 3.01268745e-02]\n",
      "[[512   0]\n",
      " [310   0]]\n"
     ]
    },
    {
     "name": "stderr",
     "output_type": "stream",
     "text": [
      "/anaconda3/lib/python3.7/site-packages/sklearn/metrics/classification.py:1143: UndefinedMetricWarning: Precision and F-score are ill-defined and being set to 0.0 in labels with no predicted samples.\n",
      "  'precision', 'predicted', average, warn_for)\n",
      "/anaconda3/lib/python3.7/site-packages/sklearn/metrics/classification.py:1143: UndefinedMetricWarning: Precision and F-score are ill-defined and being set to 0.0 in labels with no predicted samples.\n",
      "  'precision', 'predicted', average, warn_for)\n",
      "/anaconda3/lib/python3.7/site-packages/sklearn/metrics/classification.py:1143: UndefinedMetricWarning: Precision and F-score are ill-defined and being set to 0.0 in labels with no predicted samples.\n",
      "  'precision', 'predicted', average, warn_for)\n"
     ]
    },
    {
     "data": {
      "image/png": "[encoded data removed]",
      "text/plain": [
       "<Figure size 432x288 with 1 Axes>"
      ]
     },
     "metadata": {
      "needs_background": "light"
     },
     "output_type": "display_data"
    }
   ],
   "source": [
    "from sklearn.metrics import roc_auc_score\n",
    "from sklearn.metrics import roc_curve\n",
    "from sklearn.metrics import classification_report, confusion_matrix, accuracy_score\n",
    "\n",
    "\n",
    "clf = RandomForestClassifier(n_estimators=1000, max_depth=2, random_state=42)\n",
    "clf.fit(X_train, y_train)\n",
    "y_pred_rf = clf.predict(X_test)\n",
    "\n",
    "\n",
    "\n",
    "print(confusion_matrix(y_test,y_pred_rf))  \n",
    "print(classification_report(y_test,y_pred_rf))  \n",
    "print(accuracy_score(y_test, y_pred_rf)) \n",
    "\n",
    "\n",
    "print(clf.feature_importances_)\n",
    "print(confusion_matrix(y_test, y_pred_rf))\n",
    "\n",
    "logit_roc_auc = roc_auc_score(y_test, y_pred_rf)\n",
    "rf_roc_auc = roc_auc_score(y_test, y_pred_rf)\n",
    "fpr, tpr, thresholds = roc_curve(y_test, y_pred_rf)\n",
    "plt.figure()\n",
    "plt.plot(fpr, tpr, label='Random Forest (area = %0.2f)' % logit_roc_auc)\n",
    "plt.plot([0, 1], [0, 1],'r--')\n",
    "plt.xlim([0.0, 1.0])\n",
    "plt.ylim([0.0, 1.05])\n",
    "plt.xlabel('False Positive Rate')\n",
    "plt.ylabel('True Positive Rate')\n",
    "plt.title('Receiver operating characteristic')\n",
    "plt.legend(loc=\"lower right\")\n",
    "plt.show()"
   ]
  },
  {
   "cell_type": "code",
   "execution_count": 225,
   "metadata": {},
   "outputs": [],
   "source": [
    "from sklearn import metrics\n",
    "from sklearn import linear_model"
   ]
  },
  {
   "cell_type": "code",
   "execution_count": 226,
   "metadata": {
    "scrolled": true
   },
   "outputs": [
    {
     "name": "stderr",
     "output_type": "stream",
     "text": [
      "/anaconda3/lib/python3.7/site-packages/sklearn/linear_model/logistic.py:433: FutureWarning: Default solver will be changed to 'lbfgs' in 0.22. Specify a solver to silence this warning.\n",
      "  FutureWarning)\n"
     ]
    },
    {
     "data": {
      "text/plain": [
       "LogisticRegression(C=1.0, class_weight=None, dual=False, fit_intercept=True,\n",
       "          intercept_scaling=1, max_iter=100, multi_class='warn',\n",
       "          n_jobs=None, penalty='l2', random_state=None, solver='warn',\n",
       "          tol=0.0001, verbose=0, warm_start=False)"
      ]
     },
     "execution_count": 226,
     "metadata": {},
     "output_type": "execute_result"
    }
   ],
   "source": [
    "lr = linear_model.LogisticRegression()\n",
    "lr.fit(X_train, y_train)"
   ]
  },
  {
   "cell_type": "code",
   "execution_count": 228,
   "metadata": {},
   "outputs": [
    {
     "name": "stdout",
     "output_type": "stream",
     "text": [
      "Logistic regression Train Accuracy ::  0.6678832116788321\n",
      "Logistic regression Test Accuracy ::  0.6326034063260341\n"
     ]
    }
   ],
   "source": [
    "print(\"Logistic regression Train Accuracy :\", metrics.accuracy_score(y_train, lr.predict(X_train)))\n",
    "print(\"Logistic regression Test Accuracy :\", metrics.accuracy_score(y_test, lr.predict(X_test)))"
   ]
  },
  {
   "cell_type": "code",
   "execution_count": 186,
   "metadata": {},
   "outputs": [
    {
     "data": {
      "text/plain": [
       "0    2081\n",
       "1    1153\n",
       "Name: Winner, dtype: int64"
      ]
     },
     "execution_count": 186,
     "metadata": {},
     "output_type": "execute_result"
    }
   ],
   "source": [
    "y_train.value_counts()"
   ]
  },
  {
   "cell_type": "markdown",
   "metadata": {},
   "source": [
    "# Demonstration of Unpredictability"
   ]
  },
  {
   "cell_type": "code",
   "execution_count": 3,
   "metadata": {},
   "outputs": [],
   "source": [
    "df  = pd.read_csv('UFC_stdz_mrg.csv')"
   ]
  },
  {
   "cell_type": "code",
   "execution_count": 4,
   "metadata": {},
   "outputs": [],
   "source": [
    "from sklearn.preprocessing import LabelEncoder\n",
    "from collections import Counter\n",
    "encoder = LabelEncoder()\n",
    "a = df[\"Winner\"]\n",
    "x = encoder.fit_transform(a)\n",
    "#Counter(list(x))\n",
    "df['Winner'] = list(x)"
   ]
  },
  {
   "cell_type": "code",
   "execution_count": 5,
   "metadata": {},
   "outputs": [],
   "source": [
    "y = df['Winner']\n",
    "x = df.drop(['Winner'], axis=1)"
   ]
  },
  {
   "cell_type": "code",
   "execution_count": 6,
   "metadata": {},
   "outputs": [
    {
     "name": "stdout",
     "output_type": "stream",
     "text": [
      "(2877, 52)\n",
      "(2877,)\n",
      "(1233, 52)\n",
      "(1233,)\n"
     ]
    }
   ],
   "source": [
    "from sklearn.model_selection import train_test_split\n",
    "from sklearn.ensemble import RandomForestClassifier\n",
    "x_train, x_test, y_train, y_test = train_test_split(x, y, test_size=0.3, random_state=42)\n",
    "print(x_train.shape)\n",
    "print(y_train.shape)\n",
    "print(x_test.shape)\n",
    "print(y_test.shape)"
   ]
  },
  {
   "cell_type": "code",
   "execution_count": 7,
   "metadata": {},
   "outputs": [
    {
     "data": {
      "text/plain": [
       "RandomForestClassifier(bootstrap=True, class_weight=None, criterion='gini',\n",
       "            max_depth=5, max_features='auto', max_leaf_nodes=None,\n",
       "            min_impurity_decrease=0.0, min_impurity_split=None,\n",
       "            min_samples_leaf=1, min_samples_split=2,\n",
       "            min_weight_fraction_leaf=0.0, n_estimators=1000, n_jobs=None,\n",
       "            oob_score=False, random_state=None, verbose=0,\n",
       "            warm_start=False)"
      ]
     },
     "execution_count": 7,
     "metadata": {},
     "output_type": "execute_result"
    }
   ],
   "source": [
    "clf = RandomForestClassifier(n_estimators=1000,  max_depth=5)\n",
    "clf.fit(x_train, y_train)"
   ]
  },
  {
   "cell_type": "code",
   "execution_count": 9,
   "metadata": {},
   "outputs": [],
   "source": [
    "y_pred = clf.predict(x_test)"
   ]
  },
  {
   "cell_type": "code",
   "execution_count": 10,
   "metadata": {},
   "outputs": [
    {
     "data": {
      "text/plain": [
       "0.5169199694906637"
      ]
     },
     "execution_count": 10,
     "metadata": {},
     "output_type": "execute_result"
    }
   ],
   "source": [
    "from sklearn.metrics import roc_curve, auc\n",
    "false_positive_rate, true_positive_rate, thresholds = roc_curve(y_test, y_pred)\n",
    "roc_auc = auc(false_positive_rate, true_positive_rate)\n",
    "roc_auc"
   ]
  },
  {
   "cell_type": "code",
   "execution_count": 12,
   "metadata": {},
   "outputs": [
    {
     "data": {
      "image/png": "[encoded data removed]",
      "text/plain": [
       "<Figure size 432x288 with 1 Axes>"
      ]
     },
     "metadata": {
      "needs_background": "light"
     },
     "output_type": "display_data"
    }
   ],
   "source": [
    "import warnings\n",
    "warnings.filterwarnings(\"ignore\")\n",
    "import numpy as np\n",
    "max_depths = np.linspace(1, 32, 32, endpoint=True)\n",
    "train_results = []\n",
    "test_results = []\n",
    "for max_depth in max_depths:\n",
    "    rf = RandomForestClassifier(max_depth=max_depth, n_jobs=-1)\n",
    "    rf.fit(x_train, y_train)\n",
    "    train_pred = rf.predict(x_train)\n",
    "    false_positive_rate, true_positive_rate, thresholds = roc_curve(y_train, train_pred)\n",
    "\n",
    "    roc_auc = auc(false_positive_rate, true_positive_rate)\n",
    "    train_results.append(roc_auc)\n",
    "    y_pred = rf.predict(x_test)\n",
    "    false_positive_rate, true_positive_rate, thresholds = roc_curve(y_test, y_pred)\n",
    "    roc_auc = auc(false_positive_rate, true_positive_rate)\n",
    "    test_results.append(roc_auc)\n",
    "\n",
    "from matplotlib.legend_handler import HandlerLine2D\n",
    "line1, = plt.plot(max_depths, train_results, 'b', label='Train AUC')\n",
    "line2, = plt.plot(max_depths, test_results, 'r', label='Test AUC')\n",
    "plt.legend(handler_map={line1: HandlerLine2D(numpoints=2)})\n",
    "plt.ylabel('AUC score')\n",
    "plt.xlabel('Tree depth')\n",
    "plt.show()"
   ]
  },
  {
   "cell_type": "code",
   "execution_count": 13,
   "metadata": {},
   "outputs": [
    {
     "data": {
      "image/png": "[encoded data removed]",
      "text/plain": [
       "<Figure size 432x288 with 1 Axes>"
      ]
     },
     "metadata": {
      "needs_background": "light"
     },
     "output_type": "display_data"
    }
   ],
   "source": [
    "min_samples_splits = np.linspace(0.1, 1.0, 10, endpoint=True)\n",
    "train_results = []\n",
    "test_results = []\n",
    "for min_samples_split in min_samples_splits:\n",
    "    rf = RandomForestClassifier(min_samples_split=min_samples_split)\n",
    "    rf.fit(x_train, y_train)\n",
    "    train_pred = rf.predict(x_train)\n",
    "    false_positive_rate, true_positive_rate, thresholds = roc_curve(y_train, train_pred)\n",
    "    roc_auc = auc(false_positive_rate, true_positive_rate)\n",
    "    train_results.append(roc_auc)\n",
    "    y_pred = rf.predict(x_test)\n",
    "    false_positive_rate, true_positive_rate, thresholds = roc_curve(y_test, y_pred)\n",
    "    roc_auc = auc(false_positive_rate, true_positive_rate)\n",
    "    test_results.append(roc_auc)\n",
    "from matplotlib.legend_handler import HandlerLine2D\n",
    "line1, = plt.plot(min_samples_splits, train_results, 'b', label='Train AUC')\n",
    "line2, = plt.plot(min_samples_splits, test_results, 'r', label='Test AUC')\n",
    "plt.legend(handler_map={line1: HandlerLine2D(numpoints=2)})\n",
    "plt.ylabel('AUC score')\n",
    "plt.xlabel('min samples split')\n",
    "plt.show()"
   ]
  },
  {
   "cell_type": "code",
   "execution_count": 14,
   "metadata": {},
   "outputs": [
    {
     "data": {
      "image/png": "[encoded data removed]",
      "text/plain": [
       "<Figure size 432x288 with 1 Axes>"
      ]
     },
     "metadata": {
      "needs_background": "light"
     },
     "output_type": "display_data"
    }
   ],
   "source": [
    "max_features = list(range(1, x_train.shape[1]))\n",
    "train_results = []\n",
    "test_results = []\n",
    "for max_feature in max_features:\n",
    "    rf = RandomForestClassifier(max_depth = 5, max_features=max_feature)\n",
    "    rf.fit(x_train, y_train)\n",
    "    train_pred = rf.predict(x_train)\n",
    "    false_positive_rate, true_positive_rate, thresholds = roc_curve(y_train, train_pred)\n",
    "    roc_auc = auc(false_positive_rate, true_positive_rate)\n",
    "    train_results.append(roc_auc)\n",
    "    y_pred = rf.predict(x_test)\n",
    "    false_positive_rate, true_positive_rate, thresholds = roc_curve(y_test, y_pred)\n",
    "    roc_auc = auc(false_positive_rate, true_positive_rate)\n",
    "    test_results.append(roc_auc)\n",
    "from matplotlib.legend_handler import HandlerLine2D\n",
    "line1, = plt.plot(max_features, train_results, 'b', label='Train AUC')\n",
    "line2, = plt.plot(max_features, test_results, 'r', label='Test AUC')\n",
    "plt.legend(handler_map={line1: HandlerLine2D(numpoints=2)})\n",
    "plt.ylabel('AUC score')\n",
    "plt.xlabel('max features')\n",
    "plt.show()"
   ]
  },
  {
   "cell_type": "markdown",
   "metadata": {},
   "source": [
    "# Let's try with RFE (simplification, only the 10 most important var.)"
   ]
  },
  {
   "cell_type": "code",
   "execution_count": 26,
   "metadata": {},
   "outputs": [
    {
     "data": {
      "text/html": [
       "<div>\n",
       "<style scoped>\n",
       "    .dataframe tbody tr th:only-of-type {\n",
       "        vertical-align: middle;\n",
       "    }\n",
       "\n",
       "    .dataframe tbody tr th {\n",
       "        vertical-align: top;\n",
       "    }\n",
       "\n",
       "    .dataframe thead th {\n",
       "        text-align: right;\n",
       "    }\n",
       "</style>\n",
       "<table border=\"1\" class=\"dataframe\">\n",
       "  <thead>\n",
       "    <tr style=\"text-align: right;\">\n",
       "      <th></th>\n",
       "      <th>0</th>\n",
       "    </tr>\n",
       "  </thead>\n",
       "  <tbody>\n",
       "    <tr>\n",
       "      <th>0</th>\n",
       "      <td>B_age_ratio</td>\n",
       "    </tr>\n",
       "    <tr>\n",
       "      <th>1</th>\n",
       "      <td>B_total_rounds_fought</td>\n",
       "    </tr>\n",
       "    <tr>\n",
       "      <th>2</th>\n",
       "      <td>B_Height_ratio</td>\n",
       "    </tr>\n",
       "    <tr>\n",
       "      <th>3</th>\n",
       "      <td>B_Reach_ratio</td>\n",
       "    </tr>\n",
       "    <tr>\n",
       "      <th>4</th>\n",
       "      <td>B_Weight_ratio</td>\n",
       "    </tr>\n",
       "    <tr>\n",
       "      <th>5</th>\n",
       "      <td>R_losses</td>\n",
       "    </tr>\n",
       "    <tr>\n",
       "      <th>6</th>\n",
       "      <td>R_total_rounds_fought</td>\n",
       "    </tr>\n",
       "    <tr>\n",
       "      <th>7</th>\n",
       "      <td>R_total_title_bouts</td>\n",
       "    </tr>\n",
       "    <tr>\n",
       "      <th>8</th>\n",
       "      <td>R_win_by_Decision_Split</td>\n",
       "    </tr>\n",
       "    <tr>\n",
       "      <th>9</th>\n",
       "      <td>R_wins</td>\n",
       "    </tr>\n",
       "  </tbody>\n",
       "</table>\n",
       "</div>"
      ],
      "text/plain": [
       "                         0\n",
       "0              B_age_ratio\n",
       "1    B_total_rounds_fought\n",
       "2           B_Height_ratio\n",
       "3            B_Reach_ratio\n",
       "4           B_Weight_ratio\n",
       "5                 R_losses\n",
       "6    R_total_rounds_fought\n",
       "7      R_total_title_bouts\n",
       "8  R_win_by_Decision_Split\n",
       "9                   R_wins"
      ]
     },
     "execution_count": 26,
     "metadata": {},
     "output_type": "execute_result"
    }
   ],
   "source": [
    "from sklearn.feature_selection import RFE\n",
    "estimator = RandomForestClassifier(max_depth=5)\n",
    "selector = RFE(estimator, 10, step=1)\n",
    "selector = selector.fit(x_train, y_train)\n",
    "ls = list(x_train.columns[selector.support_]) \n",
    "pd.DataFrame(ls)"
   ]
  },
  {
   "cell_type": "code",
   "execution_count": 17,
   "metadata": {},
   "outputs": [
    {
     "data": {
      "text/html": [
       "<div>\n",
       "<style scoped>\n",
       "    .dataframe tbody tr th:only-of-type {\n",
       "        vertical-align: middle;\n",
       "    }\n",
       "\n",
       "    .dataframe tbody tr th {\n",
       "        vertical-align: top;\n",
       "    }\n",
       "\n",
       "    .dataframe thead th {\n",
       "        text-align: right;\n",
       "    }\n",
       "</style>\n",
       "<table border=\"1\" class=\"dataframe\">\n",
       "  <thead>\n",
       "    <tr style=\"text-align: right;\">\n",
       "      <th></th>\n",
       "      <th>importance</th>\n",
       "    </tr>\n",
       "  </thead>\n",
       "  <tbody>\n",
       "    <tr>\n",
       "      <th>B_age_ratio</th>\n",
       "      <td>0.262453</td>\n",
       "    </tr>\n",
       "    <tr>\n",
       "      <th>R_losses</th>\n",
       "      <td>0.130256</td>\n",
       "    </tr>\n",
       "    <tr>\n",
       "      <th>R_win_by_Decision_Split</th>\n",
       "      <td>0.117006</td>\n",
       "    </tr>\n",
       "    <tr>\n",
       "      <th>R_total_rounds_fought</th>\n",
       "      <td>0.098922</td>\n",
       "    </tr>\n",
       "    <tr>\n",
       "      <th>B_Reach_ratio</th>\n",
       "      <td>0.096328</td>\n",
       "    </tr>\n",
       "    <tr>\n",
       "      <th>B_Weight_ratio</th>\n",
       "      <td>0.072816</td>\n",
       "    </tr>\n",
       "    <tr>\n",
       "      <th>B_Height_ratio</th>\n",
       "      <td>0.065249</td>\n",
       "    </tr>\n",
       "    <tr>\n",
       "      <th>R_wins</th>\n",
       "      <td>0.064851</td>\n",
       "    </tr>\n",
       "    <tr>\n",
       "      <th>R_win_by_KO/TKO</th>\n",
       "      <td>0.053807</td>\n",
       "    </tr>\n",
       "    <tr>\n",
       "      <th>R_longest_win_streak</th>\n",
       "      <td>0.038313</td>\n",
       "    </tr>\n",
       "  </tbody>\n",
       "</table>\n",
       "</div>"
      ],
      "text/plain": [
       "                         importance\n",
       "B_age_ratio                0.262453\n",
       "R_losses                   0.130256\n",
       "R_win_by_Decision_Split    0.117006\n",
       "R_total_rounds_fought      0.098922\n",
       "B_Reach_ratio              0.096328\n",
       "B_Weight_ratio             0.072816\n",
       "B_Height_ratio             0.065249\n",
       "R_wins                     0.064851\n",
       "R_win_by_KO/TKO            0.053807\n",
       "R_longest_win_streak       0.038313"
      ]
     },
     "execution_count": 17,
     "metadata": {},
     "output_type": "execute_result"
    }
   ],
   "source": [
    "clf = RandomForestClassifier(max_depth=5) \n",
    "clf.fit(x_train[ls], y_train) \n",
    "clf.score(x_test[ls], y_test)\n",
    "feature_importances = pd.DataFrame(clf.feature_importances_, index = x_train[ls].columns, columns=['importance']).sort_values('importance', ascending=False)\n",
    "feature_importances"
   ]
  },
  {
   "cell_type": "code",
   "execution_count": 20,
   "metadata": {},
   "outputs": [
    {
     "data": {
      "image/png": "[encoded data removed]",
      "text/plain": [
       "<Figure size 432x288 with 1 Axes>"
      ]
     },
     "metadata": {
      "needs_background": "light"
     },
     "output_type": "display_data"
    }
   ],
   "source": [
    "from sklearn.metrics import roc_auc_score\n",
    "from sklearn.metrics import roc_curve\n",
    "from sklearn.metrics import classification_report, confusion_matrix, accuracy_score\n",
    "\n",
    "y_pred = clf.predict(x_test[ls])\n",
    "\n",
    "logit_roc_auc = roc_auc_score(y_test, y_pred)\n",
    "rf_roc_auc = roc_auc_score(y_test, y_pred)\n",
    "fpr, tpr, thresholds = roc_curve(y_test, y_pred)\n",
    "\n",
    "plt.figure()\n",
    "plt.plot(fpr, tpr, label='Random Forest (area = %0.2f)' % logit_roc_auc)\n",
    "plt.plot([0, 1], [0, 1],'r--')\n",
    "plt.xlim([0.0, 1.0])\n",
    "plt.ylim([0.0, 1.05])\n",
    "plt.xlabel('False Positive Rate')\n",
    "plt.ylabel('True Positive Rate')\n",
    "plt.title('Receiver operating characteristic')\n",
    "plt.legend(loc=\"lower right\")\n",
    "plt.show()"
   ]
  },
  {
   "cell_type": "markdown",
   "metadata": {},
   "source": [
    "Even with a simple method like decision tree"
   ]
  },
  {
   "cell_type": "code",
   "execution_count": 21,
   "metadata": {},
   "outputs": [
    {
     "data": {
      "text/plain": [
       "0.5567911522924376"
      ]
     },
     "execution_count": 21,
     "metadata": {},
     "output_type": "execute_result"
    }
   ],
   "source": [
    "from sklearn.tree import DecisionTreeClassifier\n",
    "dt = DecisionTreeClassifier(random_state=42)\n",
    "dt.fit(x_train[ls], y_train)\n",
    "y_pred_dt = dt.predict(x_test[ls])\n",
    "false_positive_rate, true_positive_rate, thresholds = roc_curve(y_test, y_pred_dt)\n",
    "roc_auc = auc(false_positive_rate, true_positive_rate)\n",
    "roc_auc"
   ]
  },
  {
   "cell_type": "code",
   "execution_count": 23,
   "metadata": {},
   "outputs": [
    {
     "data": {
      "image/png": "[encoded data removed]",
      "text/plain": [
       "<Figure size 432x288 with 1 Axes>"
      ]
     },
     "metadata": {
      "needs_background": "light"
     },
     "output_type": "display_data"
    }
   ],
   "source": [
    "import warnings\n",
    "warnings.filterwarnings(\"ignore\")\n",
    "import numpy as np\n",
    "max_depths = np.linspace(1, 32, 32, endpoint=True)\n",
    "train_results = []\n",
    "test_results = []\n",
    "for max_depth in max_depths:\n",
    "    rf = RandomForestClassifier(max_depth=max_depth, n_jobs=-1)\n",
    "    rf.fit(x_train, y_train)\n",
    "    train_pred = rf.predict(x_train)\n",
    "    false_positive_rate, true_positive_rate, thresholds = roc_curve(y_train, train_pred)\n",
    "\n",
    "    roc_auc = auc(false_positive_rate, true_positive_rate)\n",
    "    train_results.append(roc_auc)\n",
    "    y_pred = rf.predict(x_test)\n",
    "    false_positive_rate, true_positive_rate, thresholds = roc_curve(y_test, y_pred)\n",
    "    roc_auc = auc(false_positive_rate, true_positive_rate)\n",
    "    test_results.append(roc_auc)\n",
    "\n",
    "from matplotlib.legend_handler import HandlerLine2D\n",
    "line1, = plt.plot(max_depths, train_results, 'b', label='Train AUC')\n",
    "line2, = plt.plot(max_depths, test_results, 'r', label='Test AUC')\n",
    "plt.legend(handler_map={line1: HandlerLine2D(numpoints=2)})\n",
    "plt.ylabel('AUC score')\n",
    "plt.xlabel('Tree depth')\n",
    "plt.show()"
   ]
  },
  {
   "cell_type": "code",
   "execution_count": 24,
   "metadata": {},
   "outputs": [
    {
     "data": {
      "image/png": "[encoded data removed]",
      "text/plain": [
       "<Figure size 432x288 with 1 Axes>"
      ]
     },
     "metadata": {
      "needs_background": "light"
     },
     "output_type": "display_data"
    }
   ],
   "source": [
    "min_samples_splits = np.linspace(0.1, 1.0, 10, endpoint=True)\n",
    "train_results = []\n",
    "test_results = []\n",
    "for min_samples_split in min_samples_splits:\n",
    "    rf = RandomForestClassifier(min_samples_split=min_samples_split)\n",
    "    rf.fit(x_train, y_train)\n",
    "    train_pred = rf.predict(x_train)\n",
    "    false_positive_rate, true_positive_rate, thresholds = roc_curve(y_train, train_pred)\n",
    "    roc_auc = auc(false_positive_rate, true_positive_rate)\n",
    "    train_results.append(roc_auc)\n",
    "    y_pred = rf.predict(x_test)\n",
    "    false_positive_rate, true_positive_rate, thresholds = roc_curve(y_test, y_pred)\n",
    "    roc_auc = auc(false_positive_rate, true_positive_rate)\n",
    "    test_results.append(roc_auc)\n",
    "from matplotlib.legend_handler import HandlerLine2D\n",
    "line1, = plt.plot(min_samples_splits, train_results, 'b', label='Train AUC')\n",
    "line2, = plt.plot(min_samples_splits, test_results, 'r', label='Test AUC')\n",
    "plt.legend(handler_map={line1: HandlerLine2D(numpoints=2)})\n",
    "plt.ylabel('AUC score')\n",
    "plt.xlabel('min samples split')\n",
    "plt.show()"
   ]
  },
  {
   "cell_type": "code",
   "execution_count": 25,
   "metadata": {},
   "outputs": [
    {
     "data": {
      "image/png": "[encoded data removed]",
      "text/plain": [
       "<Figure size 432x288 with 1 Axes>"
      ]
     },
     "metadata": {
      "needs_background": "light"
     },
     "output_type": "display_data"
    }
   ],
   "source": [
    "max_features = list(range(1, x_train.shape[1]))\n",
    "train_results = []\n",
    "test_results = []\n",
    "for max_feature in max_features:\n",
    "    rf = RandomForestClassifier(max_depth = 5, max_features=max_feature)\n",
    "    rf.fit(x_train, y_train)\n",
    "    train_pred = rf.predict(x_train)\n",
    "    false_positive_rate, true_positive_rate, thresholds = roc_curve(y_train, train_pred)\n",
    "    roc_auc = auc(false_positive_rate, true_positive_rate)\n",
    "    train_results.append(roc_auc)\n",
    "    y_pred = rf.predict(x_test)\n",
    "    false_positive_rate, true_positive_rate, thresholds = roc_curve(y_test, y_pred)\n",
    "    roc_auc = auc(false_positive_rate, true_positive_rate)\n",
    "    test_results.append(roc_auc)\n",
    "from matplotlib.legend_handler import HandlerLine2D\n",
    "line1, = plt.plot(max_features, train_results, 'b', label='Train AUC')\n",
    "line2, = plt.plot(max_features, test_results, 'r', label='Test AUC')\n",
    "plt.legend(handler_map={line1: HandlerLine2D(numpoints=2)})\n",
    "plt.ylabel('AUC score')\n",
    "plt.xlabel('max features')\n",
    "plt.show()"
   ]
  },
  {
   "cell_type": "code",
   "execution_count": null,
   "metadata": {},
   "outputs": [],
   "source": []
  },
  {
   "cell_type": "code",
   "execution_count": null,
   "metadata": {},
   "outputs": [],
   "source": []
  }
 ],
 "metadata": {
  "kernelspec": {
   "display_name": "Python 3",
   "language": "python",
   "name": "python3"
  },
  "language_info": {
   "codemirror_mode": {
    "name": "ipython",
    "version": 3
   },
   "file_extension": ".py",
   "mimetype": "text/x-python",
   "name": "python",
   "nbconvert_exporter": "python",
   "pygments_lexer": "ipython3",
   "version": "3.7.3"
  }
 },
 "nbformat": 4,
 "nbformat_minor": 2
}
