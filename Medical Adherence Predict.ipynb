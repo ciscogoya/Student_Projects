{
 "cells": [
  {
   "cell_type": "code",
   "execution_count": 2,
   "metadata": {},
   "outputs": [],
   "source": [
    "import pandas as pd\n",
    "import numpy as np"
   ]
  },
  {
   "cell_type": "code",
   "execution_count": 117,
   "metadata": {},
   "outputs": [],
   "source": [
    "df=pd.read_csv(\"/Users/timotheeduverne/Downloads/PatientData3.csv\", sep=\";\")"
   ]
  },
  {
   "cell_type": "code",
   "execution_count": 118,
   "metadata": {},
   "outputs": [
    {
     "data": {
      "text/html": [
       "<div>\n",
       "<style scoped>\n",
       "    .dataframe tbody tr th:only-of-type {\n",
       "        vertical-align: middle;\n",
       "    }\n",
       "\n",
       "    .dataframe tbody tr th {\n",
       "        vertical-align: top;\n",
       "    }\n",
       "\n",
       "    .dataframe thead th {\n",
       "        text-align: right;\n",
       "    }\n",
       "</style>\n",
       "<table border=\"1\" class=\"dataframe\">\n",
       "  <thead>\n",
       "    <tr style=\"text-align: right;\">\n",
       "      <th></th>\n",
       "      <th>PatientID</th>\n",
       "      <th>Medication</th>\n",
       "      <th>ActGPI</th>\n",
       "      <th>RouteOfAdmin</th>\n",
       "      <th>State</th>\n",
       "      <th>QTY</th>\n",
       "      <th>For_How_Many_Days</th>\n",
       "      <th>Age</th>\n",
       "      <th>MailRetail</th>\n",
       "      <th>Date</th>\n",
       "      <th>DueDate</th>\n",
       "      <th>AmountPaid</th>\n",
       "      <th>Sex</th>\n",
       "      <th>PurchasedBy</th>\n",
       "      <th>Pharmacy</th>\n",
       "    </tr>\n",
       "  </thead>\n",
       "  <tbody>\n",
       "    <tr>\n",
       "      <th>0</th>\n",
       "      <td>1001</td>\n",
       "      <td>Medication1</td>\n",
       "      <td>340</td>\n",
       "      <td>A</td>\n",
       "      <td>IN</td>\n",
       "      <td>30.0</td>\n",
       "      <td>30.0</td>\n",
       "      <td>59</td>\n",
       "      <td>R</td>\n",
       "      <td>30/01/2012</td>\n",
       "      <td>29/02/2012</td>\n",
       "      <td>7.0</td>\n",
       "      <td>M</td>\n",
       "      <td>Patient</td>\n",
       "      <td>PHARMACY 1</td>\n",
       "    </tr>\n",
       "    <tr>\n",
       "      <th>1</th>\n",
       "      <td>1001</td>\n",
       "      <td>Medication1</td>\n",
       "      <td>340</td>\n",
       "      <td>A</td>\n",
       "      <td>IN</td>\n",
       "      <td>30.0</td>\n",
       "      <td>30.0</td>\n",
       "      <td>59</td>\n",
       "      <td>R</td>\n",
       "      <td>20/03/2012</td>\n",
       "      <td>19/04/2012</td>\n",
       "      <td>7.0</td>\n",
       "      <td>M</td>\n",
       "      <td>Patient</td>\n",
       "      <td>PHARMACY 1</td>\n",
       "    </tr>\n",
       "    <tr>\n",
       "      <th>2</th>\n",
       "      <td>1001</td>\n",
       "      <td>Medication1</td>\n",
       "      <td>340</td>\n",
       "      <td>A</td>\n",
       "      <td>IN</td>\n",
       "      <td>30.0</td>\n",
       "      <td>30.0</td>\n",
       "      <td>59</td>\n",
       "      <td>R</td>\n",
       "      <td>11/05/2012</td>\n",
       "      <td>10/06/2012</td>\n",
       "      <td>7.0</td>\n",
       "      <td>M</td>\n",
       "      <td>Patient</td>\n",
       "      <td>PHARMACY 1</td>\n",
       "    </tr>\n",
       "    <tr>\n",
       "      <th>3</th>\n",
       "      <td>1001</td>\n",
       "      <td>Medication1</td>\n",
       "      <td>340</td>\n",
       "      <td>A</td>\n",
       "      <td>IN</td>\n",
       "      <td>30.0</td>\n",
       "      <td>30.0</td>\n",
       "      <td>59</td>\n",
       "      <td>R</td>\n",
       "      <td>24/06/2012</td>\n",
       "      <td>24/07/2012</td>\n",
       "      <td>7.0</td>\n",
       "      <td>M</td>\n",
       "      <td>Patient</td>\n",
       "      <td>PHARMACY 1</td>\n",
       "    </tr>\n",
       "    <tr>\n",
       "      <th>4</th>\n",
       "      <td>1001</td>\n",
       "      <td>Medication1</td>\n",
       "      <td>340</td>\n",
       "      <td>A</td>\n",
       "      <td>IN</td>\n",
       "      <td>30.0</td>\n",
       "      <td>30.0</td>\n",
       "      <td>59</td>\n",
       "      <td>R</td>\n",
       "      <td>31/07/2012</td>\n",
       "      <td>30/08/2012</td>\n",
       "      <td>7.0</td>\n",
       "      <td>M</td>\n",
       "      <td>Patient</td>\n",
       "      <td>PHARMACY 1</td>\n",
       "    </tr>\n",
       "  </tbody>\n",
       "</table>\n",
       "</div>"
      ],
      "text/plain": [
       "   PatientID   Medication  ActGPI RouteOfAdmin State   QTY  For_How_Many_Days  \\\n",
       "0       1001  Medication1     340            A    IN  30.0               30.0   \n",
       "1       1001  Medication1     340            A    IN  30.0               30.0   \n",
       "2       1001  Medication1     340            A    IN  30.0               30.0   \n",
       "3       1001  Medication1     340            A    IN  30.0               30.0   \n",
       "4       1001  Medication1     340            A    IN  30.0               30.0   \n",
       "\n",
       "   Age MailRetail        Date     DueDate  AmountPaid Sex PurchasedBy  \\\n",
       "0   59          R  30/01/2012  29/02/2012         7.0   M     Patient   \n",
       "1   59          R  20/03/2012  19/04/2012         7.0   M     Patient   \n",
       "2   59          R  11/05/2012  10/06/2012         7.0   M     Patient   \n",
       "3   59          R  24/06/2012  24/07/2012         7.0   M     Patient   \n",
       "4   59          R  31/07/2012  30/08/2012         7.0   M     Patient   \n",
       "\n",
       "     Pharmacy  \n",
       "0  PHARMACY 1  \n",
       "1  PHARMACY 1  \n",
       "2  PHARMACY 1  \n",
       "3  PHARMACY 1  \n",
       "4  PHARMACY 1  "
      ]
     },
     "execution_count": 118,
     "metadata": {},
     "output_type": "execute_result"
    }
   ],
   "source": [
    "df.head()"
   ]
  },
  {
   "cell_type": "markdown",
   "metadata": {},
   "source": [
    "# Creating the Target Column"
   ]
  },
  {
   "cell_type": "markdown",
   "metadata": {},
   "source": [
    "Our end goal is to predict whether any given patient will \"adhere\" or not i.e. follow his treatment, so that big pharma can make more money, and patients can be treated more effectively"
   ]
  },
  {
   "cell_type": "markdown",
   "metadata": {},
   "source": [
    "In order to achieve that, we decided to first merge \"PatientID\" and \"Medication\". Now every \"UID\" has at least one data point."
   ]
  },
  {
   "cell_type": "code",
   "execution_count": 5,
   "metadata": {},
   "outputs": [
    {
     "data": {
      "text/plain": [
       "PatientID              int64\n",
       "Medication            object\n",
       "ActGPI                 int64\n",
       "RouteOfAdmin          object\n",
       "State                 object\n",
       "QTY                  float64\n",
       "For_How_Many_Days    float64\n",
       "Age                    int64\n",
       "MailRetail            object\n",
       "Date                  object\n",
       "DueDate               object\n",
       "AmountPaid           float64\n",
       "Sex                   object\n",
       "PurchasedBy           object\n",
       "Pharmacy              object\n",
       "dtype: object"
      ]
     },
     "execution_count": 5,
     "metadata": {},
     "output_type": "execute_result"
    }
   ],
   "source": [
    "df.dtypes"
   ]
  },
  {
   "cell_type": "code",
   "execution_count": 119,
   "metadata": {},
   "outputs": [],
   "source": [
    "df['UID']=df.PatientID.map(str)+' '+df.Medication"
   ]
  },
  {
   "cell_type": "code",
   "execution_count": 120,
   "metadata": {},
   "outputs": [
    {
     "data": {
      "text/html": [
       "<div>\n",
       "<style scoped>\n",
       "    .dataframe tbody tr th:only-of-type {\n",
       "        vertical-align: middle;\n",
       "    }\n",
       "\n",
       "    .dataframe tbody tr th {\n",
       "        vertical-align: top;\n",
       "    }\n",
       "\n",
       "    .dataframe thead th {\n",
       "        text-align: right;\n",
       "    }\n",
       "</style>\n",
       "<table border=\"1\" class=\"dataframe\">\n",
       "  <thead>\n",
       "    <tr style=\"text-align: right;\">\n",
       "      <th></th>\n",
       "      <th>ActGPI</th>\n",
       "      <th>RouteOfAdmin</th>\n",
       "      <th>State</th>\n",
       "      <th>QTY</th>\n",
       "      <th>For_How_Many_Days</th>\n",
       "      <th>Age</th>\n",
       "      <th>MailRetail</th>\n",
       "      <th>Date</th>\n",
       "      <th>DueDate</th>\n",
       "      <th>AmountPaid</th>\n",
       "      <th>Sex</th>\n",
       "      <th>PurchasedBy</th>\n",
       "      <th>Pharmacy</th>\n",
       "      <th>UID</th>\n",
       "    </tr>\n",
       "  </thead>\n",
       "  <tbody>\n",
       "    <tr>\n",
       "      <th>0</th>\n",
       "      <td>340</td>\n",
       "      <td>A</td>\n",
       "      <td>IN</td>\n",
       "      <td>30.0</td>\n",
       "      <td>30.0</td>\n",
       "      <td>59</td>\n",
       "      <td>R</td>\n",
       "      <td>30/01/2012</td>\n",
       "      <td>29/02/2012</td>\n",
       "      <td>7.0</td>\n",
       "      <td>M</td>\n",
       "      <td>Patient</td>\n",
       "      <td>PHARMACY 1</td>\n",
       "      <td>1001 Medication1</td>\n",
       "    </tr>\n",
       "    <tr>\n",
       "      <th>1</th>\n",
       "      <td>340</td>\n",
       "      <td>A</td>\n",
       "      <td>IN</td>\n",
       "      <td>30.0</td>\n",
       "      <td>30.0</td>\n",
       "      <td>59</td>\n",
       "      <td>R</td>\n",
       "      <td>20/03/2012</td>\n",
       "      <td>19/04/2012</td>\n",
       "      <td>7.0</td>\n",
       "      <td>M</td>\n",
       "      <td>Patient</td>\n",
       "      <td>PHARMACY 1</td>\n",
       "      <td>1001 Medication1</td>\n",
       "    </tr>\n",
       "    <tr>\n",
       "      <th>2</th>\n",
       "      <td>340</td>\n",
       "      <td>A</td>\n",
       "      <td>IN</td>\n",
       "      <td>30.0</td>\n",
       "      <td>30.0</td>\n",
       "      <td>59</td>\n",
       "      <td>R</td>\n",
       "      <td>11/05/2012</td>\n",
       "      <td>10/06/2012</td>\n",
       "      <td>7.0</td>\n",
       "      <td>M</td>\n",
       "      <td>Patient</td>\n",
       "      <td>PHARMACY 1</td>\n",
       "      <td>1001 Medication1</td>\n",
       "    </tr>\n",
       "    <tr>\n",
       "      <th>3</th>\n",
       "      <td>340</td>\n",
       "      <td>A</td>\n",
       "      <td>IN</td>\n",
       "      <td>30.0</td>\n",
       "      <td>30.0</td>\n",
       "      <td>59</td>\n",
       "      <td>R</td>\n",
       "      <td>24/06/2012</td>\n",
       "      <td>24/07/2012</td>\n",
       "      <td>7.0</td>\n",
       "      <td>M</td>\n",
       "      <td>Patient</td>\n",
       "      <td>PHARMACY 1</td>\n",
       "      <td>1001 Medication1</td>\n",
       "    </tr>\n",
       "    <tr>\n",
       "      <th>4</th>\n",
       "      <td>340</td>\n",
       "      <td>A</td>\n",
       "      <td>IN</td>\n",
       "      <td>30.0</td>\n",
       "      <td>30.0</td>\n",
       "      <td>59</td>\n",
       "      <td>R</td>\n",
       "      <td>31/07/2012</td>\n",
       "      <td>30/08/2012</td>\n",
       "      <td>7.0</td>\n",
       "      <td>M</td>\n",
       "      <td>Patient</td>\n",
       "      <td>PHARMACY 1</td>\n",
       "      <td>1001 Medication1</td>\n",
       "    </tr>\n",
       "  </tbody>\n",
       "</table>\n",
       "</div>"
      ],
      "text/plain": [
       "   ActGPI RouteOfAdmin State   QTY  For_How_Many_Days  Age MailRetail  \\\n",
       "0     340            A    IN  30.0               30.0   59          R   \n",
       "1     340            A    IN  30.0               30.0   59          R   \n",
       "2     340            A    IN  30.0               30.0   59          R   \n",
       "3     340            A    IN  30.0               30.0   59          R   \n",
       "4     340            A    IN  30.0               30.0   59          R   \n",
       "\n",
       "         Date     DueDate  AmountPaid Sex PurchasedBy    Pharmacy  \\\n",
       "0  30/01/2012  29/02/2012         7.0   M     Patient  PHARMACY 1   \n",
       "1  20/03/2012  19/04/2012         7.0   M     Patient  PHARMACY 1   \n",
       "2  11/05/2012  10/06/2012         7.0   M     Patient  PHARMACY 1   \n",
       "3  24/06/2012  24/07/2012         7.0   M     Patient  PHARMACY 1   \n",
       "4  31/07/2012  30/08/2012         7.0   M     Patient  PHARMACY 1   \n",
       "\n",
       "                UID  \n",
       "0  1001 Medication1  \n",
       "1  1001 Medication1  \n",
       "2  1001 Medication1  \n",
       "3  1001 Medication1  \n",
       "4  1001 Medication1  "
      ]
     },
     "execution_count": 120,
     "metadata": {},
     "output_type": "execute_result"
    }
   ],
   "source": [
    "df2 = df.drop(columns=['PatientID','Medication'], axis=1)\n",
    "df2.head()"
   ]
  },
  {
   "cell_type": "markdown",
   "metadata": {},
   "source": [
    "# Formatting Dates "
   ]
  },
  {
   "cell_type": "markdown",
   "metadata": {},
   "source": [
    "We first needed to create the \"theoretical\" date at which the UID should have re-purchased his medication"
   ]
  },
  {
   "cell_type": "code",
   "execution_count": 121,
   "metadata": {},
   "outputs": [],
   "source": [
    "df2.Date = pd.to_datetime(df2.Date, format=\"%d/%m/%Y\")"
   ]
  },
  {
   "cell_type": "code",
   "execution_count": 122,
   "metadata": {},
   "outputs": [],
   "source": [
    "from datetime import timedelta\n",
    "\n",
    "temp = df2['For_How_Many_Days'].apply(np.ceil).apply(lambda x: pd.Timedelta(x, unit='D'))\n",
    "\n",
    "df2['theoretical_PD']=df2.Date + temp"
   ]
  },
  {
   "cell_type": "markdown",
   "metadata": {},
   "source": [
    "# Long and Painful Data Preparation\n",
    "(buckle up)"
   ]
  },
  {
   "cell_type": "code",
   "execution_count": 11,
   "metadata": {},
   "outputs": [],
   "source": [
    "lst=[]\n",
    "for i,g in df.groupby('UID'):\n",
    "    if g.shape[1]==1:\n",
    "        lst.append(np.nan)\n",
    "    for q,w in enumerate(g.iloc[:-1,0]):\n",
    "        lst.append((g.iloc[q+1,7]-g.iloc[q,14]).days)\n",
    "    lst.append(np.nan)"
   ]
  },
  {
   "cell_type": "code",
   "execution_count": 123,
   "metadata": {},
   "outputs": [],
   "source": [
    "df2['lag']=lst"
   ]
  },
  {
   "cell_type": "code",
   "execution_count": 124,
   "metadata": {},
   "outputs": [
    {
     "data": {
      "text/html": [
       "<div>\n",
       "<style scoped>\n",
       "    .dataframe tbody tr th:only-of-type {\n",
       "        vertical-align: middle;\n",
       "    }\n",
       "\n",
       "    .dataframe tbody tr th {\n",
       "        vertical-align: top;\n",
       "    }\n",
       "\n",
       "    .dataframe thead th {\n",
       "        text-align: right;\n",
       "    }\n",
       "</style>\n",
       "<table border=\"1\" class=\"dataframe\">\n",
       "  <thead>\n",
       "    <tr style=\"text-align: right;\">\n",
       "      <th></th>\n",
       "      <th>ActGPI</th>\n",
       "      <th>RouteOfAdmin</th>\n",
       "      <th>State</th>\n",
       "      <th>QTY</th>\n",
       "      <th>For_How_Many_Days</th>\n",
       "      <th>Age</th>\n",
       "      <th>MailRetail</th>\n",
       "      <th>Date</th>\n",
       "      <th>DueDate</th>\n",
       "      <th>AmountPaid</th>\n",
       "      <th>Sex</th>\n",
       "      <th>PurchasedBy</th>\n",
       "      <th>Pharmacy</th>\n",
       "      <th>UID</th>\n",
       "      <th>theoretical_PD</th>\n",
       "      <th>lag</th>\n",
       "    </tr>\n",
       "  </thead>\n",
       "  <tbody>\n",
       "    <tr>\n",
       "      <th>0</th>\n",
       "      <td>340</td>\n",
       "      <td>A</td>\n",
       "      <td>IN</td>\n",
       "      <td>30.0</td>\n",
       "      <td>30.0</td>\n",
       "      <td>59</td>\n",
       "      <td>R</td>\n",
       "      <td>2012-01-30</td>\n",
       "      <td>29/02/2012</td>\n",
       "      <td>7.0</td>\n",
       "      <td>M</td>\n",
       "      <td>Patient</td>\n",
       "      <td>PHARMACY 1</td>\n",
       "      <td>1001 Medication1</td>\n",
       "      <td>2012-02-29</td>\n",
       "      <td>20.0</td>\n",
       "    </tr>\n",
       "    <tr>\n",
       "      <th>1</th>\n",
       "      <td>340</td>\n",
       "      <td>A</td>\n",
       "      <td>IN</td>\n",
       "      <td>30.0</td>\n",
       "      <td>30.0</td>\n",
       "      <td>59</td>\n",
       "      <td>R</td>\n",
       "      <td>2012-03-20</td>\n",
       "      <td>19/04/2012</td>\n",
       "      <td>7.0</td>\n",
       "      <td>M</td>\n",
       "      <td>Patient</td>\n",
       "      <td>PHARMACY 1</td>\n",
       "      <td>1001 Medication1</td>\n",
       "      <td>2012-04-19</td>\n",
       "      <td>22.0</td>\n",
       "    </tr>\n",
       "    <tr>\n",
       "      <th>2</th>\n",
       "      <td>340</td>\n",
       "      <td>A</td>\n",
       "      <td>IN</td>\n",
       "      <td>30.0</td>\n",
       "      <td>30.0</td>\n",
       "      <td>59</td>\n",
       "      <td>R</td>\n",
       "      <td>2012-05-11</td>\n",
       "      <td>10/06/2012</td>\n",
       "      <td>7.0</td>\n",
       "      <td>M</td>\n",
       "      <td>Patient</td>\n",
       "      <td>PHARMACY 1</td>\n",
       "      <td>1001 Medication1</td>\n",
       "      <td>2012-06-10</td>\n",
       "      <td>14.0</td>\n",
       "    </tr>\n",
       "    <tr>\n",
       "      <th>3</th>\n",
       "      <td>340</td>\n",
       "      <td>A</td>\n",
       "      <td>IN</td>\n",
       "      <td>30.0</td>\n",
       "      <td>30.0</td>\n",
       "      <td>59</td>\n",
       "      <td>R</td>\n",
       "      <td>2012-06-24</td>\n",
       "      <td>24/07/2012</td>\n",
       "      <td>7.0</td>\n",
       "      <td>M</td>\n",
       "      <td>Patient</td>\n",
       "      <td>PHARMACY 1</td>\n",
       "      <td>1001 Medication1</td>\n",
       "      <td>2012-07-24</td>\n",
       "      <td>7.0</td>\n",
       "    </tr>\n",
       "    <tr>\n",
       "      <th>4</th>\n",
       "      <td>340</td>\n",
       "      <td>A</td>\n",
       "      <td>IN</td>\n",
       "      <td>30.0</td>\n",
       "      <td>30.0</td>\n",
       "      <td>59</td>\n",
       "      <td>R</td>\n",
       "      <td>2012-07-31</td>\n",
       "      <td>30/08/2012</td>\n",
       "      <td>7.0</td>\n",
       "      <td>M</td>\n",
       "      <td>Patient</td>\n",
       "      <td>PHARMACY 1</td>\n",
       "      <td>1001 Medication1</td>\n",
       "      <td>2012-08-30</td>\n",
       "      <td>8.0</td>\n",
       "    </tr>\n",
       "  </tbody>\n",
       "</table>\n",
       "</div>"
      ],
      "text/plain": [
       "   ActGPI RouteOfAdmin State   QTY  For_How_Many_Days  Age MailRetail  \\\n",
       "0     340            A    IN  30.0               30.0   59          R   \n",
       "1     340            A    IN  30.0               30.0   59          R   \n",
       "2     340            A    IN  30.0               30.0   59          R   \n",
       "3     340            A    IN  30.0               30.0   59          R   \n",
       "4     340            A    IN  30.0               30.0   59          R   \n",
       "\n",
       "        Date     DueDate  AmountPaid Sex PurchasedBy    Pharmacy  \\\n",
       "0 2012-01-30  29/02/2012         7.0   M     Patient  PHARMACY 1   \n",
       "1 2012-03-20  19/04/2012         7.0   M     Patient  PHARMACY 1   \n",
       "2 2012-05-11  10/06/2012         7.0   M     Patient  PHARMACY 1   \n",
       "3 2012-06-24  24/07/2012         7.0   M     Patient  PHARMACY 1   \n",
       "4 2012-07-31  30/08/2012         7.0   M     Patient  PHARMACY 1   \n",
       "\n",
       "                UID theoretical_PD   lag  \n",
       "0  1001 Medication1     2012-02-29  20.0  \n",
       "1  1001 Medication1     2012-04-19  22.0  \n",
       "2  1001 Medication1     2012-06-10  14.0  \n",
       "3  1001 Medication1     2012-07-24   7.0  \n",
       "4  1001 Medication1     2012-08-30   8.0  "
      ]
     },
     "execution_count": 124,
     "metadata": {},
     "output_type": "execute_result"
    }
   ],
   "source": [
    "df2.head()"
   ]
  },
  {
   "cell_type": "code",
   "execution_count": 125,
   "metadata": {},
   "outputs": [
    {
     "data": {
      "text/html": [
       "<div>\n",
       "<style scoped>\n",
       "    .dataframe tbody tr th:only-of-type {\n",
       "        vertical-align: middle;\n",
       "    }\n",
       "\n",
       "    .dataframe tbody tr th {\n",
       "        vertical-align: top;\n",
       "    }\n",
       "\n",
       "    .dataframe thead th {\n",
       "        text-align: right;\n",
       "    }\n",
       "</style>\n",
       "<table border=\"1\" class=\"dataframe\">\n",
       "  <thead>\n",
       "    <tr style=\"text-align: right;\">\n",
       "      <th></th>\n",
       "      <th>ActGPI</th>\n",
       "      <th>RouteOfAdmin</th>\n",
       "      <th>State</th>\n",
       "      <th>QTY</th>\n",
       "      <th>For_How_Many_Days</th>\n",
       "      <th>Age</th>\n",
       "      <th>MailRetail</th>\n",
       "      <th>Date</th>\n",
       "      <th>AmountPaid</th>\n",
       "      <th>Sex</th>\n",
       "      <th>PurchasedBy</th>\n",
       "      <th>Pharmacy</th>\n",
       "      <th>UID</th>\n",
       "      <th>theoretical_PD</th>\n",
       "      <th>lag</th>\n",
       "    </tr>\n",
       "  </thead>\n",
       "  <tbody>\n",
       "    <tr>\n",
       "      <th>0</th>\n",
       "      <td>340</td>\n",
       "      <td>A</td>\n",
       "      <td>IN</td>\n",
       "      <td>30.0</td>\n",
       "      <td>30.0</td>\n",
       "      <td>59</td>\n",
       "      <td>R</td>\n",
       "      <td>2012-01-30</td>\n",
       "      <td>7.0</td>\n",
       "      <td>M</td>\n",
       "      <td>Patient</td>\n",
       "      <td>PHARMACY 1</td>\n",
       "      <td>1001 Medication1</td>\n",
       "      <td>2012-02-29</td>\n",
       "      <td>20.0</td>\n",
       "    </tr>\n",
       "    <tr>\n",
       "      <th>1</th>\n",
       "      <td>340</td>\n",
       "      <td>A</td>\n",
       "      <td>IN</td>\n",
       "      <td>30.0</td>\n",
       "      <td>30.0</td>\n",
       "      <td>59</td>\n",
       "      <td>R</td>\n",
       "      <td>2012-03-20</td>\n",
       "      <td>7.0</td>\n",
       "      <td>M</td>\n",
       "      <td>Patient</td>\n",
       "      <td>PHARMACY 1</td>\n",
       "      <td>1001 Medication1</td>\n",
       "      <td>2012-04-19</td>\n",
       "      <td>22.0</td>\n",
       "    </tr>\n",
       "    <tr>\n",
       "      <th>2</th>\n",
       "      <td>340</td>\n",
       "      <td>A</td>\n",
       "      <td>IN</td>\n",
       "      <td>30.0</td>\n",
       "      <td>30.0</td>\n",
       "      <td>59</td>\n",
       "      <td>R</td>\n",
       "      <td>2012-05-11</td>\n",
       "      <td>7.0</td>\n",
       "      <td>M</td>\n",
       "      <td>Patient</td>\n",
       "      <td>PHARMACY 1</td>\n",
       "      <td>1001 Medication1</td>\n",
       "      <td>2012-06-10</td>\n",
       "      <td>14.0</td>\n",
       "    </tr>\n",
       "    <tr>\n",
       "      <th>3</th>\n",
       "      <td>340</td>\n",
       "      <td>A</td>\n",
       "      <td>IN</td>\n",
       "      <td>30.0</td>\n",
       "      <td>30.0</td>\n",
       "      <td>59</td>\n",
       "      <td>R</td>\n",
       "      <td>2012-06-24</td>\n",
       "      <td>7.0</td>\n",
       "      <td>M</td>\n",
       "      <td>Patient</td>\n",
       "      <td>PHARMACY 1</td>\n",
       "      <td>1001 Medication1</td>\n",
       "      <td>2012-07-24</td>\n",
       "      <td>7.0</td>\n",
       "    </tr>\n",
       "    <tr>\n",
       "      <th>4</th>\n",
       "      <td>340</td>\n",
       "      <td>A</td>\n",
       "      <td>IN</td>\n",
       "      <td>30.0</td>\n",
       "      <td>30.0</td>\n",
       "      <td>59</td>\n",
       "      <td>R</td>\n",
       "      <td>2012-07-31</td>\n",
       "      <td>7.0</td>\n",
       "      <td>M</td>\n",
       "      <td>Patient</td>\n",
       "      <td>PHARMACY 1</td>\n",
       "      <td>1001 Medication1</td>\n",
       "      <td>2012-08-30</td>\n",
       "      <td>8.0</td>\n",
       "    </tr>\n",
       "  </tbody>\n",
       "</table>\n",
       "</div>"
      ],
      "text/plain": [
       "   ActGPI RouteOfAdmin State   QTY  For_How_Many_Days  Age MailRetail  \\\n",
       "0     340            A    IN  30.0               30.0   59          R   \n",
       "1     340            A    IN  30.0               30.0   59          R   \n",
       "2     340            A    IN  30.0               30.0   59          R   \n",
       "3     340            A    IN  30.0               30.0   59          R   \n",
       "4     340            A    IN  30.0               30.0   59          R   \n",
       "\n",
       "        Date  AmountPaid Sex PurchasedBy    Pharmacy               UID  \\\n",
       "0 2012-01-30         7.0   M     Patient  PHARMACY 1  1001 Medication1   \n",
       "1 2012-03-20         7.0   M     Patient  PHARMACY 1  1001 Medication1   \n",
       "2 2012-05-11         7.0   M     Patient  PHARMACY 1  1001 Medication1   \n",
       "3 2012-06-24         7.0   M     Patient  PHARMACY 1  1001 Medication1   \n",
       "4 2012-07-31         7.0   M     Patient  PHARMACY 1  1001 Medication1   \n",
       "\n",
       "  theoretical_PD   lag  \n",
       "0     2012-02-29  20.0  \n",
       "1     2012-04-19  22.0  \n",
       "2     2012-06-10  14.0  \n",
       "3     2012-07-24   7.0  \n",
       "4     2012-08-30   8.0  "
      ]
     },
     "execution_count": 125,
     "metadata": {},
     "output_type": "execute_result"
    }
   ],
   "source": [
    "df2.drop(columns=\"DueDate\", axis=1, inplace=True)\n",
    "df2.head()"
   ]
  },
  {
   "cell_type": "markdown",
   "metadata": {},
   "source": [
    "Now that we have our value, we must determine our threshold for adherence in order to create our categoricale (boolean) variable. But first, let's clean up the data by dropping outliers."
   ]
  },
  {
   "cell_type": "markdown",
   "metadata": {},
   "source": [
    "# Nan and Outlier Detection"
   ]
  },
  {
   "cell_type": "code",
   "execution_count": 126,
   "metadata": {},
   "outputs": [
    {
     "data": {
      "text/plain": [
       "ActGPI                 0\n",
       "RouteOfAdmin           0\n",
       "State                  0\n",
       "QTY                    0\n",
       "For_How_Many_Days      0\n",
       "Age                    0\n",
       "MailRetail             0\n",
       "Date                   0\n",
       "AmountPaid             0\n",
       "Sex                    0\n",
       "PurchasedBy            0\n",
       "Pharmacy               0\n",
       "UID                    0\n",
       "theoretical_PD         0\n",
       "lag                  950\n",
       "dtype: int64"
      ]
     },
     "execution_count": 126,
     "metadata": {},
     "output_type": "execute_result"
    }
   ],
   "source": [
    "len(df) - df2.count()"
   ]
  },
  {
   "cell_type": "markdown",
   "metadata": {},
   "source": [
    "Nan values are all in the \"lag\" column. Therefore we can simply use the dropna function."
   ]
  },
  {
   "cell_type": "code",
   "execution_count": 127,
   "metadata": {},
   "outputs": [
    {
     "data": {
      "text/html": [
       "<div>\n",
       "<style scoped>\n",
       "    .dataframe tbody tr th:only-of-type {\n",
       "        vertical-align: middle;\n",
       "    }\n",
       "\n",
       "    .dataframe tbody tr th {\n",
       "        vertical-align: top;\n",
       "    }\n",
       "\n",
       "    .dataframe thead th {\n",
       "        text-align: right;\n",
       "    }\n",
       "</style>\n",
       "<table border=\"1\" class=\"dataframe\">\n",
       "  <thead>\n",
       "    <tr style=\"text-align: right;\">\n",
       "      <th></th>\n",
       "      <th>ActGPI</th>\n",
       "      <th>RouteOfAdmin</th>\n",
       "      <th>State</th>\n",
       "      <th>QTY</th>\n",
       "      <th>For_How_Many_Days</th>\n",
       "      <th>Age</th>\n",
       "      <th>MailRetail</th>\n",
       "      <th>Date</th>\n",
       "      <th>AmountPaid</th>\n",
       "      <th>Sex</th>\n",
       "      <th>PurchasedBy</th>\n",
       "      <th>Pharmacy</th>\n",
       "      <th>UID</th>\n",
       "      <th>theoretical_PD</th>\n",
       "      <th>lag</th>\n",
       "    </tr>\n",
       "  </thead>\n",
       "  <tbody>\n",
       "    <tr>\n",
       "      <th>0</th>\n",
       "      <td>340</td>\n",
       "      <td>A</td>\n",
       "      <td>IN</td>\n",
       "      <td>30.0</td>\n",
       "      <td>30.0</td>\n",
       "      <td>59</td>\n",
       "      <td>R</td>\n",
       "      <td>2012-01-30</td>\n",
       "      <td>7.0</td>\n",
       "      <td>M</td>\n",
       "      <td>Patient</td>\n",
       "      <td>PHARMACY 1</td>\n",
       "      <td>1001 Medication1</td>\n",
       "      <td>2012-02-29</td>\n",
       "      <td>20.0</td>\n",
       "    </tr>\n",
       "    <tr>\n",
       "      <th>1</th>\n",
       "      <td>340</td>\n",
       "      <td>A</td>\n",
       "      <td>IN</td>\n",
       "      <td>30.0</td>\n",
       "      <td>30.0</td>\n",
       "      <td>59</td>\n",
       "      <td>R</td>\n",
       "      <td>2012-03-20</td>\n",
       "      <td>7.0</td>\n",
       "      <td>M</td>\n",
       "      <td>Patient</td>\n",
       "      <td>PHARMACY 1</td>\n",
       "      <td>1001 Medication1</td>\n",
       "      <td>2012-04-19</td>\n",
       "      <td>22.0</td>\n",
       "    </tr>\n",
       "    <tr>\n",
       "      <th>2</th>\n",
       "      <td>340</td>\n",
       "      <td>A</td>\n",
       "      <td>IN</td>\n",
       "      <td>30.0</td>\n",
       "      <td>30.0</td>\n",
       "      <td>59</td>\n",
       "      <td>R</td>\n",
       "      <td>2012-05-11</td>\n",
       "      <td>7.0</td>\n",
       "      <td>M</td>\n",
       "      <td>Patient</td>\n",
       "      <td>PHARMACY 1</td>\n",
       "      <td>1001 Medication1</td>\n",
       "      <td>2012-06-10</td>\n",
       "      <td>14.0</td>\n",
       "    </tr>\n",
       "    <tr>\n",
       "      <th>3</th>\n",
       "      <td>340</td>\n",
       "      <td>A</td>\n",
       "      <td>IN</td>\n",
       "      <td>30.0</td>\n",
       "      <td>30.0</td>\n",
       "      <td>59</td>\n",
       "      <td>R</td>\n",
       "      <td>2012-06-24</td>\n",
       "      <td>7.0</td>\n",
       "      <td>M</td>\n",
       "      <td>Patient</td>\n",
       "      <td>PHARMACY 1</td>\n",
       "      <td>1001 Medication1</td>\n",
       "      <td>2012-07-24</td>\n",
       "      <td>7.0</td>\n",
       "    </tr>\n",
       "    <tr>\n",
       "      <th>4</th>\n",
       "      <td>340</td>\n",
       "      <td>A</td>\n",
       "      <td>IN</td>\n",
       "      <td>30.0</td>\n",
       "      <td>30.0</td>\n",
       "      <td>59</td>\n",
       "      <td>R</td>\n",
       "      <td>2012-07-31</td>\n",
       "      <td>7.0</td>\n",
       "      <td>M</td>\n",
       "      <td>Patient</td>\n",
       "      <td>PHARMACY 1</td>\n",
       "      <td>1001 Medication1</td>\n",
       "      <td>2012-08-30</td>\n",
       "      <td>8.0</td>\n",
       "    </tr>\n",
       "  </tbody>\n",
       "</table>\n",
       "</div>"
      ],
      "text/plain": [
       "   ActGPI RouteOfAdmin State   QTY  For_How_Many_Days  Age MailRetail  \\\n",
       "0     340            A    IN  30.0               30.0   59          R   \n",
       "1     340            A    IN  30.0               30.0   59          R   \n",
       "2     340            A    IN  30.0               30.0   59          R   \n",
       "3     340            A    IN  30.0               30.0   59          R   \n",
       "4     340            A    IN  30.0               30.0   59          R   \n",
       "\n",
       "        Date  AmountPaid Sex PurchasedBy    Pharmacy               UID  \\\n",
       "0 2012-01-30         7.0   M     Patient  PHARMACY 1  1001 Medication1   \n",
       "1 2012-03-20         7.0   M     Patient  PHARMACY 1  1001 Medication1   \n",
       "2 2012-05-11         7.0   M     Patient  PHARMACY 1  1001 Medication1   \n",
       "3 2012-06-24         7.0   M     Patient  PHARMACY 1  1001 Medication1   \n",
       "4 2012-07-31         7.0   M     Patient  PHARMACY 1  1001 Medication1   \n",
       "\n",
       "  theoretical_PD   lag  \n",
       "0     2012-02-29  20.0  \n",
       "1     2012-04-19  22.0  \n",
       "2     2012-06-10  14.0  \n",
       "3     2012-07-24   7.0  \n",
       "4     2012-08-30   8.0  "
      ]
     },
     "execution_count": 127,
     "metadata": {},
     "output_type": "execute_result"
    }
   ],
   "source": [
    "df_na=df2.dropna()\n",
    "df_na.head()"
   ]
  },
  {
   "cell_type": "markdown",
   "metadata": {},
   "source": [
    "Now Outliers"
   ]
  },
  {
   "cell_type": "code",
   "execution_count": 18,
   "metadata": {},
   "outputs": [
    {
     "data": {
      "text/plain": [
       "<matplotlib.axes._subplots.AxesSubplot at 0x11d56f080>"
      ]
     },
     "execution_count": 18,
     "metadata": {},
     "output_type": "execute_result"
    },
    {
     "data": {
      "image/png": "[encoded data removed]",
      "text/plain": [
       "<Figure size 432x288 with 1 Axes>"
      ]
     },
     "metadata": {
      "needs_background": "light"
     },
     "output_type": "display_data"
    }
   ],
   "source": [
    "df_na.boxplot()"
   ]
  },
  {
   "cell_type": "markdown",
   "metadata": {},
   "source": [
    "We should at least get rid of the main outlier(s) here i.e. with \"AmountPaid\" > 3.000"
   ]
  },
  {
   "cell_type": "code",
   "execution_count": 19,
   "metadata": {},
   "outputs": [],
   "source": [
    "df_clean=df_na[df_na['AmountPaid']<3000]"
   ]
  },
  {
   "cell_type": "markdown",
   "metadata": {},
   "source": [
    "# Setting a Threshold for \"lag\" and Creating the Categorical Variable\n",
    "\n",
    "In order to determine the threshold, I decided to calculate the mean per UID (Patient&Medication) and then, most probably set the cut at the 66.67th (2/3) percentile.\n",
    "\n",
    "My assumption here is that for one given patient, adherence can be different for two different medications."
   ]
  },
  {
   "cell_type": "code",
   "execution_count": 20,
   "metadata": {},
   "outputs": [],
   "source": [
    "lag_threshold = df_clean.groupby('UID').agg(np.mean).quantile(2/3)[-1]"
   ]
  },
  {
   "cell_type": "code",
   "execution_count": 21,
   "metadata": {},
   "outputs": [],
   "source": [
    "df_grouped = df_clean.groupby('UID').agg(np.mean)"
   ]
  },
  {
   "cell_type": "code",
   "execution_count": 22,
   "metadata": {},
   "outputs": [
    {
     "data": {
      "text/plain": [
       "count    761.000000\n",
       "mean      23.028104\n",
       "std       70.498311\n",
       "min     -438.000000\n",
       "25%        0.210526\n",
       "50%        4.300000\n",
       "75%       21.000000\n",
       "max      623.000000\n",
       "Name: lag, dtype: float64"
      ]
     },
     "execution_count": 22,
     "metadata": {},
     "output_type": "execute_result"
    }
   ],
   "source": [
    "df_grouped.lag.describe()"
   ]
  },
  {
   "cell_type": "code",
   "execution_count": 23,
   "metadata": {},
   "outputs": [],
   "source": [
    "df_grouped['adherence'] = np.where(df_grouped['lag']>lag_threshold,1,0)"
   ]
  },
  {
   "cell_type": "code",
   "execution_count": 24,
   "metadata": {},
   "outputs": [
    {
     "data": {
      "text/html": [
       "<div>\n",
       "<style scoped>\n",
       "    .dataframe tbody tr th:only-of-type {\n",
       "        vertical-align: middle;\n",
       "    }\n",
       "\n",
       "    .dataframe tbody tr th {\n",
       "        vertical-align: top;\n",
       "    }\n",
       "\n",
       "    .dataframe thead th {\n",
       "        text-align: right;\n",
       "    }\n",
       "</style>\n",
       "<table border=\"1\" class=\"dataframe\">\n",
       "  <thead>\n",
       "    <tr style=\"text-align: right;\">\n",
       "      <th></th>\n",
       "      <th>ActGPI</th>\n",
       "      <th>QTY</th>\n",
       "      <th>For_How_Many_Days</th>\n",
       "      <th>Age</th>\n",
       "      <th>AmountPaid</th>\n",
       "      <th>lag</th>\n",
       "      <th>adherence</th>\n",
       "    </tr>\n",
       "    <tr>\n",
       "      <th>UID</th>\n",
       "      <th></th>\n",
       "      <th></th>\n",
       "      <th></th>\n",
       "      <th></th>\n",
       "      <th></th>\n",
       "      <th></th>\n",
       "      <th></th>\n",
       "    </tr>\n",
       "  </thead>\n",
       "  <tbody>\n",
       "    <tr>\n",
       "      <th>1001 Medication1</th>\n",
       "      <td>340</td>\n",
       "      <td>30.0</td>\n",
       "      <td>30.0</td>\n",
       "      <td>59</td>\n",
       "      <td>7.0</td>\n",
       "      <td>14.421053</td>\n",
       "      <td>0</td>\n",
       "    </tr>\n",
       "    <tr>\n",
       "      <th>1001 Medication10</th>\n",
       "      <td>281</td>\n",
       "      <td>30.0</td>\n",
       "      <td>30.0</td>\n",
       "      <td>59</td>\n",
       "      <td>4.0</td>\n",
       "      <td>32.000000</td>\n",
       "      <td>1</td>\n",
       "    </tr>\n",
       "    <tr>\n",
       "      <th>1001 Medication11</th>\n",
       "      <td>361</td>\n",
       "      <td>30.0</td>\n",
       "      <td>30.0</td>\n",
       "      <td>59</td>\n",
       "      <td>4.0</td>\n",
       "      <td>15.428571</td>\n",
       "      <td>1</td>\n",
       "    </tr>\n",
       "    <tr>\n",
       "      <th>1001 Medication12</th>\n",
       "      <td>361</td>\n",
       "      <td>30.0</td>\n",
       "      <td>30.0</td>\n",
       "      <td>59</td>\n",
       "      <td>4.0</td>\n",
       "      <td>12.181818</td>\n",
       "      <td>0</td>\n",
       "    </tr>\n",
       "    <tr>\n",
       "      <th>1001 Medication13</th>\n",
       "      <td>659</td>\n",
       "      <td>90.0</td>\n",
       "      <td>30.0</td>\n",
       "      <td>59</td>\n",
       "      <td>20.0</td>\n",
       "      <td>0.074074</td>\n",
       "      <td>0</td>\n",
       "    </tr>\n",
       "  </tbody>\n",
       "</table>\n",
       "</div>"
      ],
      "text/plain": [
       "                   ActGPI   QTY  For_How_Many_Days  Age  AmountPaid  \\\n",
       "UID                                                                   \n",
       "1001 Medication1      340  30.0               30.0   59         7.0   \n",
       "1001 Medication10     281  30.0               30.0   59         4.0   \n",
       "1001 Medication11     361  30.0               30.0   59         4.0   \n",
       "1001 Medication12     361  30.0               30.0   59         4.0   \n",
       "1001 Medication13     659  90.0               30.0   59        20.0   \n",
       "\n",
       "                         lag  adherence  \n",
       "UID                                      \n",
       "1001 Medication1   14.421053          0  \n",
       "1001 Medication10  32.000000          1  \n",
       "1001 Medication11  15.428571          1  \n",
       "1001 Medication12  12.181818          0  \n",
       "1001 Medication13   0.074074          0  "
      ]
     },
     "execution_count": 24,
     "metadata": {},
     "output_type": "execute_result"
    }
   ],
   "source": [
    "df_grouped.head()"
   ]
  },
  {
   "cell_type": "code",
   "execution_count": 25,
   "metadata": {},
   "outputs": [
    {
     "data": {
      "text/plain": [
       "<matplotlib.axes._subplots.AxesSubplot at 0x11d772a20>"
      ]
     },
     "execution_count": 25,
     "metadata": {},
     "output_type": "execute_result"
    },
    {
     "data": {
      "image/png": "[encoded data removed]",
      "text/plain": [
       "<Figure size 432x288 with 1 Axes>"
      ]
     },
     "metadata": {
      "needs_background": "light"
     },
     "output_type": "display_data"
    }
   ],
   "source": [
    "df_grouped.adherence.hist()"
   ]
  },
  {
   "cell_type": "markdown",
   "metadata": {},
   "source": [
    "Approximately 1/3 Vs. 2/3 ...or actually, pretty precisely, since this is the rigorous meaning of the threshold that we picked! We can work with this data. But before we go further, let's check if the data can already tell us something:"
   ]
  },
  {
   "cell_type": "code",
   "execution_count": 26,
   "metadata": {},
   "outputs": [
    {
     "data": {
      "text/html": [
       "<div>\n",
       "<style scoped>\n",
       "    .dataframe tbody tr th:only-of-type {\n",
       "        vertical-align: middle;\n",
       "    }\n",
       "\n",
       "    .dataframe tbody tr th {\n",
       "        vertical-align: top;\n",
       "    }\n",
       "\n",
       "    .dataframe thead th {\n",
       "        text-align: right;\n",
       "    }\n",
       "</style>\n",
       "<table border=\"1\" class=\"dataframe\">\n",
       "  <thead>\n",
       "    <tr style=\"text-align: right;\">\n",
       "      <th></th>\n",
       "      <th>ActGPI</th>\n",
       "      <th>QTY</th>\n",
       "      <th>For_How_Many_Days</th>\n",
       "      <th>Age</th>\n",
       "      <th>AmountPaid</th>\n",
       "      <th>lag</th>\n",
       "    </tr>\n",
       "    <tr>\n",
       "      <th>adherence</th>\n",
       "      <th></th>\n",
       "      <th></th>\n",
       "      <th></th>\n",
       "      <th></th>\n",
       "      <th></th>\n",
       "      <th></th>\n",
       "    </tr>\n",
       "  </thead>\n",
       "  <tbody>\n",
       "    <tr>\n",
       "      <th>0</th>\n",
       "      <td>487.702756</td>\n",
       "      <td>43.212534</td>\n",
       "      <td>38.389278</td>\n",
       "      <td>58.175197</td>\n",
       "      <td>12.924935</td>\n",
       "      <td>-2.863013</td>\n",
       "    </tr>\n",
       "    <tr>\n",
       "      <th>1</th>\n",
       "      <td>501.885375</td>\n",
       "      <td>46.390279</td>\n",
       "      <td>24.994506</td>\n",
       "      <td>57.245059</td>\n",
       "      <td>23.889544</td>\n",
       "      <td>75.015010</td>\n",
       "    </tr>\n",
       "  </tbody>\n",
       "</table>\n",
       "</div>"
      ],
      "text/plain": [
       "               ActGPI        QTY  For_How_Many_Days        Age  AmountPaid  \\\n",
       "adherence                                                                    \n",
       "0          487.702756  43.212534          38.389278  58.175197   12.924935   \n",
       "1          501.885375  46.390279          24.994506  57.245059   23.889544   \n",
       "\n",
       "                 lag  \n",
       "adherence             \n",
       "0          -2.863013  \n",
       "1          75.015010  "
      ]
     },
     "execution_count": 26,
     "metadata": {},
     "output_type": "execute_result"
    }
   ],
   "source": [
    "df_grouped.groupby('adherence').mean()"
   ]
  },
  {
   "cell_type": "markdown",
   "metadata": {},
   "source": [
    "Beyond the obvious lag difference, we see that the average amount paid (per medication and per purchase) is higher (almost double) for patients who don't adhere. And their purchases cover a shorter period of time."
   ]
  },
  {
   "cell_type": "markdown",
   "metadata": {},
   "source": [
    "# Now to Modelling :-)"
   ]
  },
  {
   "cell_type": "markdown",
   "metadata": {},
   "source": [
    "We want a logistic regression."
   ]
  },
  {
   "cell_type": "markdown",
   "metadata": {},
   "source": [
    "# Logistic Regression"
   ]
  },
  {
   "cell_type": "markdown",
   "metadata": {},
   "source": [
    "Logistic Regression Assumptions:\n",
    "Binary logistic regression requires the dependent variable to be binary. -->ok\n",
    "For a binary regression, the factor level 1 of the dependent variable should represent the desired outcome. -->ok (non-adherence is 1 and that's what we're looking for)\n",
    "Only the meaningful variables should be included. --> The dataframe we are now working with is a PCA of ONLY the numeric variables. Therefore, it might be useful to include some of the data that we filtered out previously (RouteOfAdmin, State, MailRetail, Sex, PurchasedBy, Pharmacy)\n",
    "The independent variables should be independent of each other. That is, the model should have little or no multicollinearity. --> We should check this.\n",
    "The independent variables are linearly related to the log odds. --> Say whaaat?!!\n",
    "Logistic regression requires quite large sample sizes. --> ok"
   ]
  },
  {
   "cell_type": "markdown",
   "metadata": {},
   "source": [
    "Since we're in a bit of a rush, let's start by doing as we initially planned and directly build this logistic regression."
   ]
  },
  {
   "cell_type": "markdown",
   "metadata": {},
   "source": [
    "# First Imperfect Attempt (From Full Grouped Set)"
   ]
  },
  {
   "cell_type": "markdown",
   "metadata": {},
   "source": [
    "We should split our dataset into a train and a test set (80%/20%), and define our target and variables"
   ]
  },
  {
   "cell_type": "code",
   "execution_count": 36,
   "metadata": {},
   "outputs": [
    {
     "name": "stdout",
     "output_type": "stream",
     "text": [
      "(153, 5)\n",
      "(608,)\n",
      "(153,)\n",
      "(608, 5)\n"
     ]
    }
   ],
   "source": [
    "from sklearn.model_selection import train_test_split\n",
    "\n",
    "adh = df_grouped['adherence']\n",
    "other_variables = df_grouped.loc[:, ~df_grouped.columns.isin(['lag','adherence'])]\n",
    "X_train, X_test, y_train, y_test = train_test_split(other_variables, adh, test_size=0.2)\n",
    "print(X_test.shape)\n",
    "print(y_train.shape)\n",
    "print(y_test.shape)\n",
    "print(X_train.shape)"
   ]
  },
  {
   "cell_type": "markdown",
   "metadata": {},
   "source": [
    "Now the real logistic regression model"
   ]
  },
  {
   "cell_type": "code",
   "execution_count": 38,
   "metadata": {},
   "outputs": [
    {
     "name": "stdout",
     "output_type": "stream",
     "text": [
      "Optimization terminated successfully.\n",
      "         Current function value: 0.569580\n",
      "         Iterations 7\n",
      "                         Results: Logit\n",
      "=================================================================\n",
      "Model:              Logit            Pseudo R-squared: 0.109     \n",
      "Dependent Variable: adherence        AIC:              702.6092  \n",
      "Date:               2019-07-03 17:40 BIC:              724.6601  \n",
      "No. Observations:   608              Log-Likelihood:   -346.30   \n",
      "Df Model:           4                LL-Null:          -388.60   \n",
      "Df Residuals:       603              LLR p-value:      1.8565e-17\n",
      "Converged:          1.0000           Scale:            1.0000    \n",
      "No. Iterations:     7.0000                                       \n",
      "-----------------------------------------------------------------\n",
      "                   Coef.  Std.Err.    z    P>|z|   [0.025  0.975]\n",
      "-----------------------------------------------------------------\n",
      "ActGPI             0.0012   0.0005  2.4860 0.0129  0.0003  0.0021\n",
      "QTY                0.0000   0.0022  0.0154 0.9877 -0.0043  0.0043\n",
      "For_How_Many_Days -0.0658   0.0095 -6.9518 0.0000 -0.0844 -0.0473\n",
      "Age                0.0110   0.0054  2.0495 0.0404  0.0005  0.0216\n",
      "AmountPaid         0.0016   0.0019  0.8224 0.4108 -0.0022  0.0054\n",
      "=================================================================\n",
      "\n"
     ]
    }
   ],
   "source": [
    "import statsmodels.api as sm\n",
    "l_model=sm.Logit(y_train,X_train).fit()\n",
    "print(l_model.summary2())"
   ]
  },
  {
   "cell_type": "code",
   "execution_count": 44,
   "metadata": {},
   "outputs": [],
   "source": [
    "y_pred = np.where(l_model.predict(X_test)<0.5,0,1)"
   ]
  },
  {
   "cell_type": "markdown",
   "metadata": {},
   "source": [
    "It seems like \"QTY\" and \"AmountPaid\" are not relevant variables but let's see how this works with our test set."
   ]
  },
  {
   "cell_type": "code",
   "execution_count": 45,
   "metadata": {},
   "outputs": [
    {
     "data": {
      "image/png": "[encoded data removed]",
      "text/plain": [
       "<Figure size 432x288 with 1 Axes>"
      ]
     },
     "metadata": {
      "needs_background": "light"
     },
     "output_type": "display_data"
    }
   ],
   "source": [
    "import matplotlib.pyplot as plt\n",
    "from sklearn.metrics import roc_auc_score\n",
    "from sklearn.metrics import roc_curve\n",
    "logit_roc_auc = roc_auc_score(y_test, y_pred)\n",
    "fpr, tpr, thresholds = roc_curve(y_test, y_pred)\n",
    "plt.figure()\n",
    "plt.plot(fpr, tpr, label='Logistic Regression (area = %0.2f)' % logit_roc_auc)\n",
    "plt.plot([0, 1], [0, 1],'r--')\n",
    "plt.xlim([0.0, 1.0])\n",
    "plt.ylim([0.0, 1.05])\n",
    "plt.xlabel('False Positive Rate')\n",
    "plt.ylabel('True Positive Rate')\n",
    "plt.title('Receiver operating characteristic')\n",
    "plt.legend(loc=\"lower right\")\n",
    "plt.show()"
   ]
  },
  {
   "cell_type": "markdown",
   "metadata": {},
   "source": [
    "I was having some trouble with the statsmodel version of the logistic regression, so I switched to SciKit"
   ]
  },
  {
   "cell_type": "code",
   "execution_count": 46,
   "metadata": {},
   "outputs": [
    {
     "name": "stderr",
     "output_type": "stream",
     "text": [
      "/anaconda3/lib/python3.7/site-packages/sklearn/linear_model/logistic.py:433: FutureWarning: Default solver will be changed to 'lbfgs' in 0.22. Specify a solver to silence this warning.\n",
      "  FutureWarning)\n"
     ]
    },
    {
     "data": {
      "text/plain": [
       "LogisticRegression(C=1.0, class_weight=None, dual=False, fit_intercept=True,\n",
       "          intercept_scaling=1, max_iter=100, multi_class='warn',\n",
       "          n_jobs=None, penalty='l2', random_state=None, solver='warn',\n",
       "          tol=0.0001, verbose=0, warm_start=False)"
      ]
     },
     "execution_count": 46,
     "metadata": {},
     "output_type": "execute_result"
    }
   ],
   "source": [
    "from sklearn.metrics import confusion_matrix\n",
    "from sklearn.linear_model import LogisticRegression\n",
    "from sklearn import metrics\n",
    "log2 = LogisticRegression()\n",
    "log2.fit(X_train, y_train)"
   ]
  },
  {
   "cell_type": "code",
   "execution_count": 47,
   "metadata": {},
   "outputs": [
    {
     "data": {
      "text/plain": [
       "array([0, 0, 0, 0, 0, 0, 0, 0, 0, 0, 1, 0, 0, 0, 0, 0, 0, 0, 1, 0, 0, 0,\n",
       "       0, 0, 0, 0, 0, 0, 0, 0, 0, 0, 0, 1, 0, 0, 0, 0, 0, 0, 0, 0, 0, 0,\n",
       "       0, 0, 0, 0, 0, 1, 0, 0, 0, 0, 0, 0, 0, 0, 0, 0, 0, 0, 0, 0, 0, 0,\n",
       "       0, 0, 0, 0, 0, 0, 0, 0, 0, 0, 0, 0, 0, 1, 0, 0, 0, 0, 1, 0, 0, 0,\n",
       "       0, 0, 0, 0, 0, 0, 0, 0, 0, 0, 0, 0, 0, 0, 0, 0, 0, 1, 0, 0, 0, 0,\n",
       "       0, 0, 0, 0, 0, 0, 0, 0, 0, 0, 1, 1, 0, 0, 1, 1, 0, 1, 0, 0, 0, 0,\n",
       "       0, 0, 1, 0, 0, 0, 0, 0, 0, 0, 0, 0, 1, 0, 1, 0, 0, 0, 0, 1, 0])"
      ]
     },
     "execution_count": 47,
     "metadata": {},
     "output_type": "execute_result"
    }
   ],
   "source": [
    "y_pred2 = log2.predict(X_test)"
   ]
  },
  {
   "cell_type": "code",
   "execution_count": 48,
   "metadata": {},
   "outputs": [
    {
     "data": {
      "image/png": "[encoded data removed]",
      "text/plain": [
       "<Figure size 432x288 with 1 Axes>"
      ]
     },
     "metadata": {
      "needs_background": "light"
     },
     "output_type": "display_data"
    }
   ],
   "source": [
    "logit_roc_auc = roc_auc_score(y_test, y_pred2)\n",
    "fpr, tpr, thresholds = roc_curve(y_test, y_pred2)\n",
    "plt.figure()\n",
    "plt.plot(fpr, tpr, label='Logistic Regression (area = %0.2f)' % logit_roc_auc)\n",
    "plt.plot([0, 1], [0, 1],'r--')\n",
    "plt.xlim([0.0, 1.0])\n",
    "plt.ylim([0.0, 1.05])\n",
    "plt.xlabel('False Positive Rate')\n",
    "plt.ylabel('True Positive Rate')\n",
    "plt.title('Receiver operating characteristic')\n",
    "plt.legend(loc=\"lower right\")\n",
    "plt.show()"
   ]
  },
  {
   "cell_type": "markdown",
   "metadata": {},
   "source": [
    "Same results (meaning the default threshold of the SciKit log.reg. is 0.5)"
   ]
  },
  {
   "cell_type": "code",
   "execution_count": 49,
   "metadata": {},
   "outputs": [
    {
     "name": "stdout",
     "output_type": "stream",
     "text": [
      "[[104   1]\n",
      " [ 33  15]]\n"
     ]
    }
   ],
   "source": [
    "from sklearn.metrics import confusion_matrix\n",
    "confusion_matrix = confusion_matrix(y_test, y_pred)\n",
    "print(confusion_matrix)"
   ]
  },
  {
   "cell_type": "markdown",
   "metadata": {},
   "source": [
    "Now let's try without the 2 useless columns"
   ]
  },
  {
   "cell_type": "code",
   "execution_count": 51,
   "metadata": {
    "scrolled": true
   },
   "outputs": [
    {
     "name": "stdout",
     "output_type": "stream",
     "text": [
      "(153, 3)\n",
      "(608,)\n",
      "(153,)\n",
      "(608, 3)\n"
     ]
    }
   ],
   "source": [
    "adh = df_grouped['adherence']\n",
    "other_variables = df_grouped.loc[:, ~df_grouped.columns.isin(['QTY','AmountPaid','lag','adherence'])]\n",
    "X_train, X_test, y_train, y_test = train_test_split(other_variables, adh, test_size=0.2)\n",
    "print(X_test.shape)\n",
    "print(y_train.shape)\n",
    "print(y_test.shape)\n",
    "print(X_train.shape)"
   ]
  },
  {
   "cell_type": "code",
   "execution_count": 52,
   "metadata": {},
   "outputs": [
    {
     "name": "stderr",
     "output_type": "stream",
     "text": [
      "/anaconda3/lib/python3.7/site-packages/sklearn/linear_model/logistic.py:433: FutureWarning: Default solver will be changed to 'lbfgs' in 0.22. Specify a solver to silence this warning.\n",
      "  FutureWarning)\n"
     ]
    },
    {
     "data": {
      "image/png": "[encoded data removed]",
      "text/plain": [
       "<Figure size 432x288 with 1 Axes>"
      ]
     },
     "metadata": {
      "needs_background": "light"
     },
     "output_type": "display_data"
    }
   ],
   "source": [
    "log3 = LogisticRegression()\n",
    "log3.fit(X_train, y_train)\n",
    "\n",
    "y_pred_red = log3.predict(X_test)\n",
    "\n",
    "logit_roc_auc = roc_auc_score(y_test, y_pred_red)\n",
    "rf_roc_auc = roc_auc_score(y_test, y_pred_red)\n",
    "fpr, tpr, thresholds = roc_curve(y_test, y_pred_red)\n",
    "plt.figure()\n",
    "plt.plot(fpr, tpr, label='Logistic Regression (area = %0.2f)' % logit_roc_auc)\n",
    "plt.plot([0, 1], [0, 1],'r--')\n",
    "plt.xlim([0.0, 1.0])\n",
    "plt.ylim([0.0, 1.05])\n",
    "plt.xlabel('False Positive Rate')\n",
    "plt.ylabel('True Positive Rate')\n",
    "plt.title('Receiver operating characteristic')\n",
    "plt.legend(loc=\"lower right\")\n",
    "plt.show()"
   ]
  },
  {
   "cell_type": "markdown",
   "metadata": {},
   "source": [
    "This model is better but still not great. Let's try Random Forest"
   ]
  },
  {
   "cell_type": "code",
   "execution_count": 55,
   "metadata": {},
   "outputs": [
    {
     "data": {
      "image/png": "[encoded data removed]",
      "text/plain": [
       "<Figure size 432x288 with 1 Axes>"
      ]
     },
     "metadata": {
      "needs_background": "light"
     },
     "output_type": "display_data"
    }
   ],
   "source": [
    "from sklearn.ensemble import RandomForestClassifier\n",
    "\n",
    "clf = RandomForestClassifier(n_estimators=100, max_depth=2, random_state=0)\n",
    "clf.fit(X_train, y_train)\n",
    "y_pred_rf = clf.predict(X_test)\n",
    "\n",
    "#print(confusion_matrix(y_test, y_pred_rf))\n",
    "\n",
    "logit_roc_auc = roc_auc_score(y_test, y_pred_rf)\n",
    "rf_roc_auc = roc_auc_score(y_test, y_pred_rf)\n",
    "fpr, tpr, thresholds = roc_curve(y_test, y_pred_rf)\n",
    "plt.figure()\n",
    "plt.plot(fpr, tpr, label='Random Forest (area = %0.2f)' % logit_roc_auc)\n",
    "plt.plot([0, 1], [0, 1],'r--')\n",
    "plt.xlim([0.0, 1.0])\n",
    "plt.ylim([0.0, 1.05])\n",
    "plt.xlabel('False Positive Rate')\n",
    "plt.ylabel('True Positive Rate')\n",
    "plt.title('Receiver operating characteristic')\n",
    "plt.legend(loc=\"lower right\")\n",
    "plt.show()"
   ]
  },
  {
   "cell_type": "markdown",
   "metadata": {},
   "source": [
    "This model is slightly better than the previous one but still far from perfect (area under curve is only 0.64). Still, it will allow the company to better target potential \"non-adherent\" patients and monitor them more closely."
   ]
  },
  {
   "cell_type": "markdown",
   "metadata": {},
   "source": [
    "Combining both weeks' projects, let's try unsupervized learning (clustering) on the full dataset. This will allow me to generate labels (depending on clusters) which MIGHT better the supervized ML model."
   ]
  },
  {
   "cell_type": "markdown",
   "metadata": {},
   "source": [
    "# Unsupervized ML"
   ]
  },
  {
   "cell_type": "markdown",
   "metadata": {},
   "source": [
    "Let's do a bit of unsupervized learning on the complete dataset in order to create clusters. From these clusters, we will assign a label to each row and turn it into dummies. From this new dataset, we will see if supervized learning models are more accurate."
   ]
  },
  {
   "cell_type": "code",
   "execution_count": 113,
   "metadata": {},
   "outputs": [
    {
     "data": {
      "text/html": [
       "<div>\n",
       "<style scoped>\n",
       "    .dataframe tbody tr th:only-of-type {\n",
       "        vertical-align: middle;\n",
       "    }\n",
       "\n",
       "    .dataframe tbody tr th {\n",
       "        vertical-align: top;\n",
       "    }\n",
       "\n",
       "    .dataframe thead th {\n",
       "        text-align: right;\n",
       "    }\n",
       "</style>\n",
       "<table border=\"1\" class=\"dataframe\">\n",
       "  <thead>\n",
       "    <tr style=\"text-align: right;\">\n",
       "      <th></th>\n",
       "      <th>ActGPI</th>\n",
       "      <th>QTY</th>\n",
       "      <th>For_How_Many_Days</th>\n",
       "      <th>Age</th>\n",
       "      <th>AmountPaid</th>\n",
       "      <th>lag</th>\n",
       "    </tr>\n",
       "    <tr>\n",
       "      <th>UID</th>\n",
       "      <th></th>\n",
       "      <th></th>\n",
       "      <th></th>\n",
       "      <th></th>\n",
       "      <th></th>\n",
       "      <th></th>\n",
       "    </tr>\n",
       "  </thead>\n",
       "  <tbody>\n",
       "    <tr>\n",
       "      <th>1001 Medication1</th>\n",
       "      <td>340</td>\n",
       "      <td>30.0</td>\n",
       "      <td>30.0</td>\n",
       "      <td>59</td>\n",
       "      <td>7.0</td>\n",
       "      <td>14.421053</td>\n",
       "    </tr>\n",
       "    <tr>\n",
       "      <th>1001 Medication10</th>\n",
       "      <td>281</td>\n",
       "      <td>30.0</td>\n",
       "      <td>30.0</td>\n",
       "      <td>59</td>\n",
       "      <td>4.0</td>\n",
       "      <td>32.000000</td>\n",
       "    </tr>\n",
       "    <tr>\n",
       "      <th>1001 Medication11</th>\n",
       "      <td>361</td>\n",
       "      <td>30.0</td>\n",
       "      <td>30.0</td>\n",
       "      <td>59</td>\n",
       "      <td>4.0</td>\n",
       "      <td>15.428571</td>\n",
       "    </tr>\n",
       "    <tr>\n",
       "      <th>1001 Medication12</th>\n",
       "      <td>361</td>\n",
       "      <td>30.0</td>\n",
       "      <td>30.0</td>\n",
       "      <td>59</td>\n",
       "      <td>4.0</td>\n",
       "      <td>12.181818</td>\n",
       "    </tr>\n",
       "    <tr>\n",
       "      <th>1001 Medication13</th>\n",
       "      <td>659</td>\n",
       "      <td>90.0</td>\n",
       "      <td>30.0</td>\n",
       "      <td>59</td>\n",
       "      <td>20.0</td>\n",
       "      <td>0.074074</td>\n",
       "    </tr>\n",
       "  </tbody>\n",
       "</table>\n",
       "</div>"
      ],
      "text/plain": [
       "                   ActGPI   QTY  For_How_Many_Days  Age  AmountPaid        lag\n",
       "UID                                                                           \n",
       "1001 Medication1      340  30.0               30.0   59         7.0  14.421053\n",
       "1001 Medication10     281  30.0               30.0   59         4.0  32.000000\n",
       "1001 Medication11     361  30.0               30.0   59         4.0  15.428571\n",
       "1001 Medication12     361  30.0               30.0   59         4.0  12.181818\n",
       "1001 Medication13     659  90.0               30.0   59        20.0   0.074074"
      ]
     },
     "execution_count": 113,
     "metadata": {},
     "output_type": "execute_result"
    }
   ],
   "source": [
    "df_unsuper = df_grouped.loc[:, ~df_grouped.columns.isin(['adherence'])]\n",
    "df_unsuper.head()"
   ]
  },
  {
   "cell_type": "markdown",
   "metadata": {},
   "source": [
    "The grouped dataframe only contains numerical columns. Let's join it with df_clean on \"UID\".\n",
    "The difficulty is that UIDs are unique in the grouped dataframe but not in df_clean.\n",
    "Let's check whether every UID has unique values for each column (except dates) in the ungrouped df"
   ]
  },
  {
   "cell_type": "markdown",
   "metadata": {},
   "source": [
    "Let's define the non-numeric columns we are interested in. This will allow us to loop through the ungrouped df and check which of these columns do not have unique values for a given UID."
   ]
  },
  {
   "cell_type": "code",
   "execution_count": 103,
   "metadata": {},
   "outputs": [
    {
     "data": {
      "text/plain": [
       "Index(['RouteOfAdmin', 'State', 'MailRetail', 'Sex', 'PurchasedBy', 'Pharmacy',\n",
       "       'UID'],\n",
       "      dtype='object')"
      ]
     },
     "execution_count": 103,
     "metadata": {},
     "output_type": "execute_result"
    }
   ],
   "source": [
    "g.columns[[(i not in g._get_numeric_data().columns)& (i not in ['theoretical_PD','Date']) for i in g.columns]]"
   ]
  },
  {
   "cell_type": "code",
   "execution_count": 142,
   "metadata": {},
   "outputs": [
    {
     "name": "stdout",
     "output_type": "stream",
     "text": [
      "1003 Medication28 Pharmacy\n",
      "1003 Medication29 Pharmacy\n",
      "1003 Medication30 Pharmacy\n",
      "1003 Medication33 Pharmacy\n",
      "1003 Medication35 Pharmacy\n",
      "1003 Medication36 Pharmacy\n",
      "1003 Medication37 Pharmacy\n",
      "1008 Medication101 Pharmacy\n",
      "1008 Medication103 Pharmacy\n",
      "1008 Medication18 Pharmacy\n",
      "1008 Medication36 Pharmacy\n",
      "1008 Medication74 Pharmacy\n",
      "1008 Medication95 Pharmacy\n",
      "1008 Medication98 Pharmacy\n",
      "1011 Medication125 Pharmacy\n",
      "1011 Medication127 Pharmacy\n",
      "1011 Medication128 Pharmacy\n",
      "1011 Medication129 Pharmacy\n",
      "1011 Medication130 Pharmacy\n",
      "1011 Medication131 Pharmacy\n",
      "1012 Medication135 Pharmacy\n",
      "1012 Medication138 Pharmacy\n",
      "1012 Medication139 Pharmacy\n",
      "1012 Medication141 Pharmacy\n",
      "1012 Medication142 Pharmacy\n",
      "1012 Medication143 Pharmacy\n",
      "1012 Medication145 Pharmacy\n",
      "1012 Medication147 Pharmacy\n",
      "1012 Medication148 Pharmacy\n",
      "1012 Medication152 Pharmacy\n",
      "1012 Medication153 Pharmacy\n",
      "1012 Medication19 Pharmacy\n",
      "1012 Medication20 Pharmacy\n",
      "1012 Medication33 Pharmacy\n",
      "1012 Medication95 Pharmacy\n",
      "1013 Medication157 Pharmacy\n",
      "1013 Medication20 Pharmacy\n",
      "1013 Medication45 Pharmacy\n",
      "1013 Medication64 Pharmacy\n",
      "1024 Medication20 Pharmacy\n",
      "1024 Medication258 Pharmacy\n",
      "1024 Medication267 Pharmacy\n",
      "1024 Medication270 Pharmacy\n",
      "1024 Medication274 Pharmacy\n",
      "1024 Medication275 Pharmacy\n",
      "1024 Medication276 Pharmacy\n",
      "1024 Medication277 Pharmacy\n",
      "1024 Medication39 Pharmacy\n",
      "1024 Medication90 Pharmacy\n",
      "1029 Medication299 Pharmacy\n",
      "1029 Medication303 Pharmacy\n",
      "1030 Medication124 Pharmacy\n",
      "1030 Medication174 Pharmacy\n",
      "1030 Medication189 Pharmacy\n",
      "1030 Medication213 Pharmacy\n",
      "1030 Medication307 Pharmacy\n",
      "1030 Medication34 Pharmacy\n",
      "1032 Medication1 Pharmacy\n",
      "1032 Medication131 Pharmacy\n",
      "1032 Medication213 Pharmacy\n",
      "1032 Medication308 Pharmacy\n",
      "1032 Medication31 Pharmacy\n",
      "1032 Medication318 Pharmacy\n",
      "1032 Medication319 Pharmacy\n",
      "1032 Medication99 Pharmacy\n",
      "1034 Medication342 Pharmacy\n",
      "1035 Medication11 Pharmacy\n",
      "1035 Medication19 Pharmacy\n",
      "1035 Medication346 Pharmacy\n",
      "1035 Medication42 Pharmacy\n",
      "1036 Medication233 Pharmacy\n",
      "1036 Medication268 Pharmacy\n",
      "1036 Medication283 Pharmacy\n",
      "1036 Medication309 Pharmacy\n",
      "1036 Medication347 Pharmacy\n",
      "1036 Medication348 Pharmacy\n",
      "1036 Medication349 Pharmacy\n",
      "1036 Medication49 Pharmacy\n",
      "1036 Medication5 Pharmacy\n",
      "1037 Medication104 Pharmacy\n",
      "1050 Medication357 Pharmacy\n",
      "1050 Medication368 MailRetail\n",
      "1050 Medication368 Pharmacy\n",
      "1050 Medication419 MailRetail\n",
      "1050 Medication419 Pharmacy\n",
      "1052 Medication108 Pharmacy\n",
      "1052 Medication221 Pharmacy\n",
      "1052 Medication308 Pharmacy\n",
      "1052 Medication99 Pharmacy\n",
      "1053 Medication362 Pharmacy\n",
      "1055 Medication357 Pharmacy\n",
      "1055 Medication434 Pharmacy\n",
      "1055 Medication435 Pharmacy\n",
      "1055 Medication436 Pharmacy\n",
      "1055 Medication440 Pharmacy\n",
      "1055 Medication442 Pharmacy\n",
      "1059 Medication144 Pharmacy\n",
      "1059 Medication181 Pharmacy\n",
      "1059 Medication20 Pharmacy\n",
      "1059 Medication206 Pharmacy\n",
      "1059 Medication330 Pharmacy\n",
      "1059 Medication459 Pharmacy\n",
      "1059 Medication463 Pharmacy\n",
      "1059 Medication466 Pharmacy\n",
      "1059 Medication470 Pharmacy\n",
      "1059 Medication75 Pharmacy\n"
     ]
    }
   ],
   "source": [
    "pharma_changers = []\n",
    "for i,g in df_clean.groupby('UID'):\n",
    "    for j in g.columns[[(i not in g._get_numeric_data().columns)& (i not in ['theoretical_PD','Date']) for i in g.columns]]:\n",
    "        if g[j].nunique()>1:\n",
    "            pharma_changers.append((str(i),j))\n",
    "            print(i,j)"
   ]
  },
  {
   "cell_type": "markdown",
   "metadata": {},
   "source": [
    "#### Except for 1 patient (who seems to be quite the \"foufou\"), all the columns (except \"Pharmacy\") have unique values, so they can be joined to the grouped df without loss of information.\n",
    "\n",
    "Instead of keeping the \"Pharmacy\" column, I decided to create a dummy column which will indicate whether the UID was always bought from the same pharmacy (0) or not (1)"
   ]
  },
  {
   "cell_type": "code",
   "execution_count": 130,
   "metadata": {},
   "outputs": [
    {
     "data": {
      "text/html": [
       "<div>\n",
       "<style scoped>\n",
       "    .dataframe tbody tr th:only-of-type {\n",
       "        vertical-align: middle;\n",
       "    }\n",
       "\n",
       "    .dataframe tbody tr th {\n",
       "        vertical-align: top;\n",
       "    }\n",
       "\n",
       "    .dataframe thead th {\n",
       "        text-align: right;\n",
       "    }\n",
       "</style>\n",
       "<table border=\"1\" class=\"dataframe\">\n",
       "  <thead>\n",
       "    <tr style=\"text-align: right;\">\n",
       "      <th></th>\n",
       "      <th>PatientID</th>\n",
       "      <th>Medication</th>\n",
       "      <th>ActGPI</th>\n",
       "      <th>RouteOfAdmin</th>\n",
       "      <th>State</th>\n",
       "      <th>QTY</th>\n",
       "      <th>For_How_Many_Days</th>\n",
       "      <th>Age</th>\n",
       "      <th>MailRetail</th>\n",
       "      <th>Date</th>\n",
       "      <th>DueDate</th>\n",
       "      <th>AmountPaid</th>\n",
       "      <th>Sex</th>\n",
       "      <th>PurchasedBy</th>\n",
       "      <th>Pharmacy</th>\n",
       "      <th>UID</th>\n",
       "    </tr>\n",
       "  </thead>\n",
       "  <tbody>\n",
       "    <tr>\n",
       "      <th>7622</th>\n",
       "      <td>1050</td>\n",
       "      <td>Medication368</td>\n",
       "      <td>312</td>\n",
       "      <td>A</td>\n",
       "      <td>AL</td>\n",
       "      <td>28.0</td>\n",
       "      <td>60.0</td>\n",
       "      <td>63</td>\n",
       "      <td>R</td>\n",
       "      <td>04/04/2012</td>\n",
       "      <td>03/06/2012</td>\n",
       "      <td>5.0</td>\n",
       "      <td>F</td>\n",
       "      <td>Patient</td>\n",
       "      <td>PHARMACY 35</td>\n",
       "      <td>1050 Medication368</td>\n",
       "    </tr>\n",
       "    <tr>\n",
       "      <th>7623</th>\n",
       "      <td>1050</td>\n",
       "      <td>Medication368</td>\n",
       "      <td>312</td>\n",
       "      <td>A</td>\n",
       "      <td>AL</td>\n",
       "      <td>90.0</td>\n",
       "      <td>90.0</td>\n",
       "      <td>63</td>\n",
       "      <td>M</td>\n",
       "      <td>17/05/2012</td>\n",
       "      <td>15/08/2012</td>\n",
       "      <td>10.0</td>\n",
       "      <td>F</td>\n",
       "      <td>Patient</td>\n",
       "      <td>PHARMACY 36</td>\n",
       "      <td>1050 Medication368</td>\n",
       "    </tr>\n",
       "    <tr>\n",
       "      <th>7624</th>\n",
       "      <td>1050</td>\n",
       "      <td>Medication368</td>\n",
       "      <td>312</td>\n",
       "      <td>A</td>\n",
       "      <td>AL</td>\n",
       "      <td>90.0</td>\n",
       "      <td>90.0</td>\n",
       "      <td>63</td>\n",
       "      <td>M</td>\n",
       "      <td>16/08/2012</td>\n",
       "      <td>14/11/2012</td>\n",
       "      <td>10.0</td>\n",
       "      <td>F</td>\n",
       "      <td>Patient</td>\n",
       "      <td>PHARMACY 36</td>\n",
       "      <td>1050 Medication368</td>\n",
       "    </tr>\n",
       "    <tr>\n",
       "      <th>7625</th>\n",
       "      <td>1050</td>\n",
       "      <td>Medication368</td>\n",
       "      <td>312</td>\n",
       "      <td>A</td>\n",
       "      <td>AL</td>\n",
       "      <td>90.0</td>\n",
       "      <td>90.0</td>\n",
       "      <td>63</td>\n",
       "      <td>M</td>\n",
       "      <td>24/11/2012</td>\n",
       "      <td>22/02/2013</td>\n",
       "      <td>10.0</td>\n",
       "      <td>F</td>\n",
       "      <td>Patient</td>\n",
       "      <td>PHARMACY 36</td>\n",
       "      <td>1050 Medication368</td>\n",
       "    </tr>\n",
       "    <tr>\n",
       "      <th>7626</th>\n",
       "      <td>1050</td>\n",
       "      <td>Medication368</td>\n",
       "      <td>312</td>\n",
       "      <td>A</td>\n",
       "      <td>AL</td>\n",
       "      <td>90.0</td>\n",
       "      <td>90.0</td>\n",
       "      <td>63</td>\n",
       "      <td>M</td>\n",
       "      <td>22/02/2013</td>\n",
       "      <td>23/05/2013</td>\n",
       "      <td>10.0</td>\n",
       "      <td>F</td>\n",
       "      <td>Patient</td>\n",
       "      <td>PHARMACY 36</td>\n",
       "      <td>1050 Medication368</td>\n",
       "    </tr>\n",
       "    <tr>\n",
       "      <th>7627</th>\n",
       "      <td>1050</td>\n",
       "      <td>Medication368</td>\n",
       "      <td>312</td>\n",
       "      <td>A</td>\n",
       "      <td>AL</td>\n",
       "      <td>90.0</td>\n",
       "      <td>90.0</td>\n",
       "      <td>63</td>\n",
       "      <td>M</td>\n",
       "      <td>01/05/2013</td>\n",
       "      <td>30/07/2013</td>\n",
       "      <td>10.0</td>\n",
       "      <td>F</td>\n",
       "      <td>Patient</td>\n",
       "      <td>PHARMACY 36</td>\n",
       "      <td>1050 Medication368</td>\n",
       "    </tr>\n",
       "    <tr>\n",
       "      <th>7628</th>\n",
       "      <td>1050</td>\n",
       "      <td>Medication368</td>\n",
       "      <td>312</td>\n",
       "      <td>A</td>\n",
       "      <td>AL</td>\n",
       "      <td>90.0</td>\n",
       "      <td>90.0</td>\n",
       "      <td>63</td>\n",
       "      <td>M</td>\n",
       "      <td>31/08/2013</td>\n",
       "      <td>29/11/2013</td>\n",
       "      <td>10.0</td>\n",
       "      <td>F</td>\n",
       "      <td>Patient</td>\n",
       "      <td>PHARMACY 36</td>\n",
       "      <td>1050 Medication368</td>\n",
       "    </tr>\n",
       "    <tr>\n",
       "      <th>7629</th>\n",
       "      <td>1050</td>\n",
       "      <td>Medication368</td>\n",
       "      <td>312</td>\n",
       "      <td>A</td>\n",
       "      <td>AL</td>\n",
       "      <td>90.0</td>\n",
       "      <td>90.0</td>\n",
       "      <td>63</td>\n",
       "      <td>M</td>\n",
       "      <td>26/11/2013</td>\n",
       "      <td>24/02/2014</td>\n",
       "      <td>10.0</td>\n",
       "      <td>F</td>\n",
       "      <td>Patient</td>\n",
       "      <td>PHARMACY 36</td>\n",
       "      <td>1050 Medication368</td>\n",
       "    </tr>\n",
       "    <tr>\n",
       "      <th>7642</th>\n",
       "      <td>1050</td>\n",
       "      <td>Medication419</td>\n",
       "      <td>340</td>\n",
       "      <td>A</td>\n",
       "      <td>AL</td>\n",
       "      <td>30.0</td>\n",
       "      <td>60.0</td>\n",
       "      <td>63</td>\n",
       "      <td>R</td>\n",
       "      <td>30/03/2013</td>\n",
       "      <td>29/05/2013</td>\n",
       "      <td>2.5</td>\n",
       "      <td>F</td>\n",
       "      <td>Patient</td>\n",
       "      <td>PHARMACY 35</td>\n",
       "      <td>1050 Medication419</td>\n",
       "    </tr>\n",
       "    <tr>\n",
       "      <th>7643</th>\n",
       "      <td>1050</td>\n",
       "      <td>Medication419</td>\n",
       "      <td>340</td>\n",
       "      <td>A</td>\n",
       "      <td>AL</td>\n",
       "      <td>90.0</td>\n",
       "      <td>180.0</td>\n",
       "      <td>63</td>\n",
       "      <td>M</td>\n",
       "      <td>26/04/2013</td>\n",
       "      <td>23/10/2013</td>\n",
       "      <td>5.0</td>\n",
       "      <td>F</td>\n",
       "      <td>Patient</td>\n",
       "      <td>PHARMACY 36</td>\n",
       "      <td>1050 Medication419</td>\n",
       "    </tr>\n",
       "    <tr>\n",
       "      <th>7644</th>\n",
       "      <td>1050</td>\n",
       "      <td>Medication419</td>\n",
       "      <td>340</td>\n",
       "      <td>A</td>\n",
       "      <td>AL</td>\n",
       "      <td>90.0</td>\n",
       "      <td>180.0</td>\n",
       "      <td>63</td>\n",
       "      <td>M</td>\n",
       "      <td>04/08/2013</td>\n",
       "      <td>31/01/2014</td>\n",
       "      <td>5.0</td>\n",
       "      <td>F</td>\n",
       "      <td>Patient</td>\n",
       "      <td>PHARMACY 36</td>\n",
       "      <td>1050 Medication419</td>\n",
       "    </tr>\n",
       "    <tr>\n",
       "      <th>7645</th>\n",
       "      <td>1050</td>\n",
       "      <td>Medication419</td>\n",
       "      <td>340</td>\n",
       "      <td>A</td>\n",
       "      <td>AL</td>\n",
       "      <td>90.0</td>\n",
       "      <td>180.0</td>\n",
       "      <td>63</td>\n",
       "      <td>M</td>\n",
       "      <td>07/11/2013</td>\n",
       "      <td>06/05/2014</td>\n",
       "      <td>5.0</td>\n",
       "      <td>F</td>\n",
       "      <td>Patient</td>\n",
       "      <td>PHARMACY 36</td>\n",
       "      <td>1050 Medication419</td>\n",
       "    </tr>\n",
       "  </tbody>\n",
       "</table>\n",
       "</div>"
      ],
      "text/plain": [
       "      PatientID     Medication  ActGPI RouteOfAdmin State   QTY  \\\n",
       "7622       1050  Medication368     312            A    AL  28.0   \n",
       "7623       1050  Medication368     312            A    AL  90.0   \n",
       "7624       1050  Medication368     312            A    AL  90.0   \n",
       "7625       1050  Medication368     312            A    AL  90.0   \n",
       "7626       1050  Medication368     312            A    AL  90.0   \n",
       "7627       1050  Medication368     312            A    AL  90.0   \n",
       "7628       1050  Medication368     312            A    AL  90.0   \n",
       "7629       1050  Medication368     312            A    AL  90.0   \n",
       "7642       1050  Medication419     340            A    AL  30.0   \n",
       "7643       1050  Medication419     340            A    AL  90.0   \n",
       "7644       1050  Medication419     340            A    AL  90.0   \n",
       "7645       1050  Medication419     340            A    AL  90.0   \n",
       "\n",
       "      For_How_Many_Days  Age MailRetail        Date     DueDate  AmountPaid  \\\n",
       "7622               60.0   63          R  04/04/2012  03/06/2012         5.0   \n",
       "7623               90.0   63          M  17/05/2012  15/08/2012        10.0   \n",
       "7624               90.0   63          M  16/08/2012  14/11/2012        10.0   \n",
       "7625               90.0   63          M  24/11/2012  22/02/2013        10.0   \n",
       "7626               90.0   63          M  22/02/2013  23/05/2013        10.0   \n",
       "7627               90.0   63          M  01/05/2013  30/07/2013        10.0   \n",
       "7628               90.0   63          M  31/08/2013  29/11/2013        10.0   \n",
       "7629               90.0   63          M  26/11/2013  24/02/2014        10.0   \n",
       "7642               60.0   63          R  30/03/2013  29/05/2013         2.5   \n",
       "7643              180.0   63          M  26/04/2013  23/10/2013         5.0   \n",
       "7644              180.0   63          M  04/08/2013  31/01/2014         5.0   \n",
       "7645              180.0   63          M  07/11/2013  06/05/2014         5.0   \n",
       "\n",
       "     Sex PurchasedBy     Pharmacy                 UID  \n",
       "7622   F     Patient  PHARMACY 35  1050 Medication368  \n",
       "7623   F     Patient  PHARMACY 36  1050 Medication368  \n",
       "7624   F     Patient  PHARMACY 36  1050 Medication368  \n",
       "7625   F     Patient  PHARMACY 36  1050 Medication368  \n",
       "7626   F     Patient  PHARMACY 36  1050 Medication368  \n",
       "7627   F     Patient  PHARMACY 36  1050 Medication368  \n",
       "7628   F     Patient  PHARMACY 36  1050 Medication368  \n",
       "7629   F     Patient  PHARMACY 36  1050 Medication368  \n",
       "7642   F     Patient  PHARMACY 35  1050 Medication419  \n",
       "7643   F     Patient  PHARMACY 36  1050 Medication419  \n",
       "7644   F     Patient  PHARMACY 36  1050 Medication419  \n",
       "7645   F     Patient  PHARMACY 36  1050 Medication419  "
      ]
     },
     "execution_count": 130,
     "metadata": {},
     "output_type": "execute_result"
    }
   ],
   "source": [
    "df[(df['UID']=='1050 Medication368')|(df['UID']=='1050 Medication419')]"
   ]
  },
  {
   "cell_type": "markdown",
   "metadata": {},
   "source": [
    "The \"foufou\" just bought the 2 medications in retail the first time, then switched to mail order. It can't have a huge influence on our modelling, but he should be classified as \"M\""
   ]
  },
  {
   "cell_type": "markdown",
   "metadata": {},
   "source": [
    "So, let's create the dummy \"phrmcy_chg\" column"
   ]
  },
  {
   "cell_type": "code",
   "execution_count": 149,
   "metadata": {},
   "outputs": [
    {
     "name": "stderr",
     "output_type": "stream",
     "text": [
      "/anaconda3/lib/python3.7/site-packages/ipykernel_launcher.py:1: SettingWithCopyWarning: \n",
      "A value is trying to be set on a copy of a slice from a DataFrame.\n",
      "Try using .loc[row_indexer,col_indexer] = value instead\n",
      "\n",
      "See the caveats in the documentation: http://pandas.pydata.org/pandas-docs/stable/indexing.html#indexing-view-versus-copy\n",
      "  \"\"\"Entry point for launching an IPython kernel.\n"
     ]
    },
    {
     "data": {
      "text/html": [
       "<div>\n",
       "<style scoped>\n",
       "    .dataframe tbody tr th:only-of-type {\n",
       "        vertical-align: middle;\n",
       "    }\n",
       "\n",
       "    .dataframe tbody tr th {\n",
       "        vertical-align: top;\n",
       "    }\n",
       "\n",
       "    .dataframe thead th {\n",
       "        text-align: right;\n",
       "    }\n",
       "</style>\n",
       "<table border=\"1\" class=\"dataframe\">\n",
       "  <thead>\n",
       "    <tr style=\"text-align: right;\">\n",
       "      <th></th>\n",
       "      <th>UID</th>\n",
       "      <th>ActGPI</th>\n",
       "      <th>QTY</th>\n",
       "      <th>For_How_Many_Days</th>\n",
       "      <th>Age</th>\n",
       "      <th>AmountPaid</th>\n",
       "      <th>lag</th>\n",
       "      <th>phrmcy_chg</th>\n",
       "    </tr>\n",
       "  </thead>\n",
       "  <tbody>\n",
       "    <tr>\n",
       "      <th>0</th>\n",
       "      <td>1001 Medication1</td>\n",
       "      <td>340</td>\n",
       "      <td>30.0</td>\n",
       "      <td>30.0</td>\n",
       "      <td>59</td>\n",
       "      <td>7.0</td>\n",
       "      <td>14.421053</td>\n",
       "      <td>0</td>\n",
       "    </tr>\n",
       "    <tr>\n",
       "      <th>1</th>\n",
       "      <td>1001 Medication10</td>\n",
       "      <td>281</td>\n",
       "      <td>30.0</td>\n",
       "      <td>30.0</td>\n",
       "      <td>59</td>\n",
       "      <td>4.0</td>\n",
       "      <td>32.000000</td>\n",
       "      <td>0</td>\n",
       "    </tr>\n",
       "    <tr>\n",
       "      <th>2</th>\n",
       "      <td>1001 Medication11</td>\n",
       "      <td>361</td>\n",
       "      <td>30.0</td>\n",
       "      <td>30.0</td>\n",
       "      <td>59</td>\n",
       "      <td>4.0</td>\n",
       "      <td>15.428571</td>\n",
       "      <td>0</td>\n",
       "    </tr>\n",
       "    <tr>\n",
       "      <th>3</th>\n",
       "      <td>1001 Medication12</td>\n",
       "      <td>361</td>\n",
       "      <td>30.0</td>\n",
       "      <td>30.0</td>\n",
       "      <td>59</td>\n",
       "      <td>4.0</td>\n",
       "      <td>12.181818</td>\n",
       "      <td>0</td>\n",
       "    </tr>\n",
       "    <tr>\n",
       "      <th>4</th>\n",
       "      <td>1001 Medication13</td>\n",
       "      <td>659</td>\n",
       "      <td>90.0</td>\n",
       "      <td>30.0</td>\n",
       "      <td>59</td>\n",
       "      <td>20.0</td>\n",
       "      <td>0.074074</td>\n",
       "      <td>0</td>\n",
       "    </tr>\n",
       "  </tbody>\n",
       "</table>\n",
       "</div>"
      ],
      "text/plain": [
       "                 UID  ActGPI   QTY  For_How_Many_Days  Age  AmountPaid  \\\n",
       "0   1001 Medication1     340  30.0               30.0   59         7.0   \n",
       "1  1001 Medication10     281  30.0               30.0   59         4.0   \n",
       "2  1001 Medication11     361  30.0               30.0   59         4.0   \n",
       "3  1001 Medication12     361  30.0               30.0   59         4.0   \n",
       "4  1001 Medication13     659  90.0               30.0   59        20.0   \n",
       "\n",
       "         lag  phrmcy_chg  \n",
       "0  14.421053           0  \n",
       "1  32.000000           0  \n",
       "2  15.428571           0  \n",
       "3  12.181818           0  \n",
       "4   0.074074           0  "
      ]
     },
     "execution_count": 149,
     "metadata": {},
     "output_type": "execute_result"
    }
   ],
   "source": [
    "df_unsuper['phrmcy_chg'] = np.where(df_unsuper['UID'].isin(pd.DataFrame(pharma_changers)[0]), 1,0)\n",
    "df_unsuper.head()"
   ]
  },
  {
   "cell_type": "markdown",
   "metadata": {},
   "source": [
    "Now, let's add our columns. Before we join (add the columns), we must drop the duplicates in the second df. We will use the keep:'last' argument because of the \"foufou\"."
   ]
  },
  {
   "cell_type": "code",
   "execution_count": 174,
   "metadata": {},
   "outputs": [
    {
     "name": "stderr",
     "output_type": "stream",
     "text": [
      "/anaconda3/lib/python3.7/site-packages/ipykernel_launcher.py:2: SettingWithCopyWarning: \n",
      "A value is trying to be set on a copy of a slice from a DataFrame\n",
      "\n",
      "See the caveats in the documentation: http://pandas.pydata.org/pandas-docs/stable/indexing.html#indexing-view-versus-copy\n",
      "  \n"
     ]
    }
   ],
   "source": [
    "df_join = df[['RouteOfAdmin', 'State', 'MailRetail', 'Sex', 'PurchasedBy', 'UID']]\n",
    "df_join.drop_duplicates(inplace=True,keep='last')"
   ]
  },
  {
   "cell_type": "code",
   "execution_count": 175,
   "metadata": {},
   "outputs": [
    {
     "name": "stderr",
     "output_type": "stream",
     "text": [
      "/anaconda3/lib/python3.7/site-packages/ipykernel_launcher.py:1: UserWarning: Boolean Series key will be reindexed to match DataFrame index.\n",
      "  \"\"\"Entry point for launching an IPython kernel.\n"
     ]
    },
    {
     "data": {
      "text/html": [
       "<div>\n",
       "<style scoped>\n",
       "    .dataframe tbody tr th:only-of-type {\n",
       "        vertical-align: middle;\n",
       "    }\n",
       "\n",
       "    .dataframe tbody tr th {\n",
       "        vertical-align: top;\n",
       "    }\n",
       "\n",
       "    .dataframe thead th {\n",
       "        text-align: right;\n",
       "    }\n",
       "</style>\n",
       "<table border=\"1\" class=\"dataframe\">\n",
       "  <thead>\n",
       "    <tr style=\"text-align: right;\">\n",
       "      <th></th>\n",
       "      <th>RouteOfAdmin</th>\n",
       "      <th>State</th>\n",
       "      <th>MailRetail</th>\n",
       "      <th>Sex</th>\n",
       "      <th>PurchasedBy</th>\n",
       "      <th>UID</th>\n",
       "    </tr>\n",
       "  </thead>\n",
       "  <tbody>\n",
       "    <tr>\n",
       "      <th>7622</th>\n",
       "      <td>A</td>\n",
       "      <td>AL</td>\n",
       "      <td>R</td>\n",
       "      <td>F</td>\n",
       "      <td>Patient</td>\n",
       "      <td>1050 Medication368</td>\n",
       "    </tr>\n",
       "    <tr>\n",
       "      <th>7629</th>\n",
       "      <td>A</td>\n",
       "      <td>AL</td>\n",
       "      <td>M</td>\n",
       "      <td>F</td>\n",
       "      <td>Patient</td>\n",
       "      <td>1050 Medication368</td>\n",
       "    </tr>\n",
       "    <tr>\n",
       "      <th>7642</th>\n",
       "      <td>A</td>\n",
       "      <td>AL</td>\n",
       "      <td>R</td>\n",
       "      <td>F</td>\n",
       "      <td>Patient</td>\n",
       "      <td>1050 Medication419</td>\n",
       "    </tr>\n",
       "    <tr>\n",
       "      <th>7645</th>\n",
       "      <td>A</td>\n",
       "      <td>AL</td>\n",
       "      <td>M</td>\n",
       "      <td>F</td>\n",
       "      <td>Patient</td>\n",
       "      <td>1050 Medication419</td>\n",
       "    </tr>\n",
       "  </tbody>\n",
       "</table>\n",
       "</div>"
      ],
      "text/plain": [
       "     RouteOfAdmin State MailRetail Sex PurchasedBy                 UID\n",
       "7622            A    AL          R   F     Patient  1050 Medication368\n",
       "7629            A    AL          M   F     Patient  1050 Medication368\n",
       "7642            A    AL          R   F     Patient  1050 Medication419\n",
       "7645            A    AL          M   F     Patient  1050 Medication419"
      ]
     },
     "execution_count": 175,
     "metadata": {},
     "output_type": "execute_result"
    }
   ],
   "source": [
    "df_join[(df['UID']=='1050 Medication368')|(df['UID']=='1050 Medication419')]"
   ]
  },
  {
   "cell_type": "markdown",
   "metadata": {},
   "source": [
    "Actually, since the rows were not entirely identical, we are left with 2 rows for each of these UIDs. So let's filter out the 2 unwanted rows"
   ]
  },
  {
   "cell_type": "code",
   "execution_count": 176,
   "metadata": {},
   "outputs": [],
   "source": [
    "df_join=df_join[~df_join.index.isin([7622,7642])]"
   ]
  },
  {
   "cell_type": "markdown",
   "metadata": {},
   "source": [
    "Now the join should work seemlessly"
   ]
  },
  {
   "cell_type": "code",
   "execution_count": 177,
   "metadata": {},
   "outputs": [
    {
     "data": {
      "text/plain": [
       "(761, 8)"
      ]
     },
     "execution_count": 177,
     "metadata": {},
     "output_type": "execute_result"
    }
   ],
   "source": [
    "df_unsuper.shape"
   ]
  },
  {
   "cell_type": "code",
   "execution_count": 178,
   "metadata": {},
   "outputs": [
    {
     "data": {
      "text/plain": [
       "(952, 6)"
      ]
     },
     "execution_count": 178,
     "metadata": {},
     "output_type": "execute_result"
    }
   ],
   "source": [
    "df_join.shape"
   ]
  },
  {
   "cell_type": "markdown",
   "metadata": {},
   "source": [
    "I spent some time trying to understand this apparent mismatch. It turns out this is due to the rows dropped (via dropna) that represented UIDs with single entries. It's ok since these are totally irrelevant for our purpose."
   ]
  },
  {
   "cell_type": "code",
   "execution_count": 185,
   "metadata": {},
   "outputs": [
    {
     "data": {
      "text/plain": [
       "RouteOfAdmin    object\n",
       "State           object\n",
       "MailRetail      object\n",
       "Sex             object\n",
       "PurchasedBy     object\n",
       "UID             object\n",
       "dtype: object"
      ]
     },
     "execution_count": 185,
     "metadata": {},
     "output_type": "execute_result"
    }
   ],
   "source": [
    "df_join.dtypes"
   ]
  },
  {
   "cell_type": "code",
   "execution_count": 184,
   "metadata": {},
   "outputs": [
    {
     "data": {
      "text/plain": [
       "UID                   object\n",
       "ActGPI                 int64\n",
       "QTY                  float64\n",
       "For_How_Many_Days    float64\n",
       "Age                    int64\n",
       "AmountPaid           float64\n",
       "lag                  float64\n",
       "phrmcy_chg             int64\n",
       "dtype: object"
      ]
     },
     "execution_count": 184,
     "metadata": {},
     "output_type": "execute_result"
    }
   ],
   "source": [
    "df_unsuper.dtypes"
   ]
  },
  {
   "cell_type": "code",
   "execution_count": 187,
   "metadata": {},
   "outputs": [
    {
     "data": {
      "text/html": [
       "<div>\n",
       "<style scoped>\n",
       "    .dataframe tbody tr th:only-of-type {\n",
       "        vertical-align: middle;\n",
       "    }\n",
       "\n",
       "    .dataframe tbody tr th {\n",
       "        vertical-align: top;\n",
       "    }\n",
       "\n",
       "    .dataframe thead th {\n",
       "        text-align: right;\n",
       "    }\n",
       "</style>\n",
       "<table border=\"1\" class=\"dataframe\">\n",
       "  <thead>\n",
       "    <tr style=\"text-align: right;\">\n",
       "      <th></th>\n",
       "      <th>UID</th>\n",
       "      <th>ActGPI</th>\n",
       "      <th>QTY</th>\n",
       "      <th>For_How_Many_Days</th>\n",
       "      <th>Age</th>\n",
       "      <th>AmountPaid</th>\n",
       "      <th>lag</th>\n",
       "      <th>phrmcy_chg</th>\n",
       "      <th>RouteOfAdmin</th>\n",
       "      <th>State</th>\n",
       "      <th>MailRetail</th>\n",
       "      <th>Sex</th>\n",
       "      <th>PurchasedBy</th>\n",
       "    </tr>\n",
       "  </thead>\n",
       "  <tbody>\n",
       "    <tr>\n",
       "      <th>0</th>\n",
       "      <td>1001 Medication1</td>\n",
       "      <td>340</td>\n",
       "      <td>30.0</td>\n",
       "      <td>30.0</td>\n",
       "      <td>59</td>\n",
       "      <td>7.0</td>\n",
       "      <td>14.421053</td>\n",
       "      <td>0</td>\n",
       "      <td>A</td>\n",
       "      <td>IN</td>\n",
       "      <td>R</td>\n",
       "      <td>M</td>\n",
       "      <td>Patient</td>\n",
       "    </tr>\n",
       "    <tr>\n",
       "      <th>1</th>\n",
       "      <td>1001 Medication10</td>\n",
       "      <td>281</td>\n",
       "      <td>30.0</td>\n",
       "      <td>30.0</td>\n",
       "      <td>59</td>\n",
       "      <td>4.0</td>\n",
       "      <td>32.000000</td>\n",
       "      <td>0</td>\n",
       "      <td>A</td>\n",
       "      <td>IN</td>\n",
       "      <td>R</td>\n",
       "      <td>M</td>\n",
       "      <td>Patient</td>\n",
       "    </tr>\n",
       "    <tr>\n",
       "      <th>2</th>\n",
       "      <td>1001 Medication11</td>\n",
       "      <td>361</td>\n",
       "      <td>30.0</td>\n",
       "      <td>30.0</td>\n",
       "      <td>59</td>\n",
       "      <td>4.0</td>\n",
       "      <td>15.428571</td>\n",
       "      <td>0</td>\n",
       "      <td>A</td>\n",
       "      <td>IN</td>\n",
       "      <td>R</td>\n",
       "      <td>M</td>\n",
       "      <td>Patient</td>\n",
       "    </tr>\n",
       "    <tr>\n",
       "      <th>3</th>\n",
       "      <td>1001 Medication12</td>\n",
       "      <td>361</td>\n",
       "      <td>30.0</td>\n",
       "      <td>30.0</td>\n",
       "      <td>59</td>\n",
       "      <td>4.0</td>\n",
       "      <td>12.181818</td>\n",
       "      <td>0</td>\n",
       "      <td>A</td>\n",
       "      <td>IN</td>\n",
       "      <td>R</td>\n",
       "      <td>M</td>\n",
       "      <td>Patient</td>\n",
       "    </tr>\n",
       "    <tr>\n",
       "      <th>4</th>\n",
       "      <td>1001 Medication13</td>\n",
       "      <td>659</td>\n",
       "      <td>90.0</td>\n",
       "      <td>30.0</td>\n",
       "      <td>59</td>\n",
       "      <td>20.0</td>\n",
       "      <td>0.074074</td>\n",
       "      <td>0</td>\n",
       "      <td>A</td>\n",
       "      <td>IN</td>\n",
       "      <td>R</td>\n",
       "      <td>M</td>\n",
       "      <td>Patient</td>\n",
       "    </tr>\n",
       "  </tbody>\n",
       "</table>\n",
       "</div>"
      ],
      "text/plain": [
       "                 UID  ActGPI   QTY  For_How_Many_Days  Age  AmountPaid  \\\n",
       "0   1001 Medication1     340  30.0               30.0   59         7.0   \n",
       "1  1001 Medication10     281  30.0               30.0   59         4.0   \n",
       "2  1001 Medication11     361  30.0               30.0   59         4.0   \n",
       "3  1001 Medication12     361  30.0               30.0   59         4.0   \n",
       "4  1001 Medication13     659  90.0               30.0   59        20.0   \n",
       "\n",
       "         lag  phrmcy_chg RouteOfAdmin State MailRetail Sex PurchasedBy  \n",
       "0  14.421053           0            A    IN          R   M     Patient  \n",
       "1  32.000000           0            A    IN          R   M     Patient  \n",
       "2  15.428571           0            A    IN          R   M     Patient  \n",
       "3  12.181818           0            A    IN          R   M     Patient  \n",
       "4   0.074074           0            A    IN          R   M     Patient  "
      ]
     },
     "execution_count": 187,
     "metadata": {},
     "output_type": "execute_result"
    }
   ],
   "source": [
    "df_unsuper2 = df_unsuper.merge(df_join, how='left', on='UID')\n",
    "df_unsuper2.head()"
   ]
  },
  {
   "cell_type": "code",
   "execution_count": 293,
   "metadata": {},
   "outputs": [
    {
     "data": {
      "text/plain": [
       "761"
      ]
     },
     "execution_count": 293,
     "metadata": {},
     "output_type": "execute_result"
    }
   ],
   "source": [
    "df_unsuper2.UID.nunique()"
   ]
  },
  {
   "cell_type": "markdown",
   "metadata": {},
   "source": [
    "# Dummies"
   ]
  },
  {
   "cell_type": "markdown",
   "metadata": {},
   "source": [
    "Let's check our data before we start creating dummies"
   ]
  },
  {
   "cell_type": "code",
   "execution_count": 196,
   "metadata": {},
   "outputs": [
    {
     "data": {
      "text/plain": [
       "A    678\n",
       "B     17\n",
       "G     16\n",
       "D      9\n",
       "H      8\n",
       "I      8\n",
       "C      7\n",
       "F      6\n",
       "E      5\n",
       "O      2\n",
       "L      2\n",
       "K      2\n",
       "J      2\n",
       "M      1\n",
       "Name: RouteOfAdmin, dtype: int64"
      ]
     },
     "execution_count": 196,
     "metadata": {},
     "output_type": "execute_result"
    }
   ],
   "source": [
    "df_unsuper2.RouteOfAdmin.value_counts()"
   ]
  },
  {
   "cell_type": "markdown",
   "metadata": {},
   "source": [
    "This column is too overweighted by value \"A\" so I decided to drop it."
   ]
  },
  {
   "cell_type": "code",
   "execution_count": 197,
   "metadata": {},
   "outputs": [],
   "source": [
    "df_unsuper2.drop(columns=['RouteOfAdmin'], axis=1, inplace=True)"
   ]
  },
  {
   "cell_type": "code",
   "execution_count": 195,
   "metadata": {},
   "outputs": [
    {
     "data": {
      "text/plain": [
       "Patient    383\n",
       "Spouse     380\n",
       "Name: PurchasedBy, dtype: int64"
      ]
     },
     "execution_count": 195,
     "metadata": {},
     "output_type": "execute_result"
    }
   ],
   "source": [
    "df_unsuper2.PurchasedBy = df_unsuper2.PurchasedBy.str.replace('SPOUSE','Spouse')\n",
    "df_unsuper2.PurchasedBy.value_counts()"
   ]
  },
  {
   "cell_type": "code",
   "execution_count": 200,
   "metadata": {},
   "outputs": [
    {
     "data": {
      "text/plain": [
       "F    414\n",
       "M    349\n",
       "Name: Sex, dtype: int64"
      ]
     },
     "execution_count": 200,
     "metadata": {},
     "output_type": "execute_result"
    }
   ],
   "source": [
    "df_unsuper2.Sex.value_counts()"
   ]
  },
  {
   "cell_type": "markdown",
   "metadata": {},
   "source": [
    "Now that the columns are clean, let's turn them to dummies"
   ]
  },
  {
   "cell_type": "code",
   "execution_count": 202,
   "metadata": {},
   "outputs": [
    {
     "data": {
      "text/html": [
       "<div>\n",
       "<style scoped>\n",
       "    .dataframe tbody tr th:only-of-type {\n",
       "        vertical-align: middle;\n",
       "    }\n",
       "\n",
       "    .dataframe tbody tr th {\n",
       "        vertical-align: top;\n",
       "    }\n",
       "\n",
       "    .dataframe thead th {\n",
       "        text-align: right;\n",
       "    }\n",
       "</style>\n",
       "<table border=\"1\" class=\"dataframe\">\n",
       "  <thead>\n",
       "    <tr style=\"text-align: right;\">\n",
       "      <th></th>\n",
       "      <th>UID</th>\n",
       "      <th>ActGPI</th>\n",
       "      <th>QTY</th>\n",
       "      <th>For_How_Many_Days</th>\n",
       "      <th>Age</th>\n",
       "      <th>AmountPaid</th>\n",
       "      <th>lag</th>\n",
       "      <th>phrmcy_chg</th>\n",
       "      <th>State_IN</th>\n",
       "      <th>MailRetail_R</th>\n",
       "      <th>Sex_M</th>\n",
       "      <th>PurchasedBy_Spouse</th>\n",
       "    </tr>\n",
       "  </thead>\n",
       "  <tbody>\n",
       "    <tr>\n",
       "      <th>0</th>\n",
       "      <td>1001 Medication1</td>\n",
       "      <td>340</td>\n",
       "      <td>30.0</td>\n",
       "      <td>30.0</td>\n",
       "      <td>59</td>\n",
       "      <td>7.0</td>\n",
       "      <td>14.421053</td>\n",
       "      <td>0</td>\n",
       "      <td>1</td>\n",
       "      <td>1</td>\n",
       "      <td>1</td>\n",
       "      <td>0</td>\n",
       "    </tr>\n",
       "    <tr>\n",
       "      <th>1</th>\n",
       "      <td>1001 Medication10</td>\n",
       "      <td>281</td>\n",
       "      <td>30.0</td>\n",
       "      <td>30.0</td>\n",
       "      <td>59</td>\n",
       "      <td>4.0</td>\n",
       "      <td>32.000000</td>\n",
       "      <td>0</td>\n",
       "      <td>1</td>\n",
       "      <td>1</td>\n",
       "      <td>1</td>\n",
       "      <td>0</td>\n",
       "    </tr>\n",
       "    <tr>\n",
       "      <th>2</th>\n",
       "      <td>1001 Medication11</td>\n",
       "      <td>361</td>\n",
       "      <td>30.0</td>\n",
       "      <td>30.0</td>\n",
       "      <td>59</td>\n",
       "      <td>4.0</td>\n",
       "      <td>15.428571</td>\n",
       "      <td>0</td>\n",
       "      <td>1</td>\n",
       "      <td>1</td>\n",
       "      <td>1</td>\n",
       "      <td>0</td>\n",
       "    </tr>\n",
       "    <tr>\n",
       "      <th>3</th>\n",
       "      <td>1001 Medication12</td>\n",
       "      <td>361</td>\n",
       "      <td>30.0</td>\n",
       "      <td>30.0</td>\n",
       "      <td>59</td>\n",
       "      <td>4.0</td>\n",
       "      <td>12.181818</td>\n",
       "      <td>0</td>\n",
       "      <td>1</td>\n",
       "      <td>1</td>\n",
       "      <td>1</td>\n",
       "      <td>0</td>\n",
       "    </tr>\n",
       "    <tr>\n",
       "      <th>4</th>\n",
       "      <td>1001 Medication13</td>\n",
       "      <td>659</td>\n",
       "      <td>90.0</td>\n",
       "      <td>30.0</td>\n",
       "      <td>59</td>\n",
       "      <td>20.0</td>\n",
       "      <td>0.074074</td>\n",
       "      <td>0</td>\n",
       "      <td>1</td>\n",
       "      <td>1</td>\n",
       "      <td>1</td>\n",
       "      <td>0</td>\n",
       "    </tr>\n",
       "  </tbody>\n",
       "</table>\n",
       "</div>"
      ],
      "text/plain": [
       "                 UID  ActGPI   QTY  For_How_Many_Days  Age  AmountPaid  \\\n",
       "0   1001 Medication1     340  30.0               30.0   59         7.0   \n",
       "1  1001 Medication10     281  30.0               30.0   59         4.0   \n",
       "2  1001 Medication11     361  30.0               30.0   59         4.0   \n",
       "3  1001 Medication12     361  30.0               30.0   59         4.0   \n",
       "4  1001 Medication13     659  90.0               30.0   59        20.0   \n",
       "\n",
       "         lag  phrmcy_chg  State_IN  MailRetail_R  Sex_M  PurchasedBy_Spouse  \n",
       "0  14.421053           0         1             1      1                   0  \n",
       "1  32.000000           0         1             1      1                   0  \n",
       "2  15.428571           0         1             1      1                   0  \n",
       "3  12.181818           0         1             1      1                   0  \n",
       "4   0.074074           0         1             1      1                   0  "
      ]
     },
     "execution_count": 202,
     "metadata": {},
     "output_type": "execute_result"
    }
   ],
   "source": [
    "df_dummies=pd.get_dummies(data=df_unsuper2, columns=['State','MailRetail','Sex','PurchasedBy'], drop_first=True)\n",
    "df_dummies.head()"
   ]
  },
  {
   "cell_type": "markdown",
   "metadata": {},
   "source": [
    "# Now To Clustering"
   ]
  },
  {
   "cell_type": "markdown",
   "metadata": {},
   "source": [
    "First, let's determine the optimal number of clusters"
   ]
  },
  {
   "cell_type": "code",
   "execution_count": 213,
   "metadata": {},
   "outputs": [
    {
     "data": {
      "image/png": "[encoded data removed]",
      "text/plain": [
       "<Figure size 576x396 with 2 Axes>"
      ]
     },
     "metadata": {},
     "output_type": "display_data"
    }
   ],
   "source": [
    "from sklearn import cluster\n",
    "from yellowbrick.cluster import KElbowVisualizer\n",
    "model = cluster.KMeans()\n",
    "visualizer = KElbowVisualizer(model, k=(1,12))\n",
    "visualizer.fit(df_dummies.iloc[:, 1:-1])\n",
    "visualizer.poof()"
   ]
  },
  {
   "cell_type": "markdown",
   "metadata": {},
   "source": [
    "The best number of clusters seems to be 2"
   ]
  },
  {
   "cell_type": "code",
   "execution_count": 218,
   "metadata": {},
   "outputs": [
    {
     "name": "stdout",
     "output_type": "stream",
     "text": [
      "[1 1 1 1 0 1 0 1 1 1 1 0 1 1 1 1 0 1 0 1 1 1 1 1 0 0 1 1 0 1 1 1 0 1 1 0 1\n",
      " 1 1 1 1 1 0 1 0 1 1 1 1 0 1 0 0 0 1 1 1 1 0 0 1 1 1 1 1 0 1 1 1 1 0 1 0 1\n",
      " 0 0 1 1 1 0 1 0 0 1 1 1 1 1 1 1 1 0 1 1 1 1 1 1 1 0 1 1 0 1 1 0 0 1 0 0 0\n",
      " 0 0 1 0 1 1 1 1 1 1 1 0 1 1 0 1 0 1 0 0 0 0 1 1 1 1 0 1 0 1 1 1 1 1 1 0 0\n",
      " 0 1 1 0 1 0 1 1 1 1 1 0 0 0 1 0 1 1 1 1 1 1 0 0 0 1 0 1 0 1 0 0 0 0 1 1 1\n",
      " 0 0 0 1 0 1 1 1 1 1 1 1 0 1 1 0 1 0 1 0 1 1 0 1 1 1 1 1 0 0 0 0 0 0 0 1 1\n",
      " 0 1 1 1 1 0 1 1 0 1 1 0 1 1 0 1 1 1 1 1 1 0 1 1 0 1 1 1 1 1 0 0 1 0 0 0 0\n",
      " 0 0 0 0 1 1 0 0 1 1 1 0 1 1 0 0 0 0 1 1 1 1 1 0 1 1 0 1 1 1 0 1 0 0 1 1 1\n",
      " 1 1 1 0 0 0 1 0 0 1 1 1 1 1 0 1 1 1 0 0 1 1 0 1 1 1 1 1 0 0 0 0 0 1 0 1 0\n",
      " 0 0 0 0 0 1 1 1 0 0 1 1 0 1 0 0 0 1 0 1 1 1 1 1 0 1 1 0 1 1 1 1 1 1 1 1 1\n",
      " 1 1 0 1 1 1 1 1 0 0 1 1 1 1 1 1 1 1 1 0 1 0 0 1 1 0 0 0 1 0 1 1 1 0 0 1 0\n",
      " 0 1 1 0 1 1 1 1 1 1 0 0 0 1 1 1 1 0 0 0 1 0 0 1 0 1 0 1 1 1 0 1 1 1 1 0 0\n",
      " 1 0 0 1 1 0 0 0 0 0 1 0 0 0 1 0 0 0 0 0 0 0 1 1 1 1 1 1 1 1 1 0 1 1 0 1 0\n",
      " 0 0 0 0 1 1 0 1 1 0 0 1 1 0 0 1 0 0 0 1 0 1 1 0 0 1 1 1 1 0 0 1 1 0 1 1 1\n",
      " 1 1 1 1 0 1 1 1 0 1 1 1 1 1 0 0 1 1 1 0 0 0 0 1 1 0 0 1 1 0 1 0 1 1 1 1 0\n",
      " 1 0 0 1 1 0 1 0 0 1 0 1 1 0 1 1 0 0 0 0 0 0 1 1 1 1 0 1 1 0 1 1 0 1 1 1 1\n",
      " 0 0 1 0 1 1 0 0 0 0 0 1 1 1 0 1 1 0 0 0 0 0 0 1 1 1 0 0 1 1 0 1 0 0 0 0 0\n",
      " 1 0 1 1 0 0 1 0 1 0 1 1 1 1 1 0 0 1 1 1 1 1 1 1 1 1 1 1 1 1 1 1 0 1 1 0 0\n",
      " 0 0 1 0 0 0 0 0 1 1 0 0 0 1 1 1 1 1 0 1 1 0 1 0 1 0 0 0 0 1 0 1 1 1 1 0 0\n",
      " 1 1 1 0 1 1 1 1 1 1 0 0 0 1 1 0 1 1 0 0 0 1 1 1 0 1 1 1 1 0 1 1 1 0 0 1 1\n",
      " 1 1 0 1 0 0 1 1 0 0 1 1 1 0 0 1 1 0 0 0 0 0 1]\n"
     ]
    }
   ],
   "source": [
    "X = df_dummies.iloc[:, 1:-1]\n",
    "model = cluster.KMeans(2)\n",
    "model.fit(X)\n",
    "y_pred = model.predict(X)\n",
    "print(y_pred)"
   ]
  },
  {
   "cell_type": "markdown",
   "metadata": {},
   "source": [
    "However this clustering is not great. Let's try it with PCA."
   ]
  },
  {
   "cell_type": "markdown",
   "metadata": {},
   "source": [
    "# PCA"
   ]
  },
  {
   "cell_type": "markdown",
   "metadata": {},
   "source": [
    "Let's try a PCA first, in order to simplify it."
   ]
  },
  {
   "cell_type": "code",
   "execution_count": 219,
   "metadata": {},
   "outputs": [],
   "source": [
    "from sklearn.decomposition import PCA"
   ]
  },
  {
   "cell_type": "code",
   "execution_count": 224,
   "metadata": {},
   "outputs": [
    {
     "data": {
      "text/html": [
       "<div>\n",
       "<style scoped>\n",
       "    .dataframe tbody tr th:only-of-type {\n",
       "        vertical-align: middle;\n",
       "    }\n",
       "\n",
       "    .dataframe tbody tr th {\n",
       "        vertical-align: top;\n",
       "    }\n",
       "\n",
       "    .dataframe thead th {\n",
       "        text-align: right;\n",
       "    }\n",
       "</style>\n",
       "<table border=\"1\" class=\"dataframe\">\n",
       "  <thead>\n",
       "    <tr style=\"text-align: right;\">\n",
       "      <th></th>\n",
       "      <th>ActGPI</th>\n",
       "      <th>QTY</th>\n",
       "      <th>For_How_Many_Days</th>\n",
       "      <th>Age</th>\n",
       "      <th>AmountPaid</th>\n",
       "      <th>phrmcy_chg</th>\n",
       "      <th>State_IN</th>\n",
       "      <th>MailRetail_R</th>\n",
       "      <th>Sex_M</th>\n",
       "      <th>PurchasedBy_Spouse</th>\n",
       "    </tr>\n",
       "    <tr>\n",
       "      <th>UID</th>\n",
       "      <th></th>\n",
       "      <th></th>\n",
       "      <th></th>\n",
       "      <th></th>\n",
       "      <th></th>\n",
       "      <th></th>\n",
       "      <th></th>\n",
       "      <th></th>\n",
       "      <th></th>\n",
       "      <th></th>\n",
       "    </tr>\n",
       "  </thead>\n",
       "  <tbody>\n",
       "    <tr>\n",
       "      <th>1001 Medication1</th>\n",
       "      <td>340</td>\n",
       "      <td>30.0</td>\n",
       "      <td>30.0</td>\n",
       "      <td>59</td>\n",
       "      <td>7.0</td>\n",
       "      <td>0</td>\n",
       "      <td>1</td>\n",
       "      <td>1</td>\n",
       "      <td>1</td>\n",
       "      <td>0</td>\n",
       "    </tr>\n",
       "    <tr>\n",
       "      <th>1001 Medication10</th>\n",
       "      <td>281</td>\n",
       "      <td>30.0</td>\n",
       "      <td>30.0</td>\n",
       "      <td>59</td>\n",
       "      <td>4.0</td>\n",
       "      <td>0</td>\n",
       "      <td>1</td>\n",
       "      <td>1</td>\n",
       "      <td>1</td>\n",
       "      <td>0</td>\n",
       "    </tr>\n",
       "    <tr>\n",
       "      <th>1001 Medication11</th>\n",
       "      <td>361</td>\n",
       "      <td>30.0</td>\n",
       "      <td>30.0</td>\n",
       "      <td>59</td>\n",
       "      <td>4.0</td>\n",
       "      <td>0</td>\n",
       "      <td>1</td>\n",
       "      <td>1</td>\n",
       "      <td>1</td>\n",
       "      <td>0</td>\n",
       "    </tr>\n",
       "    <tr>\n",
       "      <th>1001 Medication12</th>\n",
       "      <td>361</td>\n",
       "      <td>30.0</td>\n",
       "      <td>30.0</td>\n",
       "      <td>59</td>\n",
       "      <td>4.0</td>\n",
       "      <td>0</td>\n",
       "      <td>1</td>\n",
       "      <td>1</td>\n",
       "      <td>1</td>\n",
       "      <td>0</td>\n",
       "    </tr>\n",
       "    <tr>\n",
       "      <th>1001 Medication13</th>\n",
       "      <td>659</td>\n",
       "      <td>90.0</td>\n",
       "      <td>30.0</td>\n",
       "      <td>59</td>\n",
       "      <td>20.0</td>\n",
       "      <td>0</td>\n",
       "      <td>1</td>\n",
       "      <td>1</td>\n",
       "      <td>1</td>\n",
       "      <td>0</td>\n",
       "    </tr>\n",
       "  </tbody>\n",
       "</table>\n",
       "</div>"
      ],
      "text/plain": [
       "                   ActGPI   QTY  For_How_Many_Days  Age  AmountPaid  \\\n",
       "UID                                                                   \n",
       "1001 Medication1      340  30.0               30.0   59         7.0   \n",
       "1001 Medication10     281  30.0               30.0   59         4.0   \n",
       "1001 Medication11     361  30.0               30.0   59         4.0   \n",
       "1001 Medication12     361  30.0               30.0   59         4.0   \n",
       "1001 Medication13     659  90.0               30.0   59        20.0   \n",
       "\n",
       "                   phrmcy_chg  State_IN  MailRetail_R  Sex_M  \\\n",
       "UID                                                            \n",
       "1001 Medication1            0         1             1      1   \n",
       "1001 Medication10           0         1             1      1   \n",
       "1001 Medication11           0         1             1      1   \n",
       "1001 Medication12           0         1             1      1   \n",
       "1001 Medication13           0         1             1      1   \n",
       "\n",
       "                   PurchasedBy_Spouse  \n",
       "UID                                    \n",
       "1001 Medication1                    0  \n",
       "1001 Medication10                   0  \n",
       "1001 Medication11                   0  \n",
       "1001 Medication12                   0  \n",
       "1001 Medication13                   0  "
      ]
     },
     "execution_count": 224,
     "metadata": {},
     "output_type": "execute_result"
    }
   ],
   "source": [
    "df_pca = df_dummies.drop(columns=['lag'], axis=1)\n",
    "df_pca.set_index('UID',inplace=True)\n",
    "df_pca.head()"
   ]
  },
  {
   "cell_type": "code",
   "execution_count": 268,
   "metadata": {},
   "outputs": [
    {
     "data": {
      "text/plain": [
       "39    73\n",
       "36    69\n",
       "58    58\n",
       "65    53\n",
       "27    39\n",
       "33    36\n",
       "28    35\n",
       "49    35\n",
       "72    32\n",
       "37    26\n",
       "34    21\n",
       "44    20\n",
       "75    20\n",
       "66    20\n",
       "57    16\n",
       "50    11\n",
       "40    11\n",
       "90    11\n",
       "22    10\n",
       "73     9\n",
       "42     9\n",
       "60     8\n",
       "94     8\n",
       "79     8\n",
       "12     7\n",
       "61     7\n",
       "82     7\n",
       "97     6\n",
       "43     6\n",
       "59     6\n",
       "21     6\n",
       "30     5\n",
       "24     5\n",
       "41     5\n",
       "99     5\n",
       "11     5\n",
       "86     5\n",
       "88     5\n",
       "62     5\n",
       "85     4\n",
       "25     3\n",
       "31     3\n",
       "52     3\n",
       "67     3\n",
       "16     3\n",
       "68     2\n",
       "54     2\n",
       "83     2\n",
       "13     2\n",
       "89     2\n",
       "23     2\n",
       "32     2\n",
       "19     1\n",
       "46     1\n",
       "77     1\n",
       "35     1\n",
       "64     1\n",
       "56     1\n",
       "81     1\n",
       "Name: ActGPI, dtype: int64"
      ]
     },
     "execution_count": 268,
     "metadata": {},
     "output_type": "execute_result"
    }
   ],
   "source": [
    "(df_pca.ActGPI/10).astype(int).value_counts()"
   ]
  },
  {
   "cell_type": "markdown",
   "metadata": {},
   "source": [
    "We should standardize our data first"
   ]
  },
  {
   "cell_type": "code",
   "execution_count": 241,
   "metadata": {
    "scrolled": true
   },
   "outputs": [
    {
     "name": "stderr",
     "output_type": "stream",
     "text": [
      "/anaconda3/lib/python3.7/site-packages/sklearn/utils/validation.py:595: DataConversionWarning: Data with input dtype int64 was converted to float64 by MinMaxScaler.\n",
      "  warnings.warn(msg, DataConversionWarning)\n",
      "/anaconda3/lib/python3.7/site-packages/sklearn/utils/validation.py:595: DataConversionWarning: Data with input dtype int64 was converted to float64 by MinMaxScaler.\n",
      "  warnings.warn(msg, DataConversionWarning)\n"
     ]
    },
    {
     "data": {
      "text/html": [
       "<div>\n",
       "<style scoped>\n",
       "    .dataframe tbody tr th:only-of-type {\n",
       "        vertical-align: middle;\n",
       "    }\n",
       "\n",
       "    .dataframe tbody tr th {\n",
       "        vertical-align: top;\n",
       "    }\n",
       "\n",
       "    .dataframe thead th {\n",
       "        text-align: right;\n",
       "    }\n",
       "</style>\n",
       "<table border=\"1\" class=\"dataframe\">\n",
       "  <thead>\n",
       "    <tr style=\"text-align: right;\">\n",
       "      <th></th>\n",
       "      <th>ActGPI</th>\n",
       "      <th>QTY</th>\n",
       "      <th>For_How_Many_Days</th>\n",
       "      <th>Age</th>\n",
       "      <th>AmountPaid</th>\n",
       "    </tr>\n",
       "  </thead>\n",
       "  <tbody>\n",
       "    <tr>\n",
       "      <th>0</th>\n",
       "      <td>0.256818</td>\n",
       "      <td>0.059059</td>\n",
       "      <td>0.055133</td>\n",
       "      <td>0.545455</td>\n",
       "      <td>0.004920</td>\n",
       "    </tr>\n",
       "    <tr>\n",
       "      <th>1</th>\n",
       "      <td>0.189773</td>\n",
       "      <td>0.059059</td>\n",
       "      <td>0.055133</td>\n",
       "      <td>0.545455</td>\n",
       "      <td>0.002811</td>\n",
       "    </tr>\n",
       "    <tr>\n",
       "      <th>2</th>\n",
       "      <td>0.280682</td>\n",
       "      <td>0.059059</td>\n",
       "      <td>0.055133</td>\n",
       "      <td>0.545455</td>\n",
       "      <td>0.002811</td>\n",
       "    </tr>\n",
       "    <tr>\n",
       "      <th>3</th>\n",
       "      <td>0.280682</td>\n",
       "      <td>0.059059</td>\n",
       "      <td>0.055133</td>\n",
       "      <td>0.545455</td>\n",
       "      <td>0.002811</td>\n",
       "    </tr>\n",
       "    <tr>\n",
       "      <th>4</th>\n",
       "      <td>0.619318</td>\n",
       "      <td>0.179179</td>\n",
       "      <td>0.055133</td>\n",
       "      <td>0.545455</td>\n",
       "      <td>0.014057</td>\n",
       "    </tr>\n",
       "  </tbody>\n",
       "</table>\n",
       "</div>"
      ],
      "text/plain": [
       "     ActGPI       QTY  For_How_Many_Days       Age  AmountPaid\n",
       "0  0.256818  0.059059           0.055133  0.545455    0.004920\n",
       "1  0.189773  0.059059           0.055133  0.545455    0.002811\n",
       "2  0.280682  0.059059           0.055133  0.545455    0.002811\n",
       "3  0.280682  0.059059           0.055133  0.545455    0.002811\n",
       "4  0.619318  0.179179           0.055133  0.545455    0.014057"
      ]
     },
     "execution_count": 241,
     "metadata": {},
     "output_type": "execute_result"
    }
   ],
   "source": [
    "from sklearn.preprocessing import MinMaxScaler\n",
    "\n",
    "min_max_scaler = MinMaxScaler()\n",
    "\n",
    "stdz_columns_list = [df_pca['ActGPI'],df_pca['QTY'],df_pca['For_How_Many_Days'],df_pca['Age'],df_pca['AmountPaid']]\n",
    "\n",
    "stdz = pd.DataFrame()\n",
    "for column in stdz_columns_list:\n",
    "    stdz[column.name]=[i[0] for i in min_max_scaler.fit_transform(column.values.reshape(-1,1))]\n",
    "        \n",
    "stdz.head()"
   ]
  },
  {
   "cell_type": "code",
   "execution_count": 247,
   "metadata": {},
   "outputs": [
    {
     "name": "stdout",
     "output_type": "stream",
     "text": [
      "(763, 5)\n",
      "(763, 10)\n"
     ]
    },
    {
     "data": {
      "text/html": [
       "<div>\n",
       "<style scoped>\n",
       "    .dataframe tbody tr th:only-of-type {\n",
       "        vertical-align: middle;\n",
       "    }\n",
       "\n",
       "    .dataframe tbody tr th {\n",
       "        vertical-align: top;\n",
       "    }\n",
       "\n",
       "    .dataframe thead th {\n",
       "        text-align: right;\n",
       "    }\n",
       "</style>\n",
       "<table border=\"1\" class=\"dataframe\">\n",
       "  <thead>\n",
       "    <tr style=\"text-align: right;\">\n",
       "      <th></th>\n",
       "      <th>phrmcy_chg</th>\n",
       "      <th>State_IN</th>\n",
       "      <th>MailRetail_R</th>\n",
       "      <th>Sex_M</th>\n",
       "      <th>PurchasedBy_Spouse</th>\n",
       "    </tr>\n",
       "    <tr>\n",
       "      <th>UID</th>\n",
       "      <th></th>\n",
       "      <th></th>\n",
       "      <th></th>\n",
       "      <th></th>\n",
       "      <th></th>\n",
       "    </tr>\n",
       "  </thead>\n",
       "  <tbody>\n",
       "    <tr>\n",
       "      <th>1001 Medication1</th>\n",
       "      <td>0</td>\n",
       "      <td>1</td>\n",
       "      <td>1</td>\n",
       "      <td>1</td>\n",
       "      <td>0</td>\n",
       "    </tr>\n",
       "    <tr>\n",
       "      <th>1001 Medication10</th>\n",
       "      <td>0</td>\n",
       "      <td>1</td>\n",
       "      <td>1</td>\n",
       "      <td>1</td>\n",
       "      <td>0</td>\n",
       "    </tr>\n",
       "    <tr>\n",
       "      <th>1001 Medication11</th>\n",
       "      <td>0</td>\n",
       "      <td>1</td>\n",
       "      <td>1</td>\n",
       "      <td>1</td>\n",
       "      <td>0</td>\n",
       "    </tr>\n",
       "    <tr>\n",
       "      <th>1001 Medication12</th>\n",
       "      <td>0</td>\n",
       "      <td>1</td>\n",
       "      <td>1</td>\n",
       "      <td>1</td>\n",
       "      <td>0</td>\n",
       "    </tr>\n",
       "    <tr>\n",
       "      <th>1001 Medication13</th>\n",
       "      <td>0</td>\n",
       "      <td>1</td>\n",
       "      <td>1</td>\n",
       "      <td>1</td>\n",
       "      <td>0</td>\n",
       "    </tr>\n",
       "  </tbody>\n",
       "</table>\n",
       "</div>"
      ],
      "text/plain": [
       "                   phrmcy_chg  State_IN  MailRetail_R  Sex_M  \\\n",
       "UID                                                            \n",
       "1001 Medication1            0         1             1      1   \n",
       "1001 Medication10           0         1             1      1   \n",
       "1001 Medication11           0         1             1      1   \n",
       "1001 Medication12           0         1             1      1   \n",
       "1001 Medication13           0         1             1      1   \n",
       "\n",
       "                   PurchasedBy_Spouse  \n",
       "UID                                    \n",
       "1001 Medication1                    0  \n",
       "1001 Medication10                   0  \n",
       "1001 Medication11                   0  \n",
       "1001 Medication12                   0  \n",
       "1001 Medication13                   0  "
      ]
     },
     "execution_count": 247,
     "metadata": {},
     "output_type": "execute_result"
    }
   ],
   "source": [
    "print(stdz.shape)\n",
    "print(df_pca.shape)"
   ]
  },
  {
   "cell_type": "code",
   "execution_count": 249,
   "metadata": {},
   "outputs": [
    {
     "data": {
      "text/html": [
       "<div>\n",
       "<style scoped>\n",
       "    .dataframe tbody tr th:only-of-type {\n",
       "        vertical-align: middle;\n",
       "    }\n",
       "\n",
       "    .dataframe tbody tr th {\n",
       "        vertical-align: top;\n",
       "    }\n",
       "\n",
       "    .dataframe thead th {\n",
       "        text-align: right;\n",
       "    }\n",
       "</style>\n",
       "<table border=\"1\" class=\"dataframe\">\n",
       "  <thead>\n",
       "    <tr style=\"text-align: right;\">\n",
       "      <th></th>\n",
       "      <th>ActGPI</th>\n",
       "      <th>QTY</th>\n",
       "      <th>For_How_Many_Days</th>\n",
       "      <th>Age</th>\n",
       "      <th>AmountPaid</th>\n",
       "    </tr>\n",
       "    <tr>\n",
       "      <th>UID</th>\n",
       "      <th></th>\n",
       "      <th></th>\n",
       "      <th></th>\n",
       "      <th></th>\n",
       "      <th></th>\n",
       "    </tr>\n",
       "  </thead>\n",
       "  <tbody>\n",
       "    <tr>\n",
       "      <th>1001 Medication1</th>\n",
       "      <td>0.256818</td>\n",
       "      <td>0.059059</td>\n",
       "      <td>0.055133</td>\n",
       "      <td>0.545455</td>\n",
       "      <td>0.004920</td>\n",
       "    </tr>\n",
       "    <tr>\n",
       "      <th>1001 Medication10</th>\n",
       "      <td>0.189773</td>\n",
       "      <td>0.059059</td>\n",
       "      <td>0.055133</td>\n",
       "      <td>0.545455</td>\n",
       "      <td>0.002811</td>\n",
       "    </tr>\n",
       "    <tr>\n",
       "      <th>1001 Medication11</th>\n",
       "      <td>0.280682</td>\n",
       "      <td>0.059059</td>\n",
       "      <td>0.055133</td>\n",
       "      <td>0.545455</td>\n",
       "      <td>0.002811</td>\n",
       "    </tr>\n",
       "    <tr>\n",
       "      <th>1001 Medication12</th>\n",
       "      <td>0.280682</td>\n",
       "      <td>0.059059</td>\n",
       "      <td>0.055133</td>\n",
       "      <td>0.545455</td>\n",
       "      <td>0.002811</td>\n",
       "    </tr>\n",
       "    <tr>\n",
       "      <th>1001 Medication13</th>\n",
       "      <td>0.619318</td>\n",
       "      <td>0.179179</td>\n",
       "      <td>0.055133</td>\n",
       "      <td>0.545455</td>\n",
       "      <td>0.014057</td>\n",
       "    </tr>\n",
       "  </tbody>\n",
       "</table>\n",
       "</div>"
      ],
      "text/plain": [
       "                     ActGPI       QTY  For_How_Many_Days       Age  AmountPaid\n",
       "UID                                                                           \n",
       "1001 Medication1   0.256818  0.059059           0.055133  0.545455    0.004920\n",
       "1001 Medication10  0.189773  0.059059           0.055133  0.545455    0.002811\n",
       "1001 Medication11  0.280682  0.059059           0.055133  0.545455    0.002811\n",
       "1001 Medication12  0.280682  0.059059           0.055133  0.545455    0.002811\n",
       "1001 Medication13  0.619318  0.179179           0.055133  0.545455    0.014057"
      ]
     },
     "execution_count": 249,
     "metadata": {},
     "output_type": "execute_result"
    }
   ],
   "source": [
    "stdz.set_index(df_pca.index, drop=True, inplace=True)\n",
    "stdz.head()"
   ]
  },
  {
   "cell_type": "code",
   "execution_count": 250,
   "metadata": {},
   "outputs": [
    {
     "data": {
      "text/html": [
       "<div>\n",
       "<style scoped>\n",
       "    .dataframe tbody tr th:only-of-type {\n",
       "        vertical-align: middle;\n",
       "    }\n",
       "\n",
       "    .dataframe tbody tr th {\n",
       "        vertical-align: top;\n",
       "    }\n",
       "\n",
       "    .dataframe thead th {\n",
       "        text-align: right;\n",
       "    }\n",
       "</style>\n",
       "<table border=\"1\" class=\"dataframe\">\n",
       "  <thead>\n",
       "    <tr style=\"text-align: right;\">\n",
       "      <th></th>\n",
       "      <th>phrmcy_chg</th>\n",
       "      <th>State_IN</th>\n",
       "      <th>MailRetail_R</th>\n",
       "      <th>Sex_M</th>\n",
       "      <th>PurchasedBy_Spouse</th>\n",
       "      <th>ActGPI</th>\n",
       "      <th>QTY</th>\n",
       "      <th>For_How_Many_Days</th>\n",
       "      <th>Age</th>\n",
       "      <th>AmountPaid</th>\n",
       "    </tr>\n",
       "    <tr>\n",
       "      <th>UID</th>\n",
       "      <th></th>\n",
       "      <th></th>\n",
       "      <th></th>\n",
       "      <th></th>\n",
       "      <th></th>\n",
       "      <th></th>\n",
       "      <th></th>\n",
       "      <th></th>\n",
       "      <th></th>\n",
       "      <th></th>\n",
       "    </tr>\n",
       "  </thead>\n",
       "  <tbody>\n",
       "    <tr>\n",
       "      <th>1001 Medication1</th>\n",
       "      <td>0</td>\n",
       "      <td>1</td>\n",
       "      <td>1</td>\n",
       "      <td>1</td>\n",
       "      <td>0</td>\n",
       "      <td>0.256818</td>\n",
       "      <td>0.059059</td>\n",
       "      <td>0.055133</td>\n",
       "      <td>0.545455</td>\n",
       "      <td>0.004920</td>\n",
       "    </tr>\n",
       "    <tr>\n",
       "      <th>1001 Medication10</th>\n",
       "      <td>0</td>\n",
       "      <td>1</td>\n",
       "      <td>1</td>\n",
       "      <td>1</td>\n",
       "      <td>0</td>\n",
       "      <td>0.189773</td>\n",
       "      <td>0.059059</td>\n",
       "      <td>0.055133</td>\n",
       "      <td>0.545455</td>\n",
       "      <td>0.002811</td>\n",
       "    </tr>\n",
       "    <tr>\n",
       "      <th>1001 Medication11</th>\n",
       "      <td>0</td>\n",
       "      <td>1</td>\n",
       "      <td>1</td>\n",
       "      <td>1</td>\n",
       "      <td>0</td>\n",
       "      <td>0.280682</td>\n",
       "      <td>0.059059</td>\n",
       "      <td>0.055133</td>\n",
       "      <td>0.545455</td>\n",
       "      <td>0.002811</td>\n",
       "    </tr>\n",
       "    <tr>\n",
       "      <th>1001 Medication12</th>\n",
       "      <td>0</td>\n",
       "      <td>1</td>\n",
       "      <td>1</td>\n",
       "      <td>1</td>\n",
       "      <td>0</td>\n",
       "      <td>0.280682</td>\n",
       "      <td>0.059059</td>\n",
       "      <td>0.055133</td>\n",
       "      <td>0.545455</td>\n",
       "      <td>0.002811</td>\n",
       "    </tr>\n",
       "    <tr>\n",
       "      <th>1001 Medication13</th>\n",
       "      <td>0</td>\n",
       "      <td>1</td>\n",
       "      <td>1</td>\n",
       "      <td>1</td>\n",
       "      <td>0</td>\n",
       "      <td>0.619318</td>\n",
       "      <td>0.179179</td>\n",
       "      <td>0.055133</td>\n",
       "      <td>0.545455</td>\n",
       "      <td>0.014057</td>\n",
       "    </tr>\n",
       "  </tbody>\n",
       "</table>\n",
       "</div>"
      ],
      "text/plain": [
       "                   phrmcy_chg  State_IN  MailRetail_R  Sex_M  \\\n",
       "UID                                                            \n",
       "1001 Medication1            0         1             1      1   \n",
       "1001 Medication10           0         1             1      1   \n",
       "1001 Medication11           0         1             1      1   \n",
       "1001 Medication12           0         1             1      1   \n",
       "1001 Medication13           0         1             1      1   \n",
       "\n",
       "                   PurchasedBy_Spouse    ActGPI       QTY  For_How_Many_Days  \\\n",
       "UID                                                                            \n",
       "1001 Medication1                    0  0.256818  0.059059           0.055133   \n",
       "1001 Medication10                   0  0.189773  0.059059           0.055133   \n",
       "1001 Medication11                   0  0.280682  0.059059           0.055133   \n",
       "1001 Medication12                   0  0.280682  0.059059           0.055133   \n",
       "1001 Medication13                   0  0.619318  0.179179           0.055133   \n",
       "\n",
       "                        Age  AmountPaid  \n",
       "UID                                      \n",
       "1001 Medication1   0.545455    0.004920  \n",
       "1001 Medication10  0.545455    0.002811  \n",
       "1001 Medication11  0.545455    0.002811  \n",
       "1001 Medication12  0.545455    0.002811  \n",
       "1001 Medication13  0.545455    0.014057  "
      ]
     },
     "execution_count": 250,
     "metadata": {},
     "output_type": "execute_result"
    }
   ],
   "source": [
    "stdz = df_pca[['phrmcy_chg','State_IN','MailRetail_R','Sex_M','PurchasedBy_Spouse']].merge(stdz, how='inner', left_index=True, right_index=True)\n",
    "stdz.head()"
   ]
  },
  {
   "cell_type": "code",
   "execution_count": 258,
   "metadata": {},
   "outputs": [
    {
     "name": "stdout",
     "output_type": "stream",
     "text": [
      "(767, 10)\n"
     ]
    },
    {
     "data": {
      "text/plain": [
       "(704, 10)"
      ]
     },
     "execution_count": 258,
     "metadata": {},
     "output_type": "execute_result"
    }
   ],
   "source": [
    "print(stdz.shape)\n",
    "stdz1=stdz.copy()\n",
    "stdz1=stdz1.drop_duplicates()\n",
    "stdz1.shape"
   ]
  },
  {
   "cell_type": "markdown",
   "metadata": {},
   "source": [
    "Even though there appears to be duplicate rows, there are none. They are just the result of two different UIDs having the same parameters"
   ]
  },
  {
   "cell_type": "markdown",
   "metadata": {},
   "source": [
    "The ActGPI column is useless because we cannot figure out what it represents exactly. Supposedly, it contains information about the type of medication, but we could not manage to understand it thoroughly. Therefore I decided to drop it"
   ]
  },
  {
   "cell_type": "code",
   "execution_count": null,
   "metadata": {},
   "outputs": [],
   "source": [
    "stdz.drop(columns=['ActGPI'], axis=1, inplace=True)"
   ]
  },
  {
   "cell_type": "code",
   "execution_count": 271,
   "metadata": {},
   "outputs": [
    {
     "data": {
      "text/html": [
       "<div>\n",
       "<style scoped>\n",
       "    .dataframe tbody tr th:only-of-type {\n",
       "        vertical-align: middle;\n",
       "    }\n",
       "\n",
       "    .dataframe tbody tr th {\n",
       "        vertical-align: top;\n",
       "    }\n",
       "\n",
       "    .dataframe thead th {\n",
       "        text-align: right;\n",
       "    }\n",
       "</style>\n",
       "<table border=\"1\" class=\"dataframe\">\n",
       "  <thead>\n",
       "    <tr style=\"text-align: right;\">\n",
       "      <th></th>\n",
       "      <th>phrmcy_chg</th>\n",
       "      <th>State_IN</th>\n",
       "      <th>MailRetail_R</th>\n",
       "      <th>Sex_M</th>\n",
       "      <th>PurchasedBy_Spouse</th>\n",
       "      <th>QTY</th>\n",
       "      <th>For_How_Many_Days</th>\n",
       "      <th>Age</th>\n",
       "      <th>AmountPaid</th>\n",
       "    </tr>\n",
       "    <tr>\n",
       "      <th>UID</th>\n",
       "      <th></th>\n",
       "      <th></th>\n",
       "      <th></th>\n",
       "      <th></th>\n",
       "      <th></th>\n",
       "      <th></th>\n",
       "      <th></th>\n",
       "      <th></th>\n",
       "      <th></th>\n",
       "    </tr>\n",
       "  </thead>\n",
       "  <tbody>\n",
       "    <tr>\n",
       "      <th>1001 Medication1</th>\n",
       "      <td>0</td>\n",
       "      <td>1</td>\n",
       "      <td>1</td>\n",
       "      <td>1</td>\n",
       "      <td>0</td>\n",
       "      <td>0.059059</td>\n",
       "      <td>0.055133</td>\n",
       "      <td>0.545455</td>\n",
       "      <td>0.004920</td>\n",
       "    </tr>\n",
       "    <tr>\n",
       "      <th>1001 Medication10</th>\n",
       "      <td>0</td>\n",
       "      <td>1</td>\n",
       "      <td>1</td>\n",
       "      <td>1</td>\n",
       "      <td>0</td>\n",
       "      <td>0.059059</td>\n",
       "      <td>0.055133</td>\n",
       "      <td>0.545455</td>\n",
       "      <td>0.002811</td>\n",
       "    </tr>\n",
       "    <tr>\n",
       "      <th>1001 Medication11</th>\n",
       "      <td>0</td>\n",
       "      <td>1</td>\n",
       "      <td>1</td>\n",
       "      <td>1</td>\n",
       "      <td>0</td>\n",
       "      <td>0.059059</td>\n",
       "      <td>0.055133</td>\n",
       "      <td>0.545455</td>\n",
       "      <td>0.002811</td>\n",
       "    </tr>\n",
       "    <tr>\n",
       "      <th>1001 Medication12</th>\n",
       "      <td>0</td>\n",
       "      <td>1</td>\n",
       "      <td>1</td>\n",
       "      <td>1</td>\n",
       "      <td>0</td>\n",
       "      <td>0.059059</td>\n",
       "      <td>0.055133</td>\n",
       "      <td>0.545455</td>\n",
       "      <td>0.002811</td>\n",
       "    </tr>\n",
       "    <tr>\n",
       "      <th>1001 Medication13</th>\n",
       "      <td>0</td>\n",
       "      <td>1</td>\n",
       "      <td>1</td>\n",
       "      <td>1</td>\n",
       "      <td>0</td>\n",
       "      <td>0.179179</td>\n",
       "      <td>0.055133</td>\n",
       "      <td>0.545455</td>\n",
       "      <td>0.014057</td>\n",
       "    </tr>\n",
       "  </tbody>\n",
       "</table>\n",
       "</div>"
      ],
      "text/plain": [
       "                   phrmcy_chg  State_IN  MailRetail_R  Sex_M  \\\n",
       "UID                                                            \n",
       "1001 Medication1            0         1             1      1   \n",
       "1001 Medication10           0         1             1      1   \n",
       "1001 Medication11           0         1             1      1   \n",
       "1001 Medication12           0         1             1      1   \n",
       "1001 Medication13           0         1             1      1   \n",
       "\n",
       "                   PurchasedBy_Spouse       QTY  For_How_Many_Days       Age  \\\n",
       "UID                                                                            \n",
       "1001 Medication1                    0  0.059059           0.055133  0.545455   \n",
       "1001 Medication10                   0  0.059059           0.055133  0.545455   \n",
       "1001 Medication11                   0  0.059059           0.055133  0.545455   \n",
       "1001 Medication12                   0  0.059059           0.055133  0.545455   \n",
       "1001 Medication13                   0  0.179179           0.055133  0.545455   \n",
       "\n",
       "                   AmountPaid  \n",
       "UID                            \n",
       "1001 Medication1     0.004920  \n",
       "1001 Medication10    0.002811  \n",
       "1001 Medication11    0.002811  \n",
       "1001 Medication12    0.002811  \n",
       "1001 Medication13    0.014057  "
      ]
     },
     "execution_count": 271,
     "metadata": {},
     "output_type": "execute_result"
    }
   ],
   "source": [
    "stdz.head()"
   ]
  },
  {
   "cell_type": "code",
   "execution_count": 276,
   "metadata": {},
   "outputs": [
    {
     "data": {
      "text/html": [
       "<div>\n",
       "<style scoped>\n",
       "    .dataframe tbody tr th:only-of-type {\n",
       "        vertical-align: middle;\n",
       "    }\n",
       "\n",
       "    .dataframe tbody tr th {\n",
       "        vertical-align: top;\n",
       "    }\n",
       "\n",
       "    .dataframe thead th {\n",
       "        text-align: right;\n",
       "    }\n",
       "</style>\n",
       "<table border=\"1\" class=\"dataframe\">\n",
       "  <thead>\n",
       "    <tr style=\"text-align: right;\">\n",
       "      <th></th>\n",
       "      <th>pc1</th>\n",
       "      <th>pc2</th>\n",
       "      <th>pc3</th>\n",
       "      <th>pc4</th>\n",
       "      <th>pc5</th>\n",
       "    </tr>\n",
       "  </thead>\n",
       "  <tbody>\n",
       "    <tr>\n",
       "      <th>0</th>\n",
       "      <td>0.768945</td>\n",
       "      <td>-0.470214</td>\n",
       "      <td>-0.005429</td>\n",
       "      <td>0.003132</td>\n",
       "      <td>0.037664</td>\n",
       "    </tr>\n",
       "    <tr>\n",
       "      <th>1</th>\n",
       "      <td>0.768949</td>\n",
       "      <td>-0.470235</td>\n",
       "      <td>-0.005455</td>\n",
       "      <td>0.003157</td>\n",
       "      <td>0.037663</td>\n",
       "    </tr>\n",
       "    <tr>\n",
       "      <th>2</th>\n",
       "      <td>0.768949</td>\n",
       "      <td>-0.470235</td>\n",
       "      <td>-0.005455</td>\n",
       "      <td>0.003157</td>\n",
       "      <td>0.037663</td>\n",
       "    </tr>\n",
       "    <tr>\n",
       "      <th>3</th>\n",
       "      <td>0.768949</td>\n",
       "      <td>-0.470235</td>\n",
       "      <td>-0.005455</td>\n",
       "      <td>0.003157</td>\n",
       "      <td>0.037663</td>\n",
       "    </tr>\n",
       "    <tr>\n",
       "      <th>4</th>\n",
       "      <td>0.769414</td>\n",
       "      <td>-0.472553</td>\n",
       "      <td>-0.006322</td>\n",
       "      <td>0.004290</td>\n",
       "      <td>0.035302</td>\n",
       "    </tr>\n",
       "  </tbody>\n",
       "</table>\n",
       "</div>"
      ],
      "text/plain": [
       "        pc1       pc2       pc3       pc4       pc5\n",
       "0  0.768945 -0.470214 -0.005429  0.003132  0.037664\n",
       "1  0.768949 -0.470235 -0.005455  0.003157  0.037663\n",
       "2  0.768949 -0.470235 -0.005455  0.003157  0.037663\n",
       "3  0.768949 -0.470235 -0.005455  0.003157  0.037663\n",
       "4  0.769414 -0.472553 -0.006322  0.004290  0.035302"
      ]
     },
     "execution_count": 276,
     "metadata": {},
     "output_type": "execute_result"
    }
   ],
   "source": [
    "pca = PCA(5)\n",
    "\n",
    "pc = pca.fit_transform(stdz)\n",
    "ppc = pd.DataFrame(data=pc, columns=['pc1','pc2','pc3','pc4','pc5'])\n",
    "ppc.head()"
   ]
  },
  {
   "cell_type": "code",
   "execution_count": 277,
   "metadata": {},
   "outputs": [
    {
     "data": {
      "text/plain": [
       "array([0.4062851 , 0.28606421, 0.13957771, 0.11658172, 0.02766811])"
      ]
     },
     "execution_count": 277,
     "metadata": {},
     "output_type": "execute_result"
    }
   ],
   "source": [
    "pca.explained_variance_ratio_"
   ]
  },
  {
   "cell_type": "markdown",
   "metadata": {},
   "source": [
    "This PCA works well with 2 dimensions."
   ]
  },
  {
   "cell_type": "code",
   "execution_count": 278,
   "metadata": {},
   "outputs": [
    {
     "data": {
      "text/html": [
       "<div>\n",
       "<style scoped>\n",
       "    .dataframe tbody tr th:only-of-type {\n",
       "        vertical-align: middle;\n",
       "    }\n",
       "\n",
       "    .dataframe tbody tr th {\n",
       "        vertical-align: top;\n",
       "    }\n",
       "\n",
       "    .dataframe thead th {\n",
       "        text-align: right;\n",
       "    }\n",
       "</style>\n",
       "<table border=\"1\" class=\"dataframe\">\n",
       "  <thead>\n",
       "    <tr style=\"text-align: right;\">\n",
       "      <th></th>\n",
       "      <th>pc1</th>\n",
       "      <th>pc2</th>\n",
       "    </tr>\n",
       "  </thead>\n",
       "  <tbody>\n",
       "    <tr>\n",
       "      <th>0</th>\n",
       "      <td>0.768945</td>\n",
       "      <td>-0.470214</td>\n",
       "    </tr>\n",
       "    <tr>\n",
       "      <th>1</th>\n",
       "      <td>0.768949</td>\n",
       "      <td>-0.470235</td>\n",
       "    </tr>\n",
       "    <tr>\n",
       "      <th>2</th>\n",
       "      <td>0.768949</td>\n",
       "      <td>-0.470235</td>\n",
       "    </tr>\n",
       "    <tr>\n",
       "      <th>3</th>\n",
       "      <td>0.768949</td>\n",
       "      <td>-0.470235</td>\n",
       "    </tr>\n",
       "    <tr>\n",
       "      <th>4</th>\n",
       "      <td>0.769414</td>\n",
       "      <td>-0.472553</td>\n",
       "    </tr>\n",
       "  </tbody>\n",
       "</table>\n",
       "</div>"
      ],
      "text/plain": [
       "        pc1       pc2\n",
       "0  0.768945 -0.470214\n",
       "1  0.768949 -0.470235\n",
       "2  0.768949 -0.470235\n",
       "3  0.768949 -0.470235\n",
       "4  0.769414 -0.472553"
      ]
     },
     "execution_count": 278,
     "metadata": {},
     "output_type": "execute_result"
    }
   ],
   "source": [
    "pca = PCA(2)\n",
    "\n",
    "pc = pca.fit_transform(stdz)\n",
    "ppc = pd.DataFrame(data=pc, columns=['pc1','pc2'])\n",
    "ppc.head()"
   ]
  },
  {
   "cell_type": "code",
   "execution_count": 279,
   "metadata": {},
   "outputs": [
    {
     "data": {
      "text/plain": [
       "array([0.4062851 , 0.28606421])"
      ]
     },
     "execution_count": 279,
     "metadata": {},
     "output_type": "execute_result"
    }
   ],
   "source": [
    "pca.explained_variance_ratio_"
   ]
  },
  {
   "cell_type": "markdown",
   "metadata": {},
   "source": [
    "# Now To Clustering (again)"
   ]
  },
  {
   "cell_type": "markdown",
   "metadata": {},
   "source": [
    "First, let's determine the optimal number of clusters"
   ]
  },
  {
   "cell_type": "code",
   "execution_count": 280,
   "metadata": {},
   "outputs": [
    {
     "data": {
      "image/png": "[encoded data removed]",
      "text/plain": [
       "<Figure size 576x396 with 2 Axes>"
      ]
     },
     "metadata": {},
     "output_type": "display_data"
    }
   ],
   "source": [
    "from sklearn import cluster\n",
    "from yellowbrick.cluster import KElbowVisualizer\n",
    "model = cluster.KMeans()\n",
    "visualizer = KElbowVisualizer(model, k=(1,12))\n",
    "visualizer.fit(ppc)\n",
    "visualizer.poof()"
   ]
  },
  {
   "cell_type": "markdown",
   "metadata": {},
   "source": [
    "The optimal number of clusters seems to be 5 or 6. Let's zoom in to check."
   ]
  },
  {
   "cell_type": "code",
   "execution_count": 282,
   "metadata": {},
   "outputs": [
    {
     "data": {
      "image/png": "[encoded data removed]",
      "text/plain": [
       "<Figure size 576x396 with 2 Axes>"
      ]
     },
     "metadata": {},
     "output_type": "display_data"
    }
   ],
   "source": [
    "visualizer = KElbowVisualizer(model, k=(4,8))\n",
    "visualizer.fit(ppc)\n",
    "visualizer.poof()"
   ]
  },
  {
   "cell_type": "markdown",
   "metadata": {},
   "source": [
    "No debate, optimum is 5"
   ]
  },
  {
   "cell_type": "code",
   "execution_count": 283,
   "metadata": {},
   "outputs": [
    {
     "name": "stdout",
     "output_type": "stream",
     "text": [
      "[0 0 0 0 0 0 0 0 0 0 0 0 0 0 0 0 1 1 1 1 1 1 1 1 1 1 1 0 2 2 2 0 2 2 2 2 0\n",
      " 0 0 0 0 0 0 0 0 0 0 0 0 1 1 1 1 1 1 1 1 1 0 1 1 1 1 1 1 1 0 0 0 0 1 1 1 1\n",
      " 1 1 1 1 1 1 1 1 1 0 0 0 0 0 0 0 0 1 1 1 1 1 1 1 1 1 1 1 1 1 0 0 0 0 0 0 0\n",
      " 0 0 1 1 1 1 1 1 1 1 1 1 1 1 0 0 0 0 0 0 0 0 0 0 0 0 0 4 4 4 4 4 4 4 4 4 4\n",
      " 4 3 3 3 3 3 3 3 3 3 3 3 3 3 3 3 3 3 3 3 3 3 3 3 3 3 1 1 1 1 1 1 1 1 0 0 0\n",
      " 0 0 0 0 0 0 0 0 0 0 0 0 0 0 0 0 0 0 0 0 0 0 1 1 1 1 1 1 1 1 1 1 1 1 1 1 1\n",
      " 1 1 1 1 1 1 1 0 0 0 0 0 0 0 0 0 0 0 0 0 0 0 0 1 1 1 1 1 1 1 1 1 1 1 1 1 1\n",
      " 1 1 1 1 0 0 0 0 0 0 0 0 0 0 0 0 0 0 0 0 0 0 0 0 0 0 0 0 2 2 2 2 2 2 2 2 2\n",
      " 2 2 2 2 0 0 0 0 0 0 0 0 0 0 0 0 0 0 0 4 4 4 4 4 4 4 4 4 4 4 4 4 4 4 4 4 4\n",
      " 4 4 4 4 4 4 4 4 4 4 1 1 1 1 1 1 1 1 1 2 2 2 2 2 2 2 2 2 2 2 2 2 2 2 0 0 0\n",
      " 0 0 0 0 0 0 0 0 0 0 0 0 0 1 1 1 1 1 1 1 1 1 1 1 1 1 1 1 1 1 1 1 1 1 1 1 1\n",
      " 1 1 1 1 1 4 4 4 4 4 4 4 4 4 4 4 4 4 4 4 1 1 1 1 1 1 1 1 1 2 2 2 2 2 2 2 2\n",
      " 2 2 2 2 2 2 2 2 2 2 2 2 2 2 3 3 3 3 3 3 3 3 3 3 3 4 4 4 4 4 3 3 3 3 3 3 3\n",
      " 3 3 3 3 3 3 3 3 2 2 2 2 2 2 2 2 2 2 2 2 2 2 2 2 2 2 2 2 2 2 2 2 2 2 2 4 4\n",
      " 4 4 4 4 4 4 4 3 3 3 3 3 3 3 3 3 3 3 3 3 3 3 3 3 3 3 3 0 0 0 0 0 0 0 0 3 3\n",
      " 3 3 3 3 3 3 3 3 3 3 3 3 3 3 3 3 3 3 3 3 3 3 0 0 0 0 0 0 0 1 1 1 1 1 1 1 1\n",
      " 1 1 0 0 0 0 0 0 0 0 0 4 4 4 4 4 4 4 4 4 4 4 4 4 4 4 4 4 4 4 4 3 3 3 3 3 3\n",
      " 2 2 2 2 2 2 2 2 2 2 2 2 2 2 2 2 2 2 2 2 2 2 2 2 2 2 2 2 2 2 2 2 2 2 2 2 2\n",
      " 2 2 2 2 2 3 3 3 3 3 3 3 3 3 3 3 3 2 2 2 2 2 2 2 2 2 2 2 2 2 2 2 2 2 2 2 2\n",
      " 2 2 2 2 2 2 2 2 2 2 2 2 2 2 2 2 2 2 2 2 2 2 2 2 2 2 1 1 1 1 1 1 1 1 1 1 1\n",
      " 1 1 1 1 1 1 1 2 2 2 2 2 2 2 2 2 2 2 2 2 2 2 2 2 2 2 2]\n"
     ]
    }
   ],
   "source": [
    "model = cluster.KMeans(5)\n",
    "model.fit(ppc)\n",
    "y_pred = model.predict(ppc)\n",
    "print(y_pred)"
   ]
  },
  {
   "cell_type": "markdown",
   "metadata": {},
   "source": [
    "Now, we have our additional labels from unsupervized learning. Let's add them to our supervized learning df and see whether this improves our ability to predict adherence."
   ]
  },
  {
   "cell_type": "code",
   "execution_count": 284,
   "metadata": {},
   "outputs": [
    {
     "name": "stdout",
     "output_type": "stream",
     "text": [
      "(767, 9)\n",
      "(767,)\n"
     ]
    }
   ],
   "source": [
    "print(stdz.shape)\n",
    "print(y_pred.shape)"
   ]
  },
  {
   "cell_type": "code",
   "execution_count": 285,
   "metadata": {},
   "outputs": [],
   "source": [
    "stdz['cluster'] = y_pred"
   ]
  },
  {
   "cell_type": "code",
   "execution_count": 287,
   "metadata": {},
   "outputs": [
    {
     "data": {
      "text/html": [
       "<div>\n",
       "<style scoped>\n",
       "    .dataframe tbody tr th:only-of-type {\n",
       "        vertical-align: middle;\n",
       "    }\n",
       "\n",
       "    .dataframe tbody tr th {\n",
       "        vertical-align: top;\n",
       "    }\n",
       "\n",
       "    .dataframe thead th {\n",
       "        text-align: right;\n",
       "    }\n",
       "</style>\n",
       "<table border=\"1\" class=\"dataframe\">\n",
       "  <thead>\n",
       "    <tr style=\"text-align: right;\">\n",
       "      <th></th>\n",
       "      <th>phrmcy_chg</th>\n",
       "      <th>State_IN</th>\n",
       "      <th>MailRetail_R</th>\n",
       "      <th>Sex_M</th>\n",
       "      <th>PurchasedBy_Spouse</th>\n",
       "      <th>QTY</th>\n",
       "      <th>For_How_Many_Days</th>\n",
       "      <th>Age</th>\n",
       "      <th>AmountPaid</th>\n",
       "      <th>cluster_1</th>\n",
       "      <th>cluster_2</th>\n",
       "      <th>cluster_3</th>\n",
       "      <th>cluster_4</th>\n",
       "    </tr>\n",
       "    <tr>\n",
       "      <th>UID</th>\n",
       "      <th></th>\n",
       "      <th></th>\n",
       "      <th></th>\n",
       "      <th></th>\n",
       "      <th></th>\n",
       "      <th></th>\n",
       "      <th></th>\n",
       "      <th></th>\n",
       "      <th></th>\n",
       "      <th></th>\n",
       "      <th></th>\n",
       "      <th></th>\n",
       "      <th></th>\n",
       "    </tr>\n",
       "  </thead>\n",
       "  <tbody>\n",
       "    <tr>\n",
       "      <th>1001 Medication1</th>\n",
       "      <td>0</td>\n",
       "      <td>1</td>\n",
       "      <td>1</td>\n",
       "      <td>1</td>\n",
       "      <td>0</td>\n",
       "      <td>0.059059</td>\n",
       "      <td>0.055133</td>\n",
       "      <td>0.545455</td>\n",
       "      <td>0.004920</td>\n",
       "      <td>0</td>\n",
       "      <td>0</td>\n",
       "      <td>0</td>\n",
       "      <td>0</td>\n",
       "    </tr>\n",
       "    <tr>\n",
       "      <th>1001 Medication10</th>\n",
       "      <td>0</td>\n",
       "      <td>1</td>\n",
       "      <td>1</td>\n",
       "      <td>1</td>\n",
       "      <td>0</td>\n",
       "      <td>0.059059</td>\n",
       "      <td>0.055133</td>\n",
       "      <td>0.545455</td>\n",
       "      <td>0.002811</td>\n",
       "      <td>0</td>\n",
       "      <td>0</td>\n",
       "      <td>0</td>\n",
       "      <td>0</td>\n",
       "    </tr>\n",
       "    <tr>\n",
       "      <th>1001 Medication11</th>\n",
       "      <td>0</td>\n",
       "      <td>1</td>\n",
       "      <td>1</td>\n",
       "      <td>1</td>\n",
       "      <td>0</td>\n",
       "      <td>0.059059</td>\n",
       "      <td>0.055133</td>\n",
       "      <td>0.545455</td>\n",
       "      <td>0.002811</td>\n",
       "      <td>0</td>\n",
       "      <td>0</td>\n",
       "      <td>0</td>\n",
       "      <td>0</td>\n",
       "    </tr>\n",
       "    <tr>\n",
       "      <th>1001 Medication12</th>\n",
       "      <td>0</td>\n",
       "      <td>1</td>\n",
       "      <td>1</td>\n",
       "      <td>1</td>\n",
       "      <td>0</td>\n",
       "      <td>0.059059</td>\n",
       "      <td>0.055133</td>\n",
       "      <td>0.545455</td>\n",
       "      <td>0.002811</td>\n",
       "      <td>0</td>\n",
       "      <td>0</td>\n",
       "      <td>0</td>\n",
       "      <td>0</td>\n",
       "    </tr>\n",
       "    <tr>\n",
       "      <th>1001 Medication13</th>\n",
       "      <td>0</td>\n",
       "      <td>1</td>\n",
       "      <td>1</td>\n",
       "      <td>1</td>\n",
       "      <td>0</td>\n",
       "      <td>0.179179</td>\n",
       "      <td>0.055133</td>\n",
       "      <td>0.545455</td>\n",
       "      <td>0.014057</td>\n",
       "      <td>0</td>\n",
       "      <td>0</td>\n",
       "      <td>0</td>\n",
       "      <td>0</td>\n",
       "    </tr>\n",
       "  </tbody>\n",
       "</table>\n",
       "</div>"
      ],
      "text/plain": [
       "                   phrmcy_chg  State_IN  MailRetail_R  Sex_M  \\\n",
       "UID                                                            \n",
       "1001 Medication1            0         1             1      1   \n",
       "1001 Medication10           0         1             1      1   \n",
       "1001 Medication11           0         1             1      1   \n",
       "1001 Medication12           0         1             1      1   \n",
       "1001 Medication13           0         1             1      1   \n",
       "\n",
       "                   PurchasedBy_Spouse       QTY  For_How_Many_Days       Age  \\\n",
       "UID                                                                            \n",
       "1001 Medication1                    0  0.059059           0.055133  0.545455   \n",
       "1001 Medication10                   0  0.059059           0.055133  0.545455   \n",
       "1001 Medication11                   0  0.059059           0.055133  0.545455   \n",
       "1001 Medication12                   0  0.059059           0.055133  0.545455   \n",
       "1001 Medication13                   0  0.179179           0.055133  0.545455   \n",
       "\n",
       "                   AmountPaid  cluster_1  cluster_2  cluster_3  cluster_4  \n",
       "UID                                                                        \n",
       "1001 Medication1     0.004920          0          0          0          0  \n",
       "1001 Medication10    0.002811          0          0          0          0  \n",
       "1001 Medication11    0.002811          0          0          0          0  \n",
       "1001 Medication12    0.002811          0          0          0          0  \n",
       "1001 Medication13    0.014057          0          0          0          0  "
      ]
     },
     "execution_count": 287,
     "metadata": {},
     "output_type": "execute_result"
    }
   ],
   "source": [
    "stdz_dum = pd.get_dummies(data=stdz, columns=['cluster'], drop_first=True)\n",
    "stdz_dum.head()"
   ]
  },
  {
   "cell_type": "markdown",
   "metadata": {},
   "source": [
    "# Second Supervized ML Attempt (with cluster info)\n",
    "We should split our dataset into a train and a test set (80%/20%), and define our target and variables. But first, let's bring our \"adherence\" column back into our stdz dataframe."
   ]
  },
  {
   "cell_type": "code",
   "execution_count": 296,
   "metadata": {},
   "outputs": [
    {
     "data": {
      "text/html": [
       "<div>\n",
       "<style scoped>\n",
       "    .dataframe tbody tr th:only-of-type {\n",
       "        vertical-align: middle;\n",
       "    }\n",
       "\n",
       "    .dataframe tbody tr th {\n",
       "        vertical-align: top;\n",
       "    }\n",
       "\n",
       "    .dataframe thead th {\n",
       "        text-align: right;\n",
       "    }\n",
       "</style>\n",
       "<table border=\"1\" class=\"dataframe\">\n",
       "  <thead>\n",
       "    <tr style=\"text-align: right;\">\n",
       "      <th></th>\n",
       "      <th>UID</th>\n",
       "      <th>phrmcy_chg</th>\n",
       "      <th>State_IN</th>\n",
       "      <th>MailRetail_R</th>\n",
       "      <th>Sex_M</th>\n",
       "      <th>PurchasedBy_Spouse</th>\n",
       "      <th>QTY</th>\n",
       "      <th>For_How_Many_Days</th>\n",
       "      <th>Age</th>\n",
       "      <th>AmountPaid</th>\n",
       "      <th>cluster</th>\n",
       "      <th>adherence</th>\n",
       "    </tr>\n",
       "  </thead>\n",
       "  <tbody>\n",
       "    <tr>\n",
       "      <th>0</th>\n",
       "      <td>1001 Medication1</td>\n",
       "      <td>0</td>\n",
       "      <td>1</td>\n",
       "      <td>1</td>\n",
       "      <td>1</td>\n",
       "      <td>0</td>\n",
       "      <td>0.059059</td>\n",
       "      <td>0.055133</td>\n",
       "      <td>0.545455</td>\n",
       "      <td>0.004920</td>\n",
       "      <td>0</td>\n",
       "      <td>0</td>\n",
       "    </tr>\n",
       "    <tr>\n",
       "      <th>1</th>\n",
       "      <td>1001 Medication10</td>\n",
       "      <td>0</td>\n",
       "      <td>1</td>\n",
       "      <td>1</td>\n",
       "      <td>1</td>\n",
       "      <td>0</td>\n",
       "      <td>0.059059</td>\n",
       "      <td>0.055133</td>\n",
       "      <td>0.545455</td>\n",
       "      <td>0.002811</td>\n",
       "      <td>0</td>\n",
       "      <td>1</td>\n",
       "    </tr>\n",
       "    <tr>\n",
       "      <th>2</th>\n",
       "      <td>1001 Medication11</td>\n",
       "      <td>0</td>\n",
       "      <td>1</td>\n",
       "      <td>1</td>\n",
       "      <td>1</td>\n",
       "      <td>0</td>\n",
       "      <td>0.059059</td>\n",
       "      <td>0.055133</td>\n",
       "      <td>0.545455</td>\n",
       "      <td>0.002811</td>\n",
       "      <td>0</td>\n",
       "      <td>1</td>\n",
       "    </tr>\n",
       "    <tr>\n",
       "      <th>3</th>\n",
       "      <td>1001 Medication12</td>\n",
       "      <td>0</td>\n",
       "      <td>1</td>\n",
       "      <td>1</td>\n",
       "      <td>1</td>\n",
       "      <td>0</td>\n",
       "      <td>0.059059</td>\n",
       "      <td>0.055133</td>\n",
       "      <td>0.545455</td>\n",
       "      <td>0.002811</td>\n",
       "      <td>0</td>\n",
       "      <td>0</td>\n",
       "    </tr>\n",
       "    <tr>\n",
       "      <th>4</th>\n",
       "      <td>1001 Medication13</td>\n",
       "      <td>0</td>\n",
       "      <td>1</td>\n",
       "      <td>1</td>\n",
       "      <td>1</td>\n",
       "      <td>0</td>\n",
       "      <td>0.179179</td>\n",
       "      <td>0.055133</td>\n",
       "      <td>0.545455</td>\n",
       "      <td>0.014057</td>\n",
       "      <td>0</td>\n",
       "      <td>0</td>\n",
       "    </tr>\n",
       "  </tbody>\n",
       "</table>\n",
       "</div>"
      ],
      "text/plain": [
       "                 UID  phrmcy_chg  State_IN  MailRetail_R  Sex_M  \\\n",
       "0   1001 Medication1           0         1             1      1   \n",
       "1  1001 Medication10           0         1             1      1   \n",
       "2  1001 Medication11           0         1             1      1   \n",
       "3  1001 Medication12           0         1             1      1   \n",
       "4  1001 Medication13           0         1             1      1   \n",
       "\n",
       "   PurchasedBy_Spouse       QTY  For_How_Many_Days       Age  AmountPaid  \\\n",
       "0                   0  0.059059           0.055133  0.545455    0.004920   \n",
       "1                   0  0.059059           0.055133  0.545455    0.002811   \n",
       "2                   0  0.059059           0.055133  0.545455    0.002811   \n",
       "3                   0  0.059059           0.055133  0.545455    0.002811   \n",
       "4                   0  0.179179           0.055133  0.545455    0.014057   \n",
       "\n",
       "   cluster  adherence  \n",
       "0        0          0  \n",
       "1        0          1  \n",
       "2        0          1  \n",
       "3        0          0  \n",
       "4        0          0  "
      ]
     },
     "execution_count": 296,
     "metadata": {},
     "output_type": "execute_result"
    }
   ],
   "source": []
  },
  {
   "cell_type": "code",
   "execution_count": 335,
   "metadata": {},
   "outputs": [
    {
     "data": {
      "text/html": [
       "<div>\n",
       "<style scoped>\n",
       "    .dataframe tbody tr th:only-of-type {\n",
       "        vertical-align: middle;\n",
       "    }\n",
       "\n",
       "    .dataframe tbody tr th {\n",
       "        vertical-align: top;\n",
       "    }\n",
       "\n",
       "    .dataframe thead th {\n",
       "        text-align: right;\n",
       "    }\n",
       "</style>\n",
       "<table border=\"1\" class=\"dataframe\">\n",
       "  <thead>\n",
       "    <tr style=\"text-align: right;\">\n",
       "      <th></th>\n",
       "      <th>index</th>\n",
       "      <th>UID</th>\n",
       "      <th>phrmcy_chg</th>\n",
       "      <th>State_IN</th>\n",
       "      <th>MailRetail_R</th>\n",
       "      <th>Sex_M</th>\n",
       "      <th>PurchasedBy_Spouse</th>\n",
       "      <th>QTY</th>\n",
       "      <th>For_How_Many_Days</th>\n",
       "      <th>Age</th>\n",
       "      <th>AmountPaid</th>\n",
       "      <th>cluster_1</th>\n",
       "      <th>cluster_2</th>\n",
       "      <th>cluster_3</th>\n",
       "      <th>cluster_4</th>\n",
       "      <th>adherence</th>\n",
       "    </tr>\n",
       "  </thead>\n",
       "  <tbody>\n",
       "    <tr>\n",
       "      <th>0</th>\n",
       "      <td>0</td>\n",
       "      <td>1001 Medication1</td>\n",
       "      <td>0</td>\n",
       "      <td>1</td>\n",
       "      <td>1</td>\n",
       "      <td>1</td>\n",
       "      <td>0</td>\n",
       "      <td>0.059059</td>\n",
       "      <td>0.055133</td>\n",
       "      <td>0.545455</td>\n",
       "      <td>0.004920</td>\n",
       "      <td>0</td>\n",
       "      <td>0</td>\n",
       "      <td>0</td>\n",
       "      <td>0</td>\n",
       "      <td>0</td>\n",
       "    </tr>\n",
       "    <tr>\n",
       "      <th>1</th>\n",
       "      <td>1</td>\n",
       "      <td>1001 Medication10</td>\n",
       "      <td>0</td>\n",
       "      <td>1</td>\n",
       "      <td>1</td>\n",
       "      <td>1</td>\n",
       "      <td>0</td>\n",
       "      <td>0.059059</td>\n",
       "      <td>0.055133</td>\n",
       "      <td>0.545455</td>\n",
       "      <td>0.002811</td>\n",
       "      <td>0</td>\n",
       "      <td>0</td>\n",
       "      <td>0</td>\n",
       "      <td>0</td>\n",
       "      <td>1</td>\n",
       "    </tr>\n",
       "    <tr>\n",
       "      <th>2</th>\n",
       "      <td>2</td>\n",
       "      <td>1001 Medication11</td>\n",
       "      <td>0</td>\n",
       "      <td>1</td>\n",
       "      <td>1</td>\n",
       "      <td>1</td>\n",
       "      <td>0</td>\n",
       "      <td>0.059059</td>\n",
       "      <td>0.055133</td>\n",
       "      <td>0.545455</td>\n",
       "      <td>0.002811</td>\n",
       "      <td>0</td>\n",
       "      <td>0</td>\n",
       "      <td>0</td>\n",
       "      <td>0</td>\n",
       "      <td>1</td>\n",
       "    </tr>\n",
       "    <tr>\n",
       "      <th>3</th>\n",
       "      <td>3</td>\n",
       "      <td>1001 Medication12</td>\n",
       "      <td>0</td>\n",
       "      <td>1</td>\n",
       "      <td>1</td>\n",
       "      <td>1</td>\n",
       "      <td>0</td>\n",
       "      <td>0.059059</td>\n",
       "      <td>0.055133</td>\n",
       "      <td>0.545455</td>\n",
       "      <td>0.002811</td>\n",
       "      <td>0</td>\n",
       "      <td>0</td>\n",
       "      <td>0</td>\n",
       "      <td>0</td>\n",
       "      <td>0</td>\n",
       "    </tr>\n",
       "    <tr>\n",
       "      <th>4</th>\n",
       "      <td>4</td>\n",
       "      <td>1001 Medication13</td>\n",
       "      <td>0</td>\n",
       "      <td>1</td>\n",
       "      <td>1</td>\n",
       "      <td>1</td>\n",
       "      <td>0</td>\n",
       "      <td>0.179179</td>\n",
       "      <td>0.055133</td>\n",
       "      <td>0.545455</td>\n",
       "      <td>0.014057</td>\n",
       "      <td>0</td>\n",
       "      <td>0</td>\n",
       "      <td>0</td>\n",
       "      <td>0</td>\n",
       "      <td>0</td>\n",
       "    </tr>\n",
       "  </tbody>\n",
       "</table>\n",
       "</div>"
      ],
      "text/plain": [
       "   index                UID  phrmcy_chg  State_IN  MailRetail_R  Sex_M  \\\n",
       "0      0   1001 Medication1           0         1             1      1   \n",
       "1      1  1001 Medication10           0         1             1      1   \n",
       "2      2  1001 Medication11           0         1             1      1   \n",
       "3      3  1001 Medication12           0         1             1      1   \n",
       "4      4  1001 Medication13           0         1             1      1   \n",
       "\n",
       "   PurchasedBy_Spouse       QTY  For_How_Many_Days       Age  AmountPaid  \\\n",
       "0                   0  0.059059           0.055133  0.545455    0.004920   \n",
       "1                   0  0.059059           0.055133  0.545455    0.002811   \n",
       "2                   0  0.059059           0.055133  0.545455    0.002811   \n",
       "3                   0  0.059059           0.055133  0.545455    0.002811   \n",
       "4                   0  0.179179           0.055133  0.545455    0.014057   \n",
       "\n",
       "   cluster_1  cluster_2  cluster_3  cluster_4  adherence  \n",
       "0          0          0          0          0          0  \n",
       "1          0          0          0          0          1  \n",
       "2          0          0          0          0          1  \n",
       "3          0          0          0          0          0  \n",
       "4          0          0          0          0          0  "
      ]
     },
     "execution_count": 335,
     "metadata": {},
     "output_type": "execute_result"
    }
   ],
   "source": [
    "stdz_dum = stdz_dum.reset_index()\n",
    "df_ultimate = stdz_dum.merge(df_grouped['adherence'] , how='inner', on='UID')\n",
    "df_ultimate.head()"
   ]
  },
  {
   "cell_type": "code",
   "execution_count": 336,
   "metadata": {},
   "outputs": [],
   "source": [
    "df_ultimate.set_index('UID',inplace=True)"
   ]
  },
  {
   "cell_type": "code",
   "execution_count": 337,
   "metadata": {},
   "outputs": [
    {
     "name": "stdout",
     "output_type": "stream",
     "text": [
      "(154, 14)\n",
      "(613,)\n",
      "(154,)\n",
      "(613, 14)\n"
     ]
    }
   ],
   "source": [
    "adh2 = df_ultimate['adherence']\n",
    "other_variables2 = df_ultimate.loc[:, ~df_ultimate.columns.isin(['adherence'])]\n",
    "X_train2, X_test2, y_train2, y_test2 = train_test_split(other_variables2, adh2, test_size=0.2)\n",
    "print(X_test2.shape)\n",
    "print(y_train2.shape)\n",
    "print(y_test2.shape)\n",
    "print(X_train2.shape)"
   ]
  },
  {
   "cell_type": "code",
   "execution_count": 338,
   "metadata": {},
   "outputs": [
    {
     "name": "stdout",
     "output_type": "stream",
     "text": [
      "Optimization terminated successfully.\n",
      "         Current function value: 0.545190\n",
      "         Iterations 8\n",
      "                           Results: Logit\n",
      "=====================================================================\n",
      "Model:                Logit             Pseudo R-squared:  0.141     \n",
      "Dependent Variable:   adherence         AIC:               696.4032  \n",
      "Date:                 2019-07-05 18:40  BIC:               758.2604  \n",
      "No. Observations:     613               Log-Likelihood:    -334.20   \n",
      "Df Model:             13                LL-Null:           -389.25   \n",
      "Df Residuals:         599               LLR p-value:       1.7844e-17\n",
      "Converged:            1.0000            Scale:             1.0000    \n",
      "No. Iterations:       8.0000                                         \n",
      "---------------------------------------------------------------------\n",
      "                    Coef.   Std.Err.    z    P>|z|   [0.025   0.975] \n",
      "---------------------------------------------------------------------\n",
      "index               -0.0003   0.0006 -0.5191 0.6037  -0.0014   0.0008\n",
      "phrmcy_chg          -0.0483   0.3302 -0.1463 0.8837  -0.6955   0.5989\n",
      "State_IN            -0.4427   0.9319 -0.4751 0.6347  -2.2692   1.3837\n",
      "MailRetail_R         0.5001   1.0799  0.4631 0.6433  -1.6165   2.6166\n",
      "Sex_M                1.7295   1.3019  1.3284 0.1840  -0.8222   4.2812\n",
      "PurchasedBy_Spouse  -1.9933   1.3715 -1.4534 0.1461  -4.6813   0.6947\n",
      "QTY                  2.0411   1.0684  1.9103 0.0561  -0.0530   4.1352\n",
      "For_How_Many_Days  -44.6064   6.6680 -6.6896 0.0000 -57.6754 -31.5374\n",
      "Age                 -0.5194   0.6246 -0.8315 0.4057  -1.7436   0.7049\n",
      "AmountPaid           1.8605   2.7805  0.6691 0.5034  -3.5892   7.3102\n",
      "cluster_1            3.4093   2.6378  1.2924 0.1962  -1.7608   8.5793\n",
      "cluster_2            2.3466   1.1556  2.0306 0.0423   0.0817   4.6116\n",
      "cluster_3            3.1058   2.3164  1.3408 0.1800  -1.4343   7.6459\n",
      "cluster_4           -0.3297   1.0003 -0.3295 0.7418  -2.2903   1.6310\n",
      "=====================================================================\n",
      "\n"
     ]
    }
   ],
   "source": [
    "l_model=sm.Logit(y_train2,X_train2).fit()\n",
    "print(l_model.summary2())"
   ]
  },
  {
   "cell_type": "markdown",
   "metadata": {},
   "source": [
    "Many variables bring nothing to the model. We will get rid of them later ...if we get the chance to do so!"
   ]
  },
  {
   "cell_type": "code",
   "execution_count": 339,
   "metadata": {},
   "outputs": [
    {
     "name": "stderr",
     "output_type": "stream",
     "text": [
      "/anaconda3/lib/python3.7/site-packages/sklearn/linear_model/logistic.py:433: FutureWarning: Default solver will be changed to 'lbfgs' in 0.22. Specify a solver to silence this warning.\n",
      "  FutureWarning)\n"
     ]
    }
   ],
   "source": [
    "log2 = LogisticRegression()\n",
    "log2.fit(X_train2, y_train2)\n",
    "\n",
    "y_pred2 = log2.predict(X_test2)"
   ]
  },
  {
   "cell_type": "code",
   "execution_count": 368,
   "metadata": {},
   "outputs": [
    {
     "data": {
      "image/png": "[encoded data removed]",
      "text/plain": [
       "<Figure size 576x396 with 1 Axes>"
      ]
     },
     "metadata": {},
     "output_type": "display_data"
    }
   ],
   "source": [
    "logit_roc_auc = roc_auc_score(y_test2, y_pred2)\n",
    "fpr, tpr, thresholds = roc_curve(y_test2, y_pred2)\n",
    "plt.figure()\n",
    "plt.plot(fpr, tpr, label='Logistic Regression (area = %0.2f)' % logit_roc_auc)\n",
    "plt.plot([0, 1], [0, 1],'r--')\n",
    "plt.xlim([0.0, 1.0])\n",
    "plt.ylim([0.0, 1.05])\n",
    "plt.xlabel('False Positive Rate')\n",
    "plt.ylabel('True Positive Rate')\n",
    "plt.title('Receiver operating characteristic')\n",
    "plt.legend(loc=\"lower right\")\n",
    "plt.show()"
   ]
  },
  {
   "cell_type": "markdown",
   "metadata": {},
   "source": [
    "# LOL (not)"
   ]
  },
  {
   "cell_type": "code",
   "execution_count": 341,
   "metadata": {},
   "outputs": [
    {
     "ename": "TypeError",
     "evalue": "'numpy.ndarray' object is not callable",
     "output_type": "error",
     "traceback": [
      "\u001b[0;31m---------------------------------------------------------------------------\u001b[0m",
      "\u001b[0;31mTypeError\u001b[0m                                 Traceback (most recent call last)",
      "\u001b[0;32m<ipython-input-341-82ab2d61b512>\u001b[0m in \u001b[0;36m<module>\u001b[0;34m\u001b[0m\n\u001b[0;32m----> 1\u001b[0;31m \u001b[0mconfusion_matrix\u001b[0m \u001b[0;34m=\u001b[0m \u001b[0mconfusion_matrix\u001b[0m\u001b[0;34m(\u001b[0m\u001b[0my_test2\u001b[0m\u001b[0;34m,\u001b[0m \u001b[0my_pred2\u001b[0m\u001b[0;34m)\u001b[0m\u001b[0;34m\u001b[0m\u001b[0;34m\u001b[0m\u001b[0m\n\u001b[0m\u001b[1;32m      2\u001b[0m \u001b[0mprint\u001b[0m\u001b[0;34m(\u001b[0m\u001b[0mconfusion_matrix\u001b[0m\u001b[0;34m)\u001b[0m\u001b[0;34m\u001b[0m\u001b[0;34m\u001b[0m\u001b[0m\n",
      "\u001b[0;31mTypeError\u001b[0m: 'numpy.ndarray' object is not callable"
     ]
    }
   ],
   "source": [
    "confusion_matrix = confusion_matrix(y_test2, y_pred2)\n",
    "print(confusion_matrix)"
   ]
  },
  {
   "cell_type": "code",
   "execution_count": 342,
   "metadata": {},
   "outputs": [
    {
     "data": {
      "text/html": [
       "<div>\n",
       "<style scoped>\n",
       "    .dataframe tbody tr th:only-of-type {\n",
       "        vertical-align: middle;\n",
       "    }\n",
       "\n",
       "    .dataframe tbody tr th {\n",
       "        vertical-align: top;\n",
       "    }\n",
       "\n",
       "    .dataframe thead th {\n",
       "        text-align: right;\n",
       "    }\n",
       "</style>\n",
       "<table border=\"1\" class=\"dataframe\">\n",
       "  <thead>\n",
       "    <tr style=\"text-align: right;\">\n",
       "      <th></th>\n",
       "      <th>index</th>\n",
       "      <th>phrmcy_chg</th>\n",
       "      <th>State_IN</th>\n",
       "      <th>MailRetail_R</th>\n",
       "      <th>Sex_M</th>\n",
       "      <th>PurchasedBy_Spouse</th>\n",
       "      <th>QTY</th>\n",
       "      <th>For_How_Many_Days</th>\n",
       "      <th>Age</th>\n",
       "      <th>AmountPaid</th>\n",
       "      <th>cluster_1</th>\n",
       "      <th>cluster_2</th>\n",
       "      <th>cluster_3</th>\n",
       "      <th>cluster_4</th>\n",
       "      <th>adherence</th>\n",
       "    </tr>\n",
       "    <tr>\n",
       "      <th>UID</th>\n",
       "      <th></th>\n",
       "      <th></th>\n",
       "      <th></th>\n",
       "      <th></th>\n",
       "      <th></th>\n",
       "      <th></th>\n",
       "      <th></th>\n",
       "      <th></th>\n",
       "      <th></th>\n",
       "      <th></th>\n",
       "      <th></th>\n",
       "      <th></th>\n",
       "      <th></th>\n",
       "      <th></th>\n",
       "      <th></th>\n",
       "    </tr>\n",
       "  </thead>\n",
       "  <tbody>\n",
       "    <tr>\n",
       "      <th>1001 Medication1</th>\n",
       "      <td>0</td>\n",
       "      <td>0</td>\n",
       "      <td>1</td>\n",
       "      <td>1</td>\n",
       "      <td>1</td>\n",
       "      <td>0</td>\n",
       "      <td>0.059059</td>\n",
       "      <td>0.055133</td>\n",
       "      <td>0.545455</td>\n",
       "      <td>0.004920</td>\n",
       "      <td>0</td>\n",
       "      <td>0</td>\n",
       "      <td>0</td>\n",
       "      <td>0</td>\n",
       "      <td>0</td>\n",
       "    </tr>\n",
       "    <tr>\n",
       "      <th>1001 Medication10</th>\n",
       "      <td>1</td>\n",
       "      <td>0</td>\n",
       "      <td>1</td>\n",
       "      <td>1</td>\n",
       "      <td>1</td>\n",
       "      <td>0</td>\n",
       "      <td>0.059059</td>\n",
       "      <td>0.055133</td>\n",
       "      <td>0.545455</td>\n",
       "      <td>0.002811</td>\n",
       "      <td>0</td>\n",
       "      <td>0</td>\n",
       "      <td>0</td>\n",
       "      <td>0</td>\n",
       "      <td>1</td>\n",
       "    </tr>\n",
       "    <tr>\n",
       "      <th>1001 Medication11</th>\n",
       "      <td>2</td>\n",
       "      <td>0</td>\n",
       "      <td>1</td>\n",
       "      <td>1</td>\n",
       "      <td>1</td>\n",
       "      <td>0</td>\n",
       "      <td>0.059059</td>\n",
       "      <td>0.055133</td>\n",
       "      <td>0.545455</td>\n",
       "      <td>0.002811</td>\n",
       "      <td>0</td>\n",
       "      <td>0</td>\n",
       "      <td>0</td>\n",
       "      <td>0</td>\n",
       "      <td>1</td>\n",
       "    </tr>\n",
       "    <tr>\n",
       "      <th>1001 Medication12</th>\n",
       "      <td>3</td>\n",
       "      <td>0</td>\n",
       "      <td>1</td>\n",
       "      <td>1</td>\n",
       "      <td>1</td>\n",
       "      <td>0</td>\n",
       "      <td>0.059059</td>\n",
       "      <td>0.055133</td>\n",
       "      <td>0.545455</td>\n",
       "      <td>0.002811</td>\n",
       "      <td>0</td>\n",
       "      <td>0</td>\n",
       "      <td>0</td>\n",
       "      <td>0</td>\n",
       "      <td>0</td>\n",
       "    </tr>\n",
       "    <tr>\n",
       "      <th>1001 Medication13</th>\n",
       "      <td>4</td>\n",
       "      <td>0</td>\n",
       "      <td>1</td>\n",
       "      <td>1</td>\n",
       "      <td>1</td>\n",
       "      <td>0</td>\n",
       "      <td>0.179179</td>\n",
       "      <td>0.055133</td>\n",
       "      <td>0.545455</td>\n",
       "      <td>0.014057</td>\n",
       "      <td>0</td>\n",
       "      <td>0</td>\n",
       "      <td>0</td>\n",
       "      <td>0</td>\n",
       "      <td>0</td>\n",
       "    </tr>\n",
       "  </tbody>\n",
       "</table>\n",
       "</div>"
      ],
      "text/plain": [
       "                   index  phrmcy_chg  State_IN  MailRetail_R  Sex_M  \\\n",
       "UID                                                                   \n",
       "1001 Medication1       0           0         1             1      1   \n",
       "1001 Medication10      1           0         1             1      1   \n",
       "1001 Medication11      2           0         1             1      1   \n",
       "1001 Medication12      3           0         1             1      1   \n",
       "1001 Medication13      4           0         1             1      1   \n",
       "\n",
       "                   PurchasedBy_Spouse       QTY  For_How_Many_Days       Age  \\\n",
       "UID                                                                            \n",
       "1001 Medication1                    0  0.059059           0.055133  0.545455   \n",
       "1001 Medication10                   0  0.059059           0.055133  0.545455   \n",
       "1001 Medication11                   0  0.059059           0.055133  0.545455   \n",
       "1001 Medication12                   0  0.059059           0.055133  0.545455   \n",
       "1001 Medication13                   0  0.179179           0.055133  0.545455   \n",
       "\n",
       "                   AmountPaid  cluster_1  cluster_2  cluster_3  cluster_4  \\\n",
       "UID                                                                         \n",
       "1001 Medication1     0.004920          0          0          0          0   \n",
       "1001 Medication10    0.002811          0          0          0          0   \n",
       "1001 Medication11    0.002811          0          0          0          0   \n",
       "1001 Medication12    0.002811          0          0          0          0   \n",
       "1001 Medication13    0.014057          0          0          0          0   \n",
       "\n",
       "                   adherence  \n",
       "UID                           \n",
       "1001 Medication1           0  \n",
       "1001 Medication10          1  \n",
       "1001 Medication11          1  \n",
       "1001 Medication12          0  \n",
       "1001 Medication13          0  "
      ]
     },
     "execution_count": 342,
     "metadata": {},
     "output_type": "execute_result"
    }
   ],
   "source": [
    "df_ultimate.head()"
   ]
  },
  {
   "cell_type": "markdown",
   "metadata": {},
   "source": [
    "Now let's try without the useless columns"
   ]
  },
  {
   "cell_type": "code",
   "execution_count": 366,
   "metadata": {},
   "outputs": [],
   "source": [
    "adh3 = df_ultimate['adherence']\n",
    "other_variables3 = df_ultimate.loc[:, ~df_ultimate.columns.isin(['index','cluster_4','MailRetail_R','Age','phrmcy_chg','State_IN','QTY','AmountPaid','adherence'])]\n",
    "X_train3, X_test3, y_train3, y_test3 = train_test_split(other_variables3, adh3, test_size=0.2)"
   ]
  },
  {
   "cell_type": "code",
   "execution_count": 367,
   "metadata": {},
   "outputs": [
    {
     "name": "stdout",
     "output_type": "stream",
     "text": [
      "Optimization terminated successfully.\n",
      "         Current function value: 0.536287\n",
      "         Iterations 8\n",
      "                           Results: Logit\n",
      "=====================================================================\n",
      "Model:                Logit             Pseudo R-squared:  0.157     \n",
      "Dependent Variable:   adherence         AIC:               669.4882  \n",
      "Date:                 2019-07-05 18:44  BIC:               695.9984  \n",
      "No. Observations:     613               Log-Likelihood:    -328.74   \n",
      "Df Model:             5                 LL-Null:           -389.95   \n",
      "Df Residuals:         607               LLR p-value:       9.6614e-25\n",
      "Converged:            1.0000            Scale:             1.0000    \n",
      "No. Iterations:       8.0000                                         \n",
      "---------------------------------------------------------------------\n",
      "                    Coef.   Std.Err.    z    P>|z|   [0.025   0.975] \n",
      "---------------------------------------------------------------------\n",
      "Sex_M                1.9519   0.3756  5.1968 0.0000   1.2158   2.6881\n",
      "PurchasedBy_Spouse  -1.9919   0.5318 -3.7457 0.0002  -3.0342  -0.9496\n",
      "For_How_Many_Days  -50.3079   6.7471 -7.4562 0.0000 -63.5320 -37.0837\n",
      "cluster_1            3.5414   0.8019  4.4160 0.0000   1.9696   5.1131\n",
      "cluster_2            2.7450   0.4417  6.2139 0.0000   1.8792   3.6108\n",
      "cluster_3            3.6145   0.8511  4.2469 0.0000   1.9464   5.2826\n",
      "=====================================================================\n",
      "\n"
     ]
    }
   ],
   "source": [
    "l_model=sm.Logit(y_train3,X_train3).fit()\n",
    "print(l_model.summary2())"
   ]
  },
  {
   "cell_type": "code",
   "execution_count": null,
   "metadata": {},
   "outputs": [],
   "source": []
  },
  {
   "cell_type": "code",
   "execution_count": null,
   "metadata": {},
   "outputs": [],
   "source": []
  },
  {
   "cell_type": "code",
   "execution_count": 325,
   "metadata": {},
   "outputs": [
    {
     "data": {
      "text/html": [
       "<div>\n",
       "<style scoped>\n",
       "    .dataframe tbody tr th:only-of-type {\n",
       "        vertical-align: middle;\n",
       "    }\n",
       "\n",
       "    .dataframe tbody tr th {\n",
       "        vertical-align: top;\n",
       "    }\n",
       "\n",
       "    .dataframe thead th {\n",
       "        text-align: right;\n",
       "    }\n",
       "</style>\n",
       "<table border=\"1\" class=\"dataframe\">\n",
       "  <thead>\n",
       "    <tr style=\"text-align: right;\">\n",
       "      <th></th>\n",
       "      <th>level_0</th>\n",
       "      <th>index</th>\n",
       "      <th>UID</th>\n",
       "      <th>phrmcy_chg</th>\n",
       "      <th>State_IN</th>\n",
       "      <th>MailRetail_R</th>\n",
       "      <th>Sex_M</th>\n",
       "      <th>PurchasedBy_Spouse</th>\n",
       "      <th>QTY</th>\n",
       "      <th>For_How_Many_Days</th>\n",
       "      <th>Age</th>\n",
       "      <th>AmountPaid</th>\n",
       "      <th>cluster</th>\n",
       "      <th>adherence</th>\n",
       "    </tr>\n",
       "  </thead>\n",
       "  <tbody>\n",
       "    <tr>\n",
       "      <th>0</th>\n",
       "      <td>0</td>\n",
       "      <td>0</td>\n",
       "      <td>1001 Medication1</td>\n",
       "      <td>0</td>\n",
       "      <td>1</td>\n",
       "      <td>1</td>\n",
       "      <td>1</td>\n",
       "      <td>0</td>\n",
       "      <td>0.059059</td>\n",
       "      <td>0.055133</td>\n",
       "      <td>0.545455</td>\n",
       "      <td>0.004920</td>\n",
       "      <td>0</td>\n",
       "      <td>0</td>\n",
       "    </tr>\n",
       "    <tr>\n",
       "      <th>1</th>\n",
       "      <td>1</td>\n",
       "      <td>1</td>\n",
       "      <td>1001 Medication10</td>\n",
       "      <td>0</td>\n",
       "      <td>1</td>\n",
       "      <td>1</td>\n",
       "      <td>1</td>\n",
       "      <td>0</td>\n",
       "      <td>0.059059</td>\n",
       "      <td>0.055133</td>\n",
       "      <td>0.545455</td>\n",
       "      <td>0.002811</td>\n",
       "      <td>0</td>\n",
       "      <td>1</td>\n",
       "    </tr>\n",
       "    <tr>\n",
       "      <th>2</th>\n",
       "      <td>2</td>\n",
       "      <td>2</td>\n",
       "      <td>1001 Medication11</td>\n",
       "      <td>0</td>\n",
       "      <td>1</td>\n",
       "      <td>1</td>\n",
       "      <td>1</td>\n",
       "      <td>0</td>\n",
       "      <td>0.059059</td>\n",
       "      <td>0.055133</td>\n",
       "      <td>0.545455</td>\n",
       "      <td>0.002811</td>\n",
       "      <td>0</td>\n",
       "      <td>1</td>\n",
       "    </tr>\n",
       "    <tr>\n",
       "      <th>3</th>\n",
       "      <td>3</td>\n",
       "      <td>3</td>\n",
       "      <td>1001 Medication12</td>\n",
       "      <td>0</td>\n",
       "      <td>1</td>\n",
       "      <td>1</td>\n",
       "      <td>1</td>\n",
       "      <td>0</td>\n",
       "      <td>0.059059</td>\n",
       "      <td>0.055133</td>\n",
       "      <td>0.545455</td>\n",
       "      <td>0.002811</td>\n",
       "      <td>0</td>\n",
       "      <td>0</td>\n",
       "    </tr>\n",
       "    <tr>\n",
       "      <th>4</th>\n",
       "      <td>4</td>\n",
       "      <td>4</td>\n",
       "      <td>1001 Medication13</td>\n",
       "      <td>0</td>\n",
       "      <td>1</td>\n",
       "      <td>1</td>\n",
       "      <td>1</td>\n",
       "      <td>0</td>\n",
       "      <td>0.179179</td>\n",
       "      <td>0.055133</td>\n",
       "      <td>0.545455</td>\n",
       "      <td>0.014057</td>\n",
       "      <td>0</td>\n",
       "      <td>0</td>\n",
       "    </tr>\n",
       "  </tbody>\n",
       "</table>\n",
       "</div>"
      ],
      "text/plain": [
       "   level_0  index                UID  phrmcy_chg  State_IN  MailRetail_R  \\\n",
       "0        0      0   1001 Medication1           0         1             1   \n",
       "1        1      1  1001 Medication10           0         1             1   \n",
       "2        2      2  1001 Medication11           0         1             1   \n",
       "3        3      3  1001 Medication12           0         1             1   \n",
       "4        4      4  1001 Medication13           0         1             1   \n",
       "\n",
       "   Sex_M  PurchasedBy_Spouse       QTY  For_How_Many_Days       Age  \\\n",
       "0      1                   0  0.059059           0.055133  0.545455   \n",
       "1      1                   0  0.059059           0.055133  0.545455   \n",
       "2      1                   0  0.059059           0.055133  0.545455   \n",
       "3      1                   0  0.059059           0.055133  0.545455   \n",
       "4      1                   0  0.179179           0.055133  0.545455   \n",
       "\n",
       "   AmountPaid  cluster  adherence  \n",
       "0    0.004920        0          0  \n",
       "1    0.002811        0          1  \n",
       "2    0.002811        0          1  \n",
       "3    0.002811        0          0  \n",
       "4    0.014057        0          0  "
      ]
     },
     "execution_count": 325,
     "metadata": {},
     "output_type": "execute_result"
    }
   ],
   "source": [
    "stdz = stdz.reset_index()\n",
    "df_ultimate = stdz.merge(df_grouped['adherence'] , how='inner', on='UID')\n",
    "df_ultimate.head()"
   ]
  },
  {
   "cell_type": "code",
   "execution_count": null,
   "metadata": {},
   "outputs": [],
   "source": []
  },
  {
   "cell_type": "code",
   "execution_count": null,
   "metadata": {},
   "outputs": [],
   "source": []
  },
  {
   "cell_type": "code",
   "execution_count": 363,
   "metadata": {},
   "outputs": [
    {
     "data": {
      "text/plain": [
       "<matplotlib.axes._subplots.AxesSubplot at 0x1c25446438>"
      ]
     },
     "execution_count": 363,
     "metadata": {},
     "output_type": "execute_result"
    },
    {
     "data": {
      "image/png": "[encoded data removed]",
      "text/plain": [
       "<Figure size 576x396 with 1 Axes>"
      ]
     },
     "metadata": {},
     "output_type": "display_data"
    }
   ],
   "source": [
    "import seaborn as sns\n",
    "sns.boxplot(df.Age)"
   ]
  }
 ],
 "metadata": {
  "kernelspec": {
   "display_name": "Python 3",
   "language": "python",
   "name": "python3"
  },
  "language_info": {
   "codemirror_mode": {
    "name": "ipython",
    "version": 3
   },
   "file_extension": ".py",
   "mimetype": "text/x-python",
   "name": "python",
   "nbconvert_exporter": "python",
   "pygments_lexer": "ipython3",
   "version": "3.7.3"
  }
 },
 "nbformat": 4,
 "nbformat_minor": 2
}
