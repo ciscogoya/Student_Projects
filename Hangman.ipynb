{
 "cells": [
  {
   "cell_type": "code",
   "execution_count": 3,
   "metadata": {},
   "outputs": [],
   "source": [
    "def select_hard_word():\n",
    "    '''Function retrieves a random word from a word list stored in a remote location\n",
    "    '''\n",
    "    \n",
    "    import urllib.request\n",
    "    import random\n",
    "\n",
    "    word_url = \"http://svnweb.freebsd.org/csrg/share/dict/words?view=co&content-type=text/plain\"\n",
    "    response = urllib.request.urlopen(word_url)\n",
    "    long_txt = response.read().decode()\n",
    "    words = long_txt.splitlines()\n",
    "\n",
    "\n",
    "    secret_word = words[random.randint(0,len(words))].upper()\n",
    "    return secret_word\n",
    "\n",
    "def select_easy_word(word_dict, category):\n",
    "    '''Function selects a random word from a predefined category within a provide dictionary.\n",
    "    '''\n",
    "    \n",
    "    import random\n",
    "    wordIndex = random.randint(0, len(word_dict[category])-1)\n",
    "    return word_dict[category][wordIndex].upper()\n",
    "    \n",
    "#Define function to display available letters\n",
    "def avail_letters(guessed, missed, available_letters):\n",
    "    '''Function displays a colored graphic of letters in the english alphabet and colors them\n",
    "    based on if they have been correctly or incorrectly guessed previously.\n",
    "    REQUIRED COLORAMA TO BE INSTALLED. PIP INSTALL COLORAMA\n",
    "    '''\n",
    "    import colorama as cl\n",
    "    guess_locations = []\n",
    "    missed_locations = []\n",
    "    for i in guessed:\n",
    "        guess_locations.append(available_letters.index(i))\n",
    "    for j in missed:\n",
    "        missed_locations.append(available_letters.index(j))\n",
    "    \n",
    "    print(f\"Available Letters in {cl.Fore.BLUE}Blue{cl.Style.RESET_ALL} below. Black/Red letters already guessed.\")\n",
    "    print(f\"{cl.Fore.GREEN}Green{cl.Style.RESET_ALL} letters highlighted in {cl.Back.YELLOW}Yellow{cl.Style.RESET_ALL} represent correct guesses\")\n",
    "    for i in range(len(available_letters)):\n",
    "        if i in missed_locations:\n",
    "            print(cl.Fore.RED + cl.Back.BLACK + available_letters[i] + cl.Style.RESET_ALL, end=\" \")\n",
    "        elif i in guess_locations:\n",
    "            print(cl.Fore.GREEN +cl.Back.YELLOW + available_letters[i] + cl.Style.RESET_ALL, end=\" \")    \n",
    "        else:\n",
    "            print(cl.Fore.BLUE + available_letters[i] + cl.Style.RESET_ALL, end=\" \")    \n",
    "    return ''\n",
    "\n",
    "#Define function to display current progress\n",
    "def build_graphic(letters_guessed, secret_word):\n",
    "    '''Function displays word graphic, indicating the length of word and\n",
    "    empty spaces where letters have not been correctly guessed yet.\n",
    "    '''\n",
    "    result = ''\n",
    "    for i in secret_word:\n",
    "        if i in letters_guessed:\n",
    "            result += i\n",
    "            result += ' '\n",
    "        else:\n",
    "            result += \"_ \"\n",
    "        \n",
    "    return result.upper()"
   ]
  },
  {
   "cell_type": "code",
   "execution_count": 1,
   "metadata": {},
   "outputs": [
    {
     "name": "stdout",
     "output_type": "stream",
     "text": [
      "Requirement already satisfied: colorama in /anaconda3/lib/python3.7/site-packages (0.4.1)\r\n"
     ]
    }
   ],
   "source": [
    "!pip install colorama"
   ]
  },
  {
   "cell_type": "code",
   "execution_count": 4,
   "metadata": {},
   "outputs": [],
   "source": [
    "def hangman_graphic(i):  \n",
    "    \n",
    "    '''Function displays plot of hanging man illustration for Hangman, where i = the number of cumulative \n",
    "    incorrect guesses made.\n",
    "    '''\n",
    "    \n",
    "    import matplotlib.pyplot as plt\n",
    "    from matplotlib.patches import Circle\n",
    "    \n",
    "    '''Build Gallow'''\n",
    "\n",
    "    fig, ax = plt.subplots()\n",
    "    plt.axis(\"equal\") \n",
    "    plt.plot([6,11],[1,1],color = 'k', linewidth=5.0)\n",
    "    plt.plot([9,9],[1,9],color = 'k', linewidth=5.0)\n",
    "    plt.plot([4,9],[9,9],color = 'k', linewidth=5.0)\n",
    "    plt.plot([8.9,6.5],[7,8.9],color = 'k', linewidth=5.0)\n",
    "    plt.plot([4.8,4.8],[7.5,9],color = 'k', linewidth=2.0)\n",
    "    \n",
    "    if i == 0:\n",
    "        plt.show()\n",
    "        \n",
    "    elif i == 1:   #First miss\n",
    "        # head\n",
    "        circle = plt.Circle((4.8,6.65), 0.8, fill = False, color = 'g')\n",
    "        ax.add_artist(circle)\n",
    "        plt.show()\n",
    "        \n",
    "    elif i == 2:   #Second miss\n",
    "        # head\n",
    "        circle = plt.Circle((4.8,6.65), 0.8, fill = False, color = 'b')\n",
    "        ax.add_artist(circle)\n",
    "        # body\n",
    "        plt.plot([4.8,4.8],[5.8,3.5],color = 'g')\n",
    "        plt.show()\n",
    "        \n",
    "    elif i == 3:    #Third miss (and so on)\n",
    "        # head\n",
    "        circle = plt.Circle((4.8,6.65), 0.8, fill = False, color = 'b')\n",
    "        ax.add_artist(circle)\n",
    "        # body\n",
    "        plt.plot([4.8,4.8],[5.8,3.5],color = 'b')\n",
    "        # add single arm\n",
    "        plt.plot([3.5,4.8],[5.6,5],color = 'g')\n",
    "        plt.show()\n",
    "      \n",
    "    elif i == 4:\n",
    "        # head\n",
    "        circle = plt.Circle((4.8,6.65), 0.8, fill = False, color = 'b')\n",
    "        ax.add_artist(circle)\n",
    "        # body\n",
    "        plt.plot([4.8,4.8],[5.8,3.5],color = 'b')\n",
    "        # add BOTH arms\n",
    "        plt.plot([3.5,4.8],[5.6,5],color = 'b')\n",
    "        plt.plot([4.8, 6.1],[5, 5.6],color = 'g')\n",
    "        plt.show()\n",
    "              \n",
    "    elif i == 5:\n",
    "        # head\n",
    "        circle = plt.Circle((4.8,6.65), 0.8, fill = False, color = 'b')\n",
    "        ax.add_artist(circle)\n",
    "        # body\n",
    "        plt.plot([4.8,4.8],[5.8,3.5],color = 'b')\n",
    "        # arms\n",
    "        plt.plot([3.5,4.8, 6.1],[5.6,5, 5.6],color = 'b')\n",
    "        # add LEFT leg\n",
    "        plt.plot([3.5,4.8],[2.5,3.5],color = 'g')\n",
    "        plt.show()\n",
    "              \n",
    "    elif i == 6:\n",
    "        # head\n",
    "        circle = plt.Circle((4.8,6.65), 0.8, fill = False, color = 'b')\n",
    "        ax.add_artist(circle)\n",
    "        # body\n",
    "        plt.plot([4.8,4.8],[5.8,3.5],color = 'b')\n",
    "        # arms\n",
    "        plt.plot([3.5,4.8, 6.1],[5.6,5, 5.6],color = 'b')\n",
    "        # legs\n",
    "        plt.plot([3.5,4.8],[2.5,3.5],color = 'b')\n",
    "        plt.plot([4.8, 6.1],[3.5,2.5],color = 'g')    \n",
    "        plt.show()\n",
    "        \n",
    "    elif i == 7:\n",
    "        # head\n",
    "        circle = plt.Circle((4.8,6.65), 0.8, fill = False, color = 'b')\n",
    "        ax.add_artist(circle)\n",
    "        # body\n",
    "        plt.plot([4.8,4.8],[5.8,3.5],color = 'b')\n",
    "        # arms\n",
    "        plt.plot([3.5,4.8, 6.1],[5.6,5, 5.6],color = 'b')\n",
    "        # legs\n",
    "        plt.plot([3.5,4.8],[2.5,3.5],color = 'b')\n",
    "        plt.plot([4.8, 6.1],[3.5,2.5],color = 'b')\n",
    "        # Noose\n",
    "        plt.plot([5,4.6,5,4.6,5,4.6],[5.75,5.75,5.55,5.55,5.35, 5.35],color = 'r', linewidth = 1.2)\n",
    "        plt.show()\n",
    "    \n",
    "    else:\n",
    "        # head\n",
    "        circle = plt.Circle((4.8,6.65), 0.8, fill = False, color = 'r')\n",
    "        ax.add_artist(circle)\n",
    "        # body\n",
    "        plt.plot([4.8,4.8],[5.8,3.5],color = 'r')\n",
    "        # arms\n",
    "        plt.plot([3.5,4.8, 6.1],[5.6,5, 5.6],color = 'r')\n",
    "        # legs\n",
    "        plt.plot([3.5,4.8],[2.5,3.5],color = 'r')\n",
    "        plt.plot([4.8, 6.1],[3.5,2.5],color = 'r')\n",
    "        # Noose\n",
    "        plt.plot([5,4.6,5,4.6,5,4.6],[5.75,5.75,5.55,5.55,5.35, 5.35],color = 'k', linewidth = 1.2)\n",
    "        # Eyes\n",
    "        plt.plot([4.4,4.5, 4.6],[7,6.9, 7],color = 'm')\n",
    "        plt.plot([4.4,4.5, 4.6],[6.8,6.9, 6.8],color = 'm')\n",
    "        plt.plot([5.0,5.1, 5.2],[7,6.9, 7],color = 'm')\n",
    "        plt.plot([5.0,5.1, 5.2],[6.8,6.9, 6.8],color = 'm')\n",
    "        # Mouth\n",
    "        circle_m = plt.Circle((4.8,6.3), 0.2, fill = False, color = 'm')\n",
    "        ax.add_artist(circle_m)\n",
    "        plt.show()"
   ]
  },
  {
   "cell_type": "code",
   "execution_count": 5,
   "metadata": {},
   "outputs": [
    {
     "name": "stdout",
     "output_type": "stream",
     "text": [
      "Welcome to Hangman!!!\n",
      "Select Difficulty: (E)asy or (H)ard:  h\n",
      "\n",
      "Difficulty Level: Hard Selected! Good luck...\n",
      "\n",
      "_ _ _ _ _ \n"
     ]
    },
    {
     "data": {
      "image/png": "[encoded data removed]",
      "text/plain": [
       "<Figure size 432x288 with 1 Axes>"
      ]
     },
     "metadata": {
      "needs_background": "light"
     },
     "output_type": "display_data"
    },
    {
     "name": "stdout",
     "output_type": "stream",
     "text": [
      "\n",
      "Available Letters in \u001b[34mBlue\u001b[0m below. Black/Red letters already guessed.\n",
      "\u001b[32mGreen\u001b[0m letters highlighted in \u001b[43mYellow\u001b[0m represent correct guesses\n",
      "\u001b[34mA\u001b[0m \u001b[34mB\u001b[0m \u001b[34mC\u001b[0m \u001b[34mD\u001b[0m \u001b[34mE\u001b[0m \u001b[34mF\u001b[0m \u001b[34mG\u001b[0m \u001b[34mH\u001b[0m \u001b[34mI\u001b[0m \u001b[34mJ\u001b[0m \u001b[34mK\u001b[0m \u001b[34mL\u001b[0m \u001b[34mM\u001b[0m \u001b[34mN\u001b[0m \u001b[34mO\u001b[0m \u001b[34mP\u001b[0m \u001b[34mQ\u001b[0m \u001b[34mR\u001b[0m \u001b[34mS\u001b[0m \u001b[34mT\u001b[0m \u001b[34mU\u001b[0m \u001b[34mV\u001b[0m \u001b[34mW\u001b[0m \u001b[34mX\u001b[0m \u001b[34mY\u001b[0m \u001b[34mZ\u001b[0m \n",
      "\n",
      "The number of available failed attempts is: 8\n",
      "\n",
      "Guess a single letter! or $ to QUIT: a\n",
      "a\n",
      "Good Guess - letter is in word\n",
      "---------------------------------\n",
      "\n",
      "_ _ A _ _ \n"
     ]
    },
    {
     "data": {
      "image/png": "[encoded data removed]",
      "text/plain": [
       "<Figure size 432x288 with 1 Axes>"
      ]
     },
     "metadata": {
      "needs_background": "light"
     },
     "output_type": "display_data"
    },
    {
     "name": "stdout",
     "output_type": "stream",
     "text": [
      "\n",
      "Available Letters in \u001b[34mBlue\u001b[0m below. Black/Red letters already guessed.\n",
      "\u001b[32mGreen\u001b[0m letters highlighted in \u001b[43mYellow\u001b[0m represent correct guesses\n",
      "\u001b[32m\u001b[43mA\u001b[0m \u001b[34mB\u001b[0m \u001b[34mC\u001b[0m \u001b[34mD\u001b[0m \u001b[34mE\u001b[0m \u001b[34mF\u001b[0m \u001b[34mG\u001b[0m \u001b[34mH\u001b[0m \u001b[34mI\u001b[0m \u001b[34mJ\u001b[0m \u001b[34mK\u001b[0m \u001b[34mL\u001b[0m \u001b[34mM\u001b[0m \u001b[34mN\u001b[0m \u001b[34mO\u001b[0m \u001b[34mP\u001b[0m \u001b[34mQ\u001b[0m \u001b[34mR\u001b[0m \u001b[34mS\u001b[0m \u001b[34mT\u001b[0m \u001b[34mU\u001b[0m \u001b[34mV\u001b[0m \u001b[34mW\u001b[0m \u001b[34mX\u001b[0m \u001b[34mY\u001b[0m \u001b[34mZ\u001b[0m \n",
      "\n",
      "The number of available failed attempts is: 8\n",
      "\n",
      "Guess a single letter! or $ to QUIT: s\n",
      "s\n",
      "Terrible guess - letter is not in the word. Try again.\n",
      "---------------------------------\n",
      "\n",
      "_ _ A _ _ \n"
     ]
    },
    {
     "data": {
      "image/png": "[encoded data removed]",
      "text/plain": [
       "<Figure size 432x288 with 1 Axes>"
      ]
     },
     "metadata": {
      "needs_background": "light"
     },
     "output_type": "display_data"
    },
    {
     "name": "stdout",
     "output_type": "stream",
     "text": [
      "\n",
      "Available Letters in \u001b[34mBlue\u001b[0m below. Black/Red letters already guessed.\n",
      "\u001b[32mGreen\u001b[0m letters highlighted in \u001b[43mYellow\u001b[0m represent correct guesses\n",
      "\u001b[32m\u001b[43mA\u001b[0m \u001b[34mB\u001b[0m \u001b[34mC\u001b[0m \u001b[34mD\u001b[0m \u001b[34mE\u001b[0m \u001b[34mF\u001b[0m \u001b[34mG\u001b[0m \u001b[34mH\u001b[0m \u001b[34mI\u001b[0m \u001b[34mJ\u001b[0m \u001b[34mK\u001b[0m \u001b[34mL\u001b[0m \u001b[34mM\u001b[0m \u001b[34mN\u001b[0m \u001b[34mO\u001b[0m \u001b[34mP\u001b[0m \u001b[34mQ\u001b[0m \u001b[34mR\u001b[0m \u001b[31m\u001b[40mS\u001b[0m \u001b[34mT\u001b[0m \u001b[34mU\u001b[0m \u001b[34mV\u001b[0m \u001b[34mW\u001b[0m \u001b[34mX\u001b[0m \u001b[34mY\u001b[0m \u001b[34mZ\u001b[0m \n",
      "\n",
      "The number of available failed attempts is: 7\n",
      "\n",
      "Guess a single letter! or $ to QUIT: d\n",
      "d\n",
      "Terrible guess - letter is not in the word. Try again.\n",
      "---------------------------------\n",
      "\n",
      "_ _ A _ _ \n"
     ]
    },
    {
     "data": {
      "image/png": "[encoded data removed]",
      "text/plain": [
       "<Figure size 432x288 with 1 Axes>"
      ]
     },
     "metadata": {
      "needs_background": "light"
     },
     "output_type": "display_data"
    },
    {
     "name": "stdout",
     "output_type": "stream",
     "text": [
      "\n",
      "Available Letters in \u001b[34mBlue\u001b[0m below. Black/Red letters already guessed.\n",
      "\u001b[32mGreen\u001b[0m letters highlighted in \u001b[43mYellow\u001b[0m represent correct guesses\n",
      "\u001b[32m\u001b[43mA\u001b[0m \u001b[34mB\u001b[0m \u001b[34mC\u001b[0m \u001b[31m\u001b[40mD\u001b[0m \u001b[34mE\u001b[0m \u001b[34mF\u001b[0m \u001b[34mG\u001b[0m \u001b[34mH\u001b[0m \u001b[34mI\u001b[0m \u001b[34mJ\u001b[0m \u001b[34mK\u001b[0m \u001b[34mL\u001b[0m \u001b[34mM\u001b[0m \u001b[34mN\u001b[0m \u001b[34mO\u001b[0m \u001b[34mP\u001b[0m \u001b[34mQ\u001b[0m \u001b[34mR\u001b[0m \u001b[31m\u001b[40mS\u001b[0m \u001b[34mT\u001b[0m \u001b[34mU\u001b[0m \u001b[34mV\u001b[0m \u001b[34mW\u001b[0m \u001b[34mX\u001b[0m \u001b[34mY\u001b[0m \u001b[34mZ\u001b[0m \n",
      "\n",
      "The number of available failed attempts is: 6\n",
      "\n",
      "Guess a single letter! or $ to QUIT: r\n",
      "r\n",
      "Good Guess - letter is in word\n",
      "---------------------------------\n",
      "\n",
      "_ _ A _ R \n"
     ]
    },
    {
     "data": {
      "image/png": "[encoded data removed]",
      "text/plain": [
       "<Figure size 432x288 with 1 Axes>"
      ]
     },
     "metadata": {
      "needs_background": "light"
     },
     "output_type": "display_data"
    },
    {
     "name": "stdout",
     "output_type": "stream",
     "text": [
      "\n",
      "Available Letters in \u001b[34mBlue\u001b[0m below. Black/Red letters already guessed.\n",
      "\u001b[32mGreen\u001b[0m letters highlighted in \u001b[43mYellow\u001b[0m represent correct guesses\n",
      "\u001b[32m\u001b[43mA\u001b[0m \u001b[34mB\u001b[0m \u001b[34mC\u001b[0m \u001b[31m\u001b[40mD\u001b[0m \u001b[34mE\u001b[0m \u001b[34mF\u001b[0m \u001b[34mG\u001b[0m \u001b[34mH\u001b[0m \u001b[34mI\u001b[0m \u001b[34mJ\u001b[0m \u001b[34mK\u001b[0m \u001b[34mL\u001b[0m \u001b[34mM\u001b[0m \u001b[34mN\u001b[0m \u001b[34mO\u001b[0m \u001b[34mP\u001b[0m \u001b[34mQ\u001b[0m \u001b[32m\u001b[43mR\u001b[0m \u001b[31m\u001b[40mS\u001b[0m \u001b[34mT\u001b[0m \u001b[34mU\u001b[0m \u001b[34mV\u001b[0m \u001b[34mW\u001b[0m \u001b[34mX\u001b[0m \u001b[34mY\u001b[0m \u001b[34mZ\u001b[0m \n",
      "\n",
      "The number of available failed attempts is: 6\n",
      "\n",
      "Guess a single letter! or $ to QUIT: u\n",
      "u\n",
      "Terrible guess - letter is not in the word. Try again.\n",
      "---------------------------------\n",
      "\n",
      "_ _ A _ R \n"
     ]
    },
    {
     "data": {
      "image/png": "[encoded data removed]",
      "text/plain": [
       "<Figure size 432x288 with 1 Axes>"
      ]
     },
     "metadata": {
      "needs_background": "light"
     },
     "output_type": "display_data"
    },
    {
     "name": "stdout",
     "output_type": "stream",
     "text": [
      "\n",
      "Available Letters in \u001b[34mBlue\u001b[0m below. Black/Red letters already guessed.\n",
      "\u001b[32mGreen\u001b[0m letters highlighted in \u001b[43mYellow\u001b[0m represent correct guesses\n",
      "\u001b[32m\u001b[43mA\u001b[0m \u001b[34mB\u001b[0m \u001b[34mC\u001b[0m \u001b[31m\u001b[40mD\u001b[0m \u001b[34mE\u001b[0m \u001b[34mF\u001b[0m \u001b[34mG\u001b[0m \u001b[34mH\u001b[0m \u001b[34mI\u001b[0m \u001b[34mJ\u001b[0m \u001b[34mK\u001b[0m \u001b[34mL\u001b[0m \u001b[34mM\u001b[0m \u001b[34mN\u001b[0m \u001b[34mO\u001b[0m \u001b[34mP\u001b[0m \u001b[34mQ\u001b[0m \u001b[32m\u001b[43mR\u001b[0m \u001b[31m\u001b[40mS\u001b[0m \u001b[34mT\u001b[0m \u001b[31m\u001b[40mU\u001b[0m \u001b[34mV\u001b[0m \u001b[34mW\u001b[0m \u001b[34mX\u001b[0m \u001b[34mY\u001b[0m \u001b[34mZ\u001b[0m \n",
      "\n",
      "The number of available failed attempts is: 5\n",
      "\n",
      "Guess a single letter! or $ to QUIT: i\n",
      "i\n",
      "Good Guess - letter is in word\n",
      "---------------------------------\n",
      "\n",
      "_ _ A I R \n"
     ]
    },
    {
     "data": {
      "image/png": "[encoded data removed]",
      "text/plain": [
       "<Figure size 432x288 with 1 Axes>"
      ]
     },
     "metadata": {
      "needs_background": "light"
     },
     "output_type": "display_data"
    },
    {
     "name": "stdout",
     "output_type": "stream",
     "text": [
      "\n",
      "Available Letters in \u001b[34mBlue\u001b[0m below. Black/Red letters already guessed.\n",
      "\u001b[32mGreen\u001b[0m letters highlighted in \u001b[43mYellow\u001b[0m represent correct guesses\n",
      "\u001b[32m\u001b[43mA\u001b[0m \u001b[34mB\u001b[0m \u001b[34mC\u001b[0m \u001b[31m\u001b[40mD\u001b[0m \u001b[34mE\u001b[0m \u001b[34mF\u001b[0m \u001b[34mG\u001b[0m \u001b[34mH\u001b[0m \u001b[32m\u001b[43mI\u001b[0m \u001b[34mJ\u001b[0m \u001b[34mK\u001b[0m \u001b[34mL\u001b[0m \u001b[34mM\u001b[0m \u001b[34mN\u001b[0m \u001b[34mO\u001b[0m \u001b[34mP\u001b[0m \u001b[34mQ\u001b[0m \u001b[32m\u001b[43mR\u001b[0m \u001b[31m\u001b[40mS\u001b[0m \u001b[34mT\u001b[0m \u001b[31m\u001b[40mU\u001b[0m \u001b[34mV\u001b[0m \u001b[34mW\u001b[0m \u001b[34mX\u001b[0m \u001b[34mY\u001b[0m \u001b[34mZ\u001b[0m \n",
      "\n",
      "The number of available failed attempts is: 5\n",
      "\n",
      "Guess a single letter! or $ to QUIT: f\n",
      "f\n",
      "Terrible guess - letter is not in the word. Try again.\n",
      "---------------------------------\n",
      "\n",
      "_ _ A I R \n"
     ]
    },
    {
     "data": {
      "image/png": "[encoded data removed]",
      "text/plain": [
       "<Figure size 432x288 with 1 Axes>"
      ]
     },
     "metadata": {
      "needs_background": "light"
     },
     "output_type": "display_data"
    },
    {
     "name": "stdout",
     "output_type": "stream",
     "text": [
      "\n",
      "Available Letters in \u001b[34mBlue\u001b[0m below. Black/Red letters already guessed.\n",
      "\u001b[32mGreen\u001b[0m letters highlighted in \u001b[43mYellow\u001b[0m represent correct guesses\n",
      "\u001b[32m\u001b[43mA\u001b[0m \u001b[34mB\u001b[0m \u001b[34mC\u001b[0m \u001b[31m\u001b[40mD\u001b[0m \u001b[34mE\u001b[0m \u001b[31m\u001b[40mF\u001b[0m \u001b[34mG\u001b[0m \u001b[34mH\u001b[0m \u001b[32m\u001b[43mI\u001b[0m \u001b[34mJ\u001b[0m \u001b[34mK\u001b[0m \u001b[34mL\u001b[0m \u001b[34mM\u001b[0m \u001b[34mN\u001b[0m \u001b[34mO\u001b[0m \u001b[34mP\u001b[0m \u001b[34mQ\u001b[0m \u001b[32m\u001b[43mR\u001b[0m \u001b[31m\u001b[40mS\u001b[0m \u001b[34mT\u001b[0m \u001b[31m\u001b[40mU\u001b[0m \u001b[34mV\u001b[0m \u001b[34mW\u001b[0m \u001b[34mX\u001b[0m \u001b[34mY\u001b[0m \u001b[34mZ\u001b[0m \n",
      "\n",
      "The number of available failed attempts is: 4\n",
      "\n",
      "Guess a single letter! or $ to QUIT: b\n",
      "b\n",
      "Good Guess - letter is in word\n",
      "---------------------------------\n",
      "\n",
      "B _ A I R \n"
     ]
    },
    {
     "data": {
      "image/png": "[encoded data removed]",
      "text/plain": [
       "<Figure size 432x288 with 1 Axes>"
      ]
     },
     "metadata": {
      "needs_background": "light"
     },
     "output_type": "display_data"
    },
    {
     "name": "stdout",
     "output_type": "stream",
     "text": [
      "\n",
      "Available Letters in \u001b[34mBlue\u001b[0m below. Black/Red letters already guessed.\n",
      "\u001b[32mGreen\u001b[0m letters highlighted in \u001b[43mYellow\u001b[0m represent correct guesses\n",
      "\u001b[32m\u001b[43mA\u001b[0m \u001b[32m\u001b[43mB\u001b[0m \u001b[34mC\u001b[0m \u001b[31m\u001b[40mD\u001b[0m \u001b[34mE\u001b[0m \u001b[31m\u001b[40mF\u001b[0m \u001b[34mG\u001b[0m \u001b[34mH\u001b[0m \u001b[32m\u001b[43mI\u001b[0m \u001b[34mJ\u001b[0m \u001b[34mK\u001b[0m \u001b[34mL\u001b[0m \u001b[34mM\u001b[0m \u001b[34mN\u001b[0m \u001b[34mO\u001b[0m \u001b[34mP\u001b[0m \u001b[34mQ\u001b[0m \u001b[32m\u001b[43mR\u001b[0m \u001b[31m\u001b[40mS\u001b[0m \u001b[34mT\u001b[0m \u001b[31m\u001b[40mU\u001b[0m \u001b[34mV\u001b[0m \u001b[34mW\u001b[0m \u001b[34mX\u001b[0m \u001b[34mY\u001b[0m \u001b[34mZ\u001b[0m \n",
      "\n",
      "The number of available failed attempts is: 4\n",
      "\n",
      "Guess a single letter! or $ to QUIT: l\n",
      "l\n",
      "Good Guess - letter is in word\n",
      "---------------------------------\n",
      "\n",
      "B L A I R \n"
     ]
    },
    {
     "data": {
      "image/png": "[encoded data removed]",
      "text/plain": [
       "<Figure size 432x288 with 1 Axes>"
      ]
     },
     "metadata": {
      "needs_background": "light"
     },
     "output_type": "display_data"
    },
    {
     "data": {
      "text/plain": [
       "'You WIN and you are AWESOME'"
      ]
     },
     "execution_count": 5,
     "metadata": {},
     "output_type": "execute_result"
    }
   ],
   "source": [
    "def hangman():\n",
    "    \n",
    "    '''Plays a fun interactive game of hangman!'''\n",
    " \n",
    "    print('Welcome to Hangman!!!')\n",
    "        \n",
    "    flag  = False  #Difficulty switch\n",
    "    \n",
    "    '''Step 1  - Select Difficulty'''\n",
    "    \n",
    "    while flag == False:\n",
    "        difficulty = input(\"Select Difficulty: (E)asy or (H)ard:  \")\n",
    "        \n",
    "        if difficulty.upper() == 'E' or difficulty.upper() == 'EASY':\n",
    "            print(\"\")\n",
    "            print(f\"Difficulty Level: Easy Selected!\")\n",
    "            diff = 0\n",
    "            flag = True\n",
    "            \n",
    "        elif difficulty.upper() == 'H' or difficulty.upper() == 'HARD':\n",
    "            print(\"\")\n",
    "            print(f\"Difficulty Level: Hard Selected! Good luck...\")\n",
    "            diff = 1\n",
    "            flag = True\n",
    "            \n",
    "        else:\n",
    "            print(\"\")\n",
    "            print(\"Please enter a valid difficulty\")\n",
    "    \n",
    "    \n",
    "    '''Step 2 - Word Selection'''\n",
    "    \n",
    "    \n",
    "    if diff == 1:  #Difficulty = Hard\n",
    "\n",
    "        secret_word = select_hard_word() \n",
    "        misses_left = 8\n",
    "\n",
    "    elif diff == 0: #Difficulty = Easy\n",
    "        \n",
    "        e_flag = False\n",
    "    \n",
    "        easy_dict = {'fruits': ['apple','orange','lemon','lime','pear','watermelon','grape','grapefruit','cherry','banana','cantaloupe','mango','strawberry','tomato'],\n",
    "                 'colors': ['red','orange','yellow','green','blue','indigo','violet','white','black','brown'],\n",
    "                 'shapes': ['square','triangle','rectangle','circle','ellipse','rhombus','trapezoid','chevron','pentagon','hexagon','septagon','octagon'],\n",
    "                 'animals': ['aardvark','bat','bear','beaver','cat','cougar','crab','deer','dog','donkey','duck','eagle','fish','frog','goat',\n",
    "                              'leech','lion','lizard','monkey','moose','mouse','otter','owl','panda','platypus','python','rabbit','rat','shark','sheep','skunk',\n",
    "                              'squid','tiger','turkey','turtle','weasel','whale','wolf','wombat','zebra'],\n",
    "                'ironhack': ['armen','deskopolitan','eldiias','prework','git','gitbash','debug','spyder','slack','voltaire']}\n",
    "        \n",
    "        print(\"Easy Mode Activated. Your Available Categories Are:\")\n",
    "        \n",
    "        for i in easy_dict:\n",
    "            print(i.upper())\n",
    "            \n",
    "        '''Select category from the keys in the easy word dictionary easy_dict'''\n",
    "        \n",
    "        while e_flag == False:\n",
    "        \n",
    "            category = input(\"Type a Category from the above list of options:  \")\n",
    "        \n",
    "            if category.isalpha() != True:\n",
    "                print(\"Please enter a valid category!\")\n",
    "            elif category.lower() not in easy_dict:\n",
    "                print(\"Please enter a valid category!\")\n",
    "            else:\n",
    "                e_flag = True\n",
    "                \n",
    "        secret_word = select_easy_word(easy_dict, category.lower())\n",
    "\n",
    "        misses_left = 8\n",
    "        \n",
    "        \n",
    "    '''Step 3 - Initialize Everything'''\n",
    "    misses = []\n",
    "    letters_guessed = []\n",
    "    available_letters = 'ABCDEFGHIJKLMNOPQRSTUVWXYZ'\n",
    "    \n",
    "    \n",
    "    '''Step 4 - Play Game'''\n",
    "    while misses_left > 0:\n",
    "            \n",
    "        print('')\n",
    "        x=(build_graphic(letters_guessed,secret_word))\n",
    "        print(x)\n",
    "        \n",
    "        \n",
    "        %matplotlib inline\n",
    "        \n",
    "        hangman_graphic(len(set(misses)))\n",
    "        \n",
    "        if \"_\" not in x:\n",
    "            return(\"You WIN and you are AWESOME\")\n",
    "\n",
    "        print('')\n",
    "        print(avail_letters(letters_guessed, misses, available_letters))\n",
    "        print('')\n",
    "        print(f'The number of available failed attempts is: {misses_left}')\n",
    "        print('')\n",
    "        guess = input('Guess a single letter! or $ to QUIT: ')\n",
    "        \n",
    "        print(guess)\n",
    "\n",
    "        if guess == '$':\n",
    "            return('User quit, game over')\n",
    "\n",
    "\n",
    "        #Check errors (incl. letters already tried, not letters, length)\n",
    "\n",
    "        elif guess.isalpha() == False or len(str(guess)) > 1:\n",
    "            print('')\n",
    "            print('Please select an actual single letter from the english alphabet - see list of available letters. Try again.')\n",
    "\n",
    "        elif guess.upper() in misses or guess.upper() in letters_guessed:\n",
    "            print('')\n",
    "            print('Letter already guessed! Pay attention SVP.')\n",
    "        \n",
    "        else:\n",
    "            guess = guess.upper()\n",
    "\n",
    "            if guess in secret_word:\n",
    "                letters_guessed.append(guess)\n",
    "                print('Good Guess - letter is in word')\n",
    "\n",
    "            else:\n",
    "                misses.append(guess)\n",
    "                misses_left -= 1\n",
    "                print(\"Terrible guess - letter is not in the word. Try again.\")\n",
    "\n",
    "            print(\"---------------------------------\")\n",
    "\n",
    "    print(f\"You lose and you get nothing. Your life isn't worth living. The word was {secret_word}\")\n",
    "    hangman_graphic(len(set(misses)))\n",
    "    return('Lost')\n",
    "\n",
    "hangman()"
   ]
  }
 ],
 "metadata": {
  "kernelspec": {
   "display_name": "Python 3",
   "language": "python",
   "name": "python3"
  },
  "language_info": {
   "codemirror_mode": {
    "name": "ipython",
    "version": 3
   },
   "file_extension": ".py",
   "mimetype": "text/x-python",
   "name": "python",
   "nbconvert_exporter": "python",
   "pygments_lexer": "ipython3",
   "version": "3.7.3"
  }
 },
 "nbformat": 4,
 "nbformat_minor": 2
}
